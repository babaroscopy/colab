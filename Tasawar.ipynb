{
  "nbformat": 4,
  "nbformat_minor": 0,
  "metadata": {
    "colab": {
      "provenance": [],
      "authorship_tag": "ABX9TyNAc5ZWTuBKc4hj6hs5/VNG",
      "include_colab_link": true
    },
    "kernelspec": {
      "name": "python3",
      "display_name": "Python 3"
    },
    "language_info": {
      "name": "python"
    }
  },
  "cells": [
    {
      "cell_type": "markdown",
      "metadata": {
        "id": "view-in-github",
        "colab_type": "text"
      },
      "source": [
        "<a href=\"https://colab.research.google.com/github/babaroscopy/colab/blob/main/Tasawar.ipynb\" target=\"_parent\"><img src=\"https://colab.research.google.com/assets/colab-badge.svg\" alt=\"Open In Colab\"/></a>"
      ]
    },
    {
      "cell_type": "code",
      "execution_count": 52,
      "metadata": {
        "id": "5x5ZRxrMECak"
      },
      "outputs": [],
      "source": [
        "import pandas as pd\n",
        "import numpy as np\n",
        "import tensorflow as tf\n",
        "from tensorflow.keras import datasets, layers, models\n",
        "from tensorflow.keras.utils import to_categorical\n",
        "from keras.models import Sequential\n",
        "from keras.layers import Dense, LSTM, BatchNormalization\n",
        "from keras.wrappers.scikit_learn import KerasClassifier\n",
        "from keras.utils import np_utils\n",
        "from sklearn.preprocessing import LabelEncoder\n",
        "from sklearn.model_selection import train_test_split"
      ]
    },
    {
      "cell_type": "code",
      "source": [
        "df = pd.read_csv(\"google.csv\", header=None)\n",
        "#X = np.array(df.iloc[:, df.columns != 16])\n",
        "#Y = np.array(df.iloc[:, df.columns == 16])\n",
        "X = df.iloc[:,0:16].values\n",
        "y = df.iloc[:,16].values"
      ],
      "metadata": {
        "id": "ueLkmNrUEH2R"
      },
      "execution_count": 39,
      "outputs": []
    },
    {
      "cell_type": "code",
      "source": [
        "print(X[0:5])\n",
        "print(y[0:5])"
      ],
      "metadata": {
        "colab": {
          "base_uri": "https://localhost:8080/"
        },
        "id": "i46UBiNTKdMm",
        "outputId": "7016b0bf-2655-477b-c7e5-0fdc8e0b4ed1"
      },
      "execution_count": 40,
      "outputs": [
        {
          "output_type": "stream",
          "name": "stdout",
          "text": [
            "[[3.418309e+06 1.000000e+00 1.568000e-03 6.787000e-02 7.556000e-02\n",
            "  3.195000e-04 7.000000e-04 6.787000e-02 1.879000e-04 3.302000e-02\n",
            "  9.289000e-04 2.100000e+00 5.791000e-03 0.000000e+00 1.000000e+00\n",
            "  0.000000e+00]\n",
            " [3.418314e+06 0.000000e+00 3.071000e-04 8.044000e-02 9.521000e-02\n",
            "  2.823000e-04 6.704000e-04 8.044000e-02 1.841000e-04 2.377000e-02\n",
            "  7.858000e-04 5.588000e+00 2.080000e-02 0.000000e+00 1.000000e+00\n",
            "  0.000000e+00]\n",
            " [3.418314e+06 1.000000e+00 3.004000e-04 8.044000e-02 9.521000e-02\n",
            "  5.369000e-04 8.698000e-04 8.044000e-02 1.831000e-04 7.919000e-03\n",
            "  2.285000e-03 5.198000e+00 2.038000e-02 0.000000e+00 1.000000e+00\n",
            "  0.000000e+00]\n",
            " [3.418319e+06 0.000000e+00 4.606000e-04 7.715000e-02 8.740000e-02\n",
            "  6.247000e-04 8.516000e-04 7.715000e-02 2.041000e-04 5.112000e-03\n",
            "  2.146000e-04 2.937000e+00 9.449000e-03 0.000000e+00 1.000000e+00\n",
            "  0.000000e+00]\n",
            " [3.418319e+06 1.000000e+00 5.188000e-04 7.678000e-02 8.740000e-02\n",
            "  3.376000e-04 7.210000e-04 7.678000e-02 2.041000e-04 1.508000e-02\n",
            "  9.289000e-04 3.055000e+00 1.007000e-02 0.000000e+00 1.000000e+00\n",
            "  0.000000e+00]]\n",
            "[0 0 0 0 0]\n"
          ]
        }
      ]
    },
    {
      "cell_type": "code",
      "source": [
        "print(X.shape)\n",
        "print(y.shape)"
      ],
      "metadata": {
        "colab": {
          "base_uri": "https://localhost:8080/"
        },
        "id": "NOONPZb-KjQg",
        "outputId": "e133d556-d97c-461f-c106-98e897fd4ed1"
      },
      "execution_count": 41,
      "outputs": [
        {
          "output_type": "stream",
          "name": "stdout",
          "text": [
            "(5000, 16)\n",
            "(5000,)\n"
          ]
        }
      ]
    },
    {
      "cell_type": "code",
      "source": [
        "encoder =  LabelEncoder()\n",
        "y1 = encoder.fit_transform(y)"
      ],
      "metadata": {
        "id": "OZpUUWpKKsD2"
      },
      "execution_count": 42,
      "outputs": []
    },
    {
      "cell_type": "code",
      "source": [
        "print(y1)"
      ],
      "metadata": {
        "colab": {
          "base_uri": "https://localhost:8080/"
        },
        "id": "khIZ7CjPKudL",
        "outputId": "44d24158-4b6d-42d5-d93e-561661df0739"
      },
      "execution_count": 43,
      "outputs": [
        {
          "output_type": "stream",
          "name": "stdout",
          "text": [
            "[0 0 0 ... 0 0 0]\n"
          ]
        }
      ]
    },
    {
      "cell_type": "code",
      "source": [
        "Y = pd.get_dummies(y1).values\n",
        "print(Y[0:5])"
      ],
      "metadata": {
        "colab": {
          "base_uri": "https://localhost:8080/"
        },
        "id": "LelB_xelKukY",
        "outputId": "c03d2c2a-505e-4cdd-deac-7dc3749008e5"
      },
      "execution_count": 44,
      "outputs": [
        {
          "output_type": "stream",
          "name": "stdout",
          "text": [
            "[[1 0]\n",
            " [1 0]\n",
            " [1 0]\n",
            " [1 0]\n",
            " [1 0]]\n"
          ]
        }
      ]
    },
    {
      "cell_type": "code",
      "source": [
        "X_train, X_test, y_train, y_test = train_test_split(X, Y, test_size=0.2, random_state=0)"
      ],
      "metadata": {
        "id": "1Rvh3DszKuqi"
      },
      "execution_count": 45,
      "outputs": []
    },
    {
      "cell_type": "code",
      "source": [
        "print(X_train[0:5])"
      ],
      "metadata": {
        "colab": {
          "base_uri": "https://localhost:8080/"
        },
        "id": "FgTcsPcZK9Gn",
        "outputId": "fd4c2f87-ce7f-4a08-a52d-eabf4dc10953"
      },
      "execution_count": 46,
      "outputs": [
        {
          "output_type": "stream",
          "name": "stdout",
          "text": [
            "[[2.90287852e+09 6.20000000e+01 6.29400000e-03 1.13200000e-02\n",
            "  1.54100000e-02 2.60500000e-03 1.07100000e-02 1.14100000e-02\n",
            "  3.71900000e-05 8.26400000e-02 3.13100000e-02 2.15100000e+00\n",
            "  4.29200000e-03 0.00000000e+00 1.00000000e+00 0.00000000e+00]\n",
            " [2.90287852e+09 4.24000000e+02 4.52400000e-03 1.39600000e-02\n",
            "  1.73600000e-02 6.62200000e-03 1.47400000e-02 1.41100000e-02\n",
            "  3.62400000e-05 2.24900000e-02 1.90100000e-02 1.96700000e+00\n",
            "  3.87200000e-03 0.00000000e+00 1.00000000e+00 0.00000000e+00]\n",
            " [4.94787097e+08 3.00000000e+00 3.83400000e-03 1.14800000e-03\n",
            "  3.84100000e-03 3.33800000e-04 5.82700000e-04 1.17100000e-03\n",
            "  3.14700000e-05 1.32000000e-02 1.14300000e-03 9.11300000e+00\n",
            "  3.62900000e-02 0.00000000e+00 0.00000000e+00 3.23100000e-03]\n",
            " [1.71093300e+07 1.11000000e+02 3.30200000e-02 8.36200000e-03\n",
            "  1.18700000e-02 3.20400000e-03 3.40300000e-03 8.54500000e-03\n",
            "  9.44100000e-05 1.03600000e-01 1.26500000e-02 3.51900000e+00\n",
            "  1.06700000e-02 0.00000000e+00 1.00000000e+00 0.00000000e+00]\n",
            " [1.00583109e+09 1.10000000e+01 4.38700000e-05 5.15900000e-04\n",
            "  1.92300000e-03 2.34600000e-04 3.47100000e-04 6.61800000e-04\n",
            "  1.90700000e-06 1.40200000e-03 1.35800000e-03 2.14800000e+01\n",
            "  1.04400000e-01 0.00000000e+00 0.00000000e+00 6.67600000e-05]]\n"
          ]
        }
      ]
    },
    {
      "cell_type": "code",
      "source": [
        "print(y_train[0:5])"
      ],
      "metadata": {
        "colab": {
          "base_uri": "https://localhost:8080/"
        },
        "id": "n_L5XrSWLDD4",
        "outputId": "3aff555e-945f-47e4-d858-c2d115e89f90"
      },
      "execution_count": 47,
      "outputs": [
        {
          "output_type": "stream",
          "name": "stdout",
          "text": [
            "[[1 0]\n",
            " [1 0]\n",
            " [1 0]\n",
            " [1 0]\n",
            " [1 0]]\n"
          ]
        }
      ]
    },
    {
      "cell_type": "code",
      "source": [
        "print(X_test[0:5])"
      ],
      "metadata": {
        "colab": {
          "base_uri": "https://localhost:8080/"
        },
        "id": "nSAvDgX0LIg2",
        "outputId": "4fd93125-a2e2-44b2-bc69-1d17e3c5236f"
      },
      "execution_count": 48,
      "outputs": [
        {
          "output_type": "stream",
          "name": "stdout",
          "text": [
            "[[1.92299653e+08 7.80000000e+01 1.39200000e-02 2.23400000e-02\n",
            "  2.90500000e-02 5.58500000e-03 5.69900000e-03 2.23700000e-02\n",
            "  2.94700000e-04 9.87500000e-02 2.21300000e-03 5.00600000e+00\n",
            "  1.95500000e-02 0.00000000e+00 0.00000000e+00 1.26800000e-02]\n",
            " [2.90287858e+09 2.52000000e+02 9.14000000e-03 1.98100000e-02\n",
            "  2.50900000e-02 8.63600000e-03 2.15100000e-02 1.99000000e-02\n",
            "  3.71900000e-05 6.31100000e-02 3.57700000e-02 2.31700000e+00\n",
            "  4.76400000e-03 0.00000000e+00 1.00000000e+00 0.00000000e+00]\n",
            " [2.90287858e+09 1.25800000e+03 8.56000000e-03 1.67500000e-02\n",
            "  2.31600000e-02 5.98100000e-03 1.88600000e-02 1.68800000e-02\n",
            "  3.71900000e-05 5.01700000e-02 6.34800000e-02 2.30600000e+00\n",
            "  4.51300000e-03 0.00000000e+00 1.00000000e+00 0.00000000e+00]\n",
            " [2.90287858e+09 9.93000000e+02 7.96500000e-03 1.58100000e-02\n",
            "  2.12100000e-02 4.02100000e-03 1.69100000e-02 1.59900000e-02\n",
            "  3.71900000e-05 4.51700000e-02 3.34500000e-02 2.57100000e+00\n",
            "  5.98100000e-03 0.00000000e+00 1.00000000e+00 0.00000000e+00]\n",
            " [2.09193844e+08 1.00000000e+00 2.49900000e-04 9.36300000e-02\n",
            "  1.01100000e-01 4.17700000e-04 7.23800000e-04 9.37500000e-02\n",
            "  1.70700000e-04 3.68000000e-02 1.43100000e-04 4.96500000e+00\n",
            "  1.89000000e-02 0.00000000e+00 1.00000000e+00 0.00000000e+00]]\n"
          ]
        }
      ]
    },
    {
      "cell_type": "code",
      "source": [
        "print(y_test[0:5])"
      ],
      "metadata": {
        "colab": {
          "base_uri": "https://localhost:8080/"
        },
        "id": "ZqQqtjygLMk-",
        "outputId": "ea064451-fbc6-43ef-bab6-6b886cb619f2"
      },
      "execution_count": 49,
      "outputs": [
        {
          "output_type": "stream",
          "name": "stdout",
          "text": [
            "[[1 0]\n",
            " [1 0]\n",
            " [1 0]\n",
            " [1 0]\n",
            " [1 0]]\n"
          ]
        }
      ]
    },
    {
      "cell_type": "code",
      "source": [
        "model = tf.keras.Sequential([\n",
        "    tf.keras.layers.Dense(10, activation='relu'),\n",
        "    tf.keras.layers.Dense(10, activation='relu'),\n",
        "    tf.keras.layers.Dense(2, activation='softmax')\n",
        "  ])\n",
        "model"
      ],
      "metadata": {
        "colab": {
          "base_uri": "https://localhost:8080/"
        },
        "id": "9P9OVrvlK9QM",
        "outputId": "a4b4127a-6502-4793-a69f-758abc609c51"
      },
      "execution_count": 56,
      "outputs": [
        {
          "output_type": "execute_result",
          "data": {
            "text/plain": [
              "<keras.engine.sequential.Sequential at 0x7fb6917f65b0>"
            ]
          },
          "metadata": {},
          "execution_count": 56
        }
      ]
    },
    {
      "cell_type": "code",
      "source": [
        "model.compile(optimizer='adam',\n",
        "              loss='categorical_crossentropy',\n",
        "              metrics=['accuracy'])"
      ],
      "metadata": {
        "id": "gVX3EeJHL973"
      },
      "execution_count": 57,
      "outputs": []
    },
    {
      "cell_type": "code",
      "source": [
        "model.fit(X_train, y_train, batch_size=50, epochs=100)"
      ],
      "metadata": {
        "colab": {
          "base_uri": "https://localhost:8080/"
        },
        "id": "0sQXbSo6MEf0",
        "outputId": "965a47ff-cf36-4cc3-b66b-33f7ae53ad8b"
      },
      "execution_count": 58,
      "outputs": [
        {
          "output_type": "stream",
          "name": "stdout",
          "text": [
            "Epoch 1/100\n",
            "80/80 [==============================] - 1s 2ms/step - loss: nan - accuracy: 0.9505\n",
            "Epoch 2/100\n",
            "80/80 [==============================] - 0s 2ms/step - loss: nan - accuracy: 0.9597\n",
            "Epoch 3/100\n",
            "80/80 [==============================] - 0s 2ms/step - loss: nan - accuracy: 0.9597\n",
            "Epoch 4/100\n",
            "80/80 [==============================] - 0s 2ms/step - loss: nan - accuracy: 0.9597\n",
            "Epoch 5/100\n",
            "80/80 [==============================] - 0s 2ms/step - loss: nan - accuracy: 0.9597\n",
            "Epoch 6/100\n",
            "80/80 [==============================] - 0s 2ms/step - loss: nan - accuracy: 0.9597\n",
            "Epoch 7/100\n",
            "80/80 [==============================] - 0s 2ms/step - loss: nan - accuracy: 0.9597\n",
            "Epoch 8/100\n",
            "80/80 [==============================] - 0s 2ms/step - loss: nan - accuracy: 0.9597\n",
            "Epoch 9/100\n",
            "80/80 [==============================] - 0s 2ms/step - loss: nan - accuracy: 0.9597\n",
            "Epoch 10/100\n",
            "80/80 [==============================] - 0s 2ms/step - loss: nan - accuracy: 0.9597\n",
            "Epoch 11/100\n",
            "80/80 [==============================] - 0s 2ms/step - loss: nan - accuracy: 0.9597\n",
            "Epoch 12/100\n",
            "80/80 [==============================] - 0s 2ms/step - loss: nan - accuracy: 0.9597\n",
            "Epoch 13/100\n",
            "80/80 [==============================] - 0s 2ms/step - loss: nan - accuracy: 0.9597\n",
            "Epoch 14/100\n",
            "80/80 [==============================] - 0s 2ms/step - loss: nan - accuracy: 0.9597\n",
            "Epoch 15/100\n",
            "80/80 [==============================] - 0s 2ms/step - loss: nan - accuracy: 0.9597\n",
            "Epoch 16/100\n",
            "80/80 [==============================] - 0s 2ms/step - loss: nan - accuracy: 0.9597\n",
            "Epoch 17/100\n",
            "80/80 [==============================] - 0s 2ms/step - loss: nan - accuracy: 0.9597\n",
            "Epoch 18/100\n",
            "80/80 [==============================] - 0s 2ms/step - loss: nan - accuracy: 0.9597\n",
            "Epoch 19/100\n",
            "80/80 [==============================] - 0s 2ms/step - loss: nan - accuracy: 0.9597\n",
            "Epoch 20/100\n",
            "80/80 [==============================] - 0s 2ms/step - loss: nan - accuracy: 0.9597\n",
            "Epoch 21/100\n",
            "80/80 [==============================] - 0s 2ms/step - loss: nan - accuracy: 0.9597\n",
            "Epoch 22/100\n",
            "80/80 [==============================] - 0s 2ms/step - loss: nan - accuracy: 0.9597\n",
            "Epoch 23/100\n",
            "80/80 [==============================] - 0s 2ms/step - loss: nan - accuracy: 0.9597\n",
            "Epoch 24/100\n",
            "80/80 [==============================] - 0s 2ms/step - loss: nan - accuracy: 0.9597\n",
            "Epoch 25/100\n",
            "80/80 [==============================] - 0s 2ms/step - loss: nan - accuracy: 0.9597\n",
            "Epoch 26/100\n",
            "80/80 [==============================] - 0s 2ms/step - loss: nan - accuracy: 0.9597\n",
            "Epoch 27/100\n",
            "80/80 [==============================] - 0s 2ms/step - loss: nan - accuracy: 0.9597\n",
            "Epoch 28/100\n",
            "80/80 [==============================] - 0s 2ms/step - loss: nan - accuracy: 0.9597\n",
            "Epoch 29/100\n",
            "80/80 [==============================] - 0s 2ms/step - loss: nan - accuracy: 0.9597\n",
            "Epoch 30/100\n",
            "80/80 [==============================] - 0s 2ms/step - loss: nan - accuracy: 0.9597\n",
            "Epoch 31/100\n",
            "80/80 [==============================] - 0s 2ms/step - loss: nan - accuracy: 0.9597\n",
            "Epoch 32/100\n",
            "80/80 [==============================] - 0s 2ms/step - loss: nan - accuracy: 0.9597\n",
            "Epoch 33/100\n",
            "80/80 [==============================] - 0s 2ms/step - loss: nan - accuracy: 0.9597\n",
            "Epoch 34/100\n",
            "80/80 [==============================] - 0s 2ms/step - loss: nan - accuracy: 0.9597\n",
            "Epoch 35/100\n",
            "80/80 [==============================] - 0s 2ms/step - loss: nan - accuracy: 0.9597\n",
            "Epoch 36/100\n",
            "80/80 [==============================] - 0s 2ms/step - loss: nan - accuracy: 0.9597\n",
            "Epoch 37/100\n",
            "80/80 [==============================] - 0s 2ms/step - loss: nan - accuracy: 0.9597\n",
            "Epoch 38/100\n",
            "80/80 [==============================] - 0s 2ms/step - loss: nan - accuracy: 0.9597\n",
            "Epoch 39/100\n",
            "80/80 [==============================] - 0s 2ms/step - loss: nan - accuracy: 0.9597\n",
            "Epoch 40/100\n",
            "80/80 [==============================] - 0s 2ms/step - loss: nan - accuracy: 0.9597\n",
            "Epoch 41/100\n",
            "80/80 [==============================] - 0s 2ms/step - loss: nan - accuracy: 0.9597\n",
            "Epoch 42/100\n",
            "80/80 [==============================] - 0s 2ms/step - loss: nan - accuracy: 0.9597\n",
            "Epoch 43/100\n",
            "80/80 [==============================] - 0s 2ms/step - loss: nan - accuracy: 0.9597\n",
            "Epoch 44/100\n",
            "80/80 [==============================] - 0s 2ms/step - loss: nan - accuracy: 0.9597\n",
            "Epoch 45/100\n",
            "80/80 [==============================] - 0s 2ms/step - loss: nan - accuracy: 0.9597\n",
            "Epoch 46/100\n",
            "80/80 [==============================] - 0s 2ms/step - loss: nan - accuracy: 0.9597\n",
            "Epoch 47/100\n",
            "80/80 [==============================] - 0s 2ms/step - loss: nan - accuracy: 0.9597\n",
            "Epoch 48/100\n",
            "80/80 [==============================] - 0s 2ms/step - loss: nan - accuracy: 0.9597\n",
            "Epoch 49/100\n",
            "80/80 [==============================] - 0s 2ms/step - loss: nan - accuracy: 0.9597\n",
            "Epoch 50/100\n",
            "80/80 [==============================] - 0s 2ms/step - loss: nan - accuracy: 0.9597\n",
            "Epoch 51/100\n",
            "80/80 [==============================] - 0s 2ms/step - loss: nan - accuracy: 0.9597\n",
            "Epoch 52/100\n",
            "80/80 [==============================] - 0s 2ms/step - loss: nan - accuracy: 0.9597\n",
            "Epoch 53/100\n",
            "80/80 [==============================] - 0s 2ms/step - loss: nan - accuracy: 0.9597\n",
            "Epoch 54/100\n",
            "80/80 [==============================] - 0s 2ms/step - loss: nan - accuracy: 0.9597\n",
            "Epoch 55/100\n",
            "80/80 [==============================] - 0s 2ms/step - loss: nan - accuracy: 0.9597\n",
            "Epoch 56/100\n",
            "80/80 [==============================] - 0s 2ms/step - loss: nan - accuracy: 0.9597\n",
            "Epoch 57/100\n",
            "80/80 [==============================] - 0s 2ms/step - loss: nan - accuracy: 0.9597\n",
            "Epoch 58/100\n",
            "80/80 [==============================] - 0s 2ms/step - loss: nan - accuracy: 0.9597\n",
            "Epoch 59/100\n",
            "80/80 [==============================] - 0s 2ms/step - loss: nan - accuracy: 0.9597\n",
            "Epoch 60/100\n",
            "80/80 [==============================] - 0s 2ms/step - loss: nan - accuracy: 0.9597\n",
            "Epoch 61/100\n",
            "80/80 [==============================] - 0s 2ms/step - loss: nan - accuracy: 0.9597\n",
            "Epoch 62/100\n",
            "80/80 [==============================] - 0s 2ms/step - loss: nan - accuracy: 0.9597\n",
            "Epoch 63/100\n",
            "80/80 [==============================] - 0s 2ms/step - loss: nan - accuracy: 0.9597\n",
            "Epoch 64/100\n",
            "80/80 [==============================] - 0s 2ms/step - loss: nan - accuracy: 0.9597\n",
            "Epoch 65/100\n",
            "80/80 [==============================] - 0s 2ms/step - loss: nan - accuracy: 0.9597\n",
            "Epoch 66/100\n",
            "80/80 [==============================] - 0s 2ms/step - loss: nan - accuracy: 0.9597\n",
            "Epoch 67/100\n",
            "80/80 [==============================] - 0s 2ms/step - loss: nan - accuracy: 0.9597\n",
            "Epoch 68/100\n",
            "80/80 [==============================] - 0s 2ms/step - loss: nan - accuracy: 0.9597\n",
            "Epoch 69/100\n",
            "80/80 [==============================] - 0s 2ms/step - loss: nan - accuracy: 0.9597\n",
            "Epoch 70/100\n",
            "80/80 [==============================] - 0s 2ms/step - loss: nan - accuracy: 0.9597\n",
            "Epoch 71/100\n",
            "80/80 [==============================] - 0s 2ms/step - loss: nan - accuracy: 0.9597\n",
            "Epoch 72/100\n",
            "80/80 [==============================] - 0s 2ms/step - loss: nan - accuracy: 0.9597\n",
            "Epoch 73/100\n",
            "80/80 [==============================] - 0s 2ms/step - loss: nan - accuracy: 0.9597\n",
            "Epoch 74/100\n",
            "80/80 [==============================] - 0s 2ms/step - loss: nan - accuracy: 0.9597\n",
            "Epoch 75/100\n",
            "80/80 [==============================] - 0s 2ms/step - loss: nan - accuracy: 0.9597\n",
            "Epoch 76/100\n",
            "80/80 [==============================] - 0s 2ms/step - loss: nan - accuracy: 0.9597\n",
            "Epoch 77/100\n",
            "80/80 [==============================] - 0s 2ms/step - loss: nan - accuracy: 0.9597\n",
            "Epoch 78/100\n",
            "80/80 [==============================] - 0s 2ms/step - loss: nan - accuracy: 0.9597\n",
            "Epoch 79/100\n",
            "80/80 [==============================] - 0s 2ms/step - loss: nan - accuracy: 0.9597\n",
            "Epoch 80/100\n",
            "80/80 [==============================] - 0s 2ms/step - loss: nan - accuracy: 0.9597\n",
            "Epoch 81/100\n",
            "80/80 [==============================] - 0s 2ms/step - loss: nan - accuracy: 0.9597\n",
            "Epoch 82/100\n",
            "80/80 [==============================] - 0s 2ms/step - loss: nan - accuracy: 0.9597\n",
            "Epoch 83/100\n",
            "80/80 [==============================] - 0s 2ms/step - loss: nan - accuracy: 0.9597\n",
            "Epoch 84/100\n",
            "80/80 [==============================] - 0s 2ms/step - loss: nan - accuracy: 0.9597\n",
            "Epoch 85/100\n",
            "80/80 [==============================] - 0s 2ms/step - loss: nan - accuracy: 0.9597\n",
            "Epoch 86/100\n",
            "80/80 [==============================] - 0s 2ms/step - loss: nan - accuracy: 0.9597\n",
            "Epoch 87/100\n",
            "80/80 [==============================] - 0s 2ms/step - loss: nan - accuracy: 0.9597\n",
            "Epoch 88/100\n",
            "80/80 [==============================] - 0s 2ms/step - loss: nan - accuracy: 0.9597\n",
            "Epoch 89/100\n",
            "80/80 [==============================] - 0s 2ms/step - loss: nan - accuracy: 0.9597\n",
            "Epoch 90/100\n",
            "80/80 [==============================] - 0s 2ms/step - loss: nan - accuracy: 0.9597\n",
            "Epoch 91/100\n",
            "80/80 [==============================] - 0s 2ms/step - loss: nan - accuracy: 0.9597\n",
            "Epoch 92/100\n",
            "80/80 [==============================] - 0s 2ms/step - loss: nan - accuracy: 0.9597\n",
            "Epoch 93/100\n",
            "80/80 [==============================] - 0s 2ms/step - loss: nan - accuracy: 0.9597\n",
            "Epoch 94/100\n",
            "80/80 [==============================] - 0s 2ms/step - loss: nan - accuracy: 0.9597\n",
            "Epoch 95/100\n",
            "80/80 [==============================] - 0s 2ms/step - loss: nan - accuracy: 0.9597\n",
            "Epoch 96/100\n",
            "80/80 [==============================] - 0s 2ms/step - loss: nan - accuracy: 0.9597\n",
            "Epoch 97/100\n",
            "80/80 [==============================] - 0s 2ms/step - loss: nan - accuracy: 0.9597\n",
            "Epoch 98/100\n",
            "80/80 [==============================] - 0s 2ms/step - loss: nan - accuracy: 0.9597\n",
            "Epoch 99/100\n",
            "80/80 [==============================] - 0s 2ms/step - loss: nan - accuracy: 0.9597\n",
            "Epoch 100/100\n",
            "80/80 [==============================] - 0s 2ms/step - loss: nan - accuracy: 0.9597\n"
          ]
        },
        {
          "output_type": "execute_result",
          "data": {
            "text/plain": [
              "<keras.callbacks.History at 0x7fb691652be0>"
            ]
          },
          "metadata": {},
          "execution_count": 58
        }
      ]
    },
    {
      "cell_type": "code",
      "source": [
        "loss, accuracy = model.evaluate(X_test, y_test, verbose=0)\n",
        "print('Test loss:', loss)\n",
        "print('Test accuracy:', accuracy)"
      ],
      "metadata": {
        "colab": {
          "base_uri": "https://localhost:8080/"
        },
        "id": "OoxgTiCpK9aK",
        "outputId": "6eb04420-96ab-4b65-cadf-729d033a934e"
      },
      "execution_count": 59,
      "outputs": [
        {
          "output_type": "stream",
          "name": "stdout",
          "text": [
            "Test loss: nan\n",
            "Test accuracy: 0.9599999785423279\n"
          ]
        }
      ]
    },
    {
      "cell_type": "code",
      "source": [
        "y_pred = model.predict(X_test)\n",
        "y_pred"
      ],
      "metadata": {
        "colab": {
          "base_uri": "https://localhost:8080/"
        },
        "id": "ZBvupamZN1Th",
        "outputId": "483aa969-ba2e-452b-c69c-7c96e7a5fb81"
      },
      "execution_count": 60,
      "outputs": [
        {
          "output_type": "stream",
          "name": "stdout",
          "text": [
            "32/32 [==============================] - 0s 1ms/step\n"
          ]
        },
        {
          "output_type": "execute_result",
          "data": {
            "text/plain": [
              "array([[nan, nan],\n",
              "       [nan, nan],\n",
              "       [nan, nan],\n",
              "       ...,\n",
              "       [nan, nan],\n",
              "       [nan, nan],\n",
              "       [nan, nan]], dtype=float32)"
            ]
          },
          "metadata": {},
          "execution_count": 60
        }
      ]
    },
    {
      "cell_type": "code",
      "source": [
        "actual = np.argmax(y_test,axis=1)\n",
        "predicted = np.argmax(y_pred,axis=1)\n",
        "print(f\"Actual: {actual}\")\n",
        "print(f\"Predicted: {predicted}\")"
      ],
      "metadata": {
        "id": "XQVV8pOgN1bx"
      },
      "execution_count": null,
      "outputs": []
    }
  ]
}