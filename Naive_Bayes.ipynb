{
  "nbformat": 4,
  "nbformat_minor": 0,
  "metadata": {
    "colab": {
      "name": "Naive_Bayes.ipynb",
      "provenance": [],
      "collapsed_sections": [],
      "authorship_tag": "ABX9TyNnfN2u5CLQwj6ZqRnVeaYl",
      "include_colab_link": true
    },
    "kernelspec": {
      "name": "python3",
      "display_name": "Python 3"
    },
    "language_info": {
      "name": "python"
    }
  },
  "cells": [
    {
      "cell_type": "markdown",
      "metadata": {
        "id": "view-in-github",
        "colab_type": "text"
      },
      "source": [
        "<a href=\"https://colab.research.google.com/github/babaroscopy/colab/blob/main/Naive_Bayes.ipynb\" target=\"_parent\"><img src=\"https://colab.research.google.com/assets/colab-badge.svg\" alt=\"Open In Colab\"/></a>"
      ]
    },
    {
      "cell_type": "code",
      "metadata": {
        "id": "3YQ-2ICuU8tk"
      },
      "source": [
        "import pandas as pd\n",
        "import pprint\n",
        "from functools import reduce"
      ],
      "execution_count": null,
      "outputs": []
    },
    {
      "cell_type": "code",
      "metadata": {
        "id": "Lug8qL0BVMbq"
      },
      "source": [
        "class Classifier():\n",
        "    data = None\n",
        "    class_attr = None\n",
        "    priori = {}\n",
        "    cond_prob = {}\n",
        "    hp = None\n",
        "\n",
        "\n",
        "    def __init__(self,filename=None, class_attr=None ):\n",
        "        self.data = pd.read_csv(filename, sep=',', header =(0))\n",
        "        self.class_attr = class_attr\n",
        "\n",
        "    '''\n",
        "        probability(class) =    How many  times it appears in cloumn\n",
        "                             __________________________________________\n",
        "                                  count of all class attribute\n",
        "    '''\n",
        "    def calculate_priori(self):\n",
        "        class_values = list(set(self.data[self.class_attr]))\n",
        "        class_data =  list(self.data[self.class_attr])\n",
        "        for i in class_values:\n",
        "            self.priori[i]  = class_data.count(i)/float(len(class_data))\n",
        "        print (\"Priori Values: \", self.priori)\n",
        "\n",
        "    '''\n",
        "        Here we calculate the individual probabilites \n",
        "        P(outcome|evidence) =   P(Likelihood of Evidence) x Prior prob of outcome\n",
        "                               ___________________________________________\n",
        "                                                    P(Evidence)\n",
        "    '''\n",
        "    def get_cond_prob(self, attr, attr_type, class_value):\n",
        "        data_attr = list(self.data[attr])\n",
        "        class_data = list(self.data[self.class_attr])\n",
        "        total =1\n",
        "        for i in range(0, len(data_attr)):\n",
        "            if class_data[i] == class_value and data_attr[i] == attr_type:\n",
        "                total+=1\n",
        "        return total/float(class_data.count(class_value))\n",
        "\n",
        "    '''\n",
        "        Here we calculate Likelihood of Evidence and multiple all individual probabilities with priori\n",
        "        (Outcome|Multiple Evidence) = P(Evidence1|Outcome) x P(Evidence2|outcome) x ... x P(EvidenceN|outcome) x P(Outcome)\n",
        "        scaled by P(Multiple Evidence)\n",
        "    '''\n",
        "    def calculate_conditional_probabilities(self, hp):\n",
        "        for i in self.priori:\n",
        "            self.cond_prob[i] = {}\n",
        "            for j in hp:\n",
        "                self.cond_prob[i].update({ hp[j]: self.get_cond_prob(j, hp[j], i)})\n",
        "        print (\"\\nCalculated Conditional Probabilities: \\n\")\n",
        "        pprint.pprint(self.cond_prob)\n",
        "\n",
        "    def classify(self):\n",
        "        print (\"Result: \")\n",
        "        for i in self.cond_prob:\n",
        "            print (i, \" ==> \", reduce(lambda x, y: x*y, self.cond_prob[i].values())*self.priori[i])\n"
      ],
      "execution_count": null,
      "outputs": []
    },
    {
      "cell_type": "code",
      "metadata": {
        "colab": {
          "base_uri": "https://localhost:8080/"
        },
        "id": "2QR0Rw3uVQ1T",
        "outputId": "9135e2a0-595d-4944-f366-ef9892b1fa8a"
      },
      "source": [
        "if __name__ == \"__main__\":\n",
        "    c = Classifier(filename=\"tennis.csv\", class_attr=\"Play Tennis\" )\n",
        "    c.calculate_priori()\n",
        "    c.hp = {\"Outlook\":'Rainy', \"Temperature\":\"Mild\", \"Humidity\":'Normal' , \"Wind\":'t'}\n",
        "\n",
        "    c.calculate_conditional_probabilities(c.hp)\n",
        "    c.classify()"
      ],
      "execution_count": null,
      "outputs": [
        {
          "output_type": "stream",
          "name": "stdout",
          "text": [
            "Priori Values:  {'No': 0.35714285714285715, 'Yes': 0.6428571428571429}\n",
            "\n",
            "Calculated Conditional Probabilities: \n",
            "\n",
            "{'No': {'Mild': 0.6, 'Normal': 0.4, 'Rainy': 0.2, 't': 0.2},\n",
            " 'Yes': {'Mild': 0.5555555555555556,\n",
            "         'Normal': 0.7777777777777778,\n",
            "         'Rainy': 0.1111111111111111,\n",
            "         't': 0.1111111111111111}}\n",
            "Result: \n",
            "No  ==>  0.003428571428571429\n",
            "Yes  ==>  0.003429355281207133\n"
          ]
        }
      ]
    }
  ]
}