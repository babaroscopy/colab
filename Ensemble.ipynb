{
  "nbformat": 4,
  "nbformat_minor": 0,
  "metadata": {
    "accelerator": "GPU",
    "colab": {
      "name": "Ensemble.ipynb",
      "provenance": [],
      "collapsed_sections": [],
      "authorship_tag": "ABX9TyNT3+my+TlZ0q6f5HBgVKXY",
      "include_colab_link": true
    },
    "kernelspec": {
      "display_name": "Python 3",
      "name": "python3"
    },
    "language_info": {
      "name": "python"
    }
  },
  "cells": [
    {
      "cell_type": "markdown",
      "metadata": {
        "id": "view-in-github",
        "colab_type": "text"
      },
      "source": [
        "<a href=\"https://colab.research.google.com/github/babaroscopy/colab/blob/main/Ensemble.ipynb\" target=\"_parent\"><img src=\"https://colab.research.google.com/assets/colab-badge.svg\" alt=\"Open In Colab\"/></a>"
      ]
    },
    {
      "cell_type": "code",
      "metadata": {
        "colab": {
          "base_uri": "https://localhost:8080/"
        },
        "id": "LOmBnKsMNhRO",
        "outputId": "2c6a808c-7d1b-4caa-bf47-db5404a75d25"
      },
      "source": [
        "!git clone https://github.com/Rohit-Kundu/Ensemble-Pneumonia-Detection.git"
      ],
      "execution_count": 1,
      "outputs": [
        {
          "output_type": "stream",
          "name": "stdout",
          "text": [
            "Cloning into 'Ensemble-Pneumonia-Detection'...\n",
            "remote: Enumerating objects: 85, done.\u001b[K\n",
            "remote: Counting objects: 100% (85/85), done.\u001b[K\n",
            "remote: Compressing objects: 100% (84/84), done.\u001b[K\n",
            "remote: Total 85 (delta 50), reused 0 (delta 0), pack-reused 0\u001b[K\n",
            "Unpacking objects: 100% (85/85), done.\n"
          ]
        }
      ]
    },
    {
      "cell_type": "code",
      "metadata": {
        "id": "HLd430llts0C"
      },
      "source": [
        "!mkdir Ensemble-Pneumonia-Detection/train_csv\n",
        "!mkdir Ensemble-Pneumonia-Detection/test_csv\n",
        "#f = open(\"Ensemble-Pneumonia-Detection/train_csv/resnet18_train.csv\", \"x\")\n",
        "#f = open(\"Ensemble-Pneumonia-Detection/test_csv/resnet18_test.csv\", \"x\")\n",
        "#f = open(\"Ensemble-Pneumonia-Detection/train_csv/googlenet_train.csv\", \"x\")\n",
        "#f = open(\"Ensemble-Pneumonia-Detection/test_csv/googlenet_test.csv\", \"x\")\n",
        "#f = open(\"Ensemble-Pneumonia-Detection/train_csv/densenet121_train.csv\", \"x\")\n",
        "#f = open(\"Ensemble-Pneumonia-Detection/test_csv/densenet121_test.csv\", \"x\")\n",
        "#f = open(\"Ensemble-Pneumonia-Detection/train_csv/inception_train.csv\", \"x\")\n",
        "#f = open(\"Ensemble-Pneumonia-Detection/test_csv/inception_test.csv\", \"x\")\n",
        "#f = open(\"Ensemble-Pneumonia-Detection/train_csv/alex_train.csv\", \"x\")\n",
        "#f = open(\"Ensemble-Pneumonia-Detection/test_csv/alex_test.csv\", \"x\")\n",
        "#f = open(\"Ensemble-Pneumonia-Detection/train_csv/vgg_train.csv\", \"x\")\n",
        "#f = open(\"Ensemble-Pneumonia-Detection/test_csv/vgg_test.csv\", \"x\")\n",
        "#f = open(\"Ensemble-Pneumonia-Detection/train_labels.csv\", \"x\")\n",
        "#f = open(\"Ensemble-Pneumonia-Detection/test_labels.csv\", \"x\")"
      ],
      "execution_count": 2,
      "outputs": []
    },
    {
      "cell_type": "code",
      "metadata": {
        "colab": {
          "base_uri": "https://localhost:8080/"
        },
        "id": "lyLikH8p_klE",
        "outputId": "58500e6c-631f-4986-f007-72855c196da3"
      },
      "source": [
        "pip install scikit-plot"
      ],
      "execution_count": 19,
      "outputs": [
        {
          "output_type": "stream",
          "name": "stdout",
          "text": [
            "Requirement already satisfied: scikit-plot in /usr/local/lib/python3.7/dist-packages (0.3.7)\n",
            "Requirement already satisfied: matplotlib>=1.4.0 in /usr/local/lib/python3.7/dist-packages (from scikit-plot) (3.2.2)\n",
            "Requirement already satisfied: scipy>=0.9 in /usr/local/lib/python3.7/dist-packages (from scikit-plot) (1.4.1)\n",
            "Requirement already satisfied: joblib>=0.10 in /usr/local/lib/python3.7/dist-packages (from scikit-plot) (1.1.0)\n",
            "Requirement already satisfied: scikit-learn>=0.18 in /usr/local/lib/python3.7/dist-packages (from scikit-plot) (1.0.1)\n",
            "Requirement already satisfied: kiwisolver>=1.0.1 in /usr/local/lib/python3.7/dist-packages (from matplotlib>=1.4.0->scikit-plot) (1.3.2)\n",
            "Requirement already satisfied: cycler>=0.10 in /usr/local/lib/python3.7/dist-packages (from matplotlib>=1.4.0->scikit-plot) (0.11.0)\n",
            "Requirement already satisfied: pyparsing!=2.0.4,!=2.1.2,!=2.1.6,>=2.0.1 in /usr/local/lib/python3.7/dist-packages (from matplotlib>=1.4.0->scikit-plot) (3.0.6)\n",
            "Requirement already satisfied: python-dateutil>=2.1 in /usr/local/lib/python3.7/dist-packages (from matplotlib>=1.4.0->scikit-plot) (2.8.2)\n",
            "Requirement already satisfied: numpy>=1.11 in /usr/local/lib/python3.7/dist-packages (from matplotlib>=1.4.0->scikit-plot) (1.19.5)\n",
            "Requirement already satisfied: six>=1.5 in /usr/local/lib/python3.7/dist-packages (from python-dateutil>=2.1->matplotlib>=1.4.0->scikit-plot) (1.15.0)\n",
            "Requirement already satisfied: threadpoolctl>=2.0.0 in /usr/local/lib/python3.7/dist-packages (from scikit-learn>=0.18->scikit-plot) (3.0.0)\n"
          ]
        }
      ]
    },
    {
      "cell_type": "code",
      "metadata": {
        "id": "9vWZsoaBOQYP"
      },
      "source": [
        "import torch\n",
        "import torch.nn as nn\n",
        "import torch.optim as optim\n",
        "from torch.optim import lr_scheduler\n",
        "import numpy as np\n",
        "import torchvision\n",
        "from torchvision import datasets, models, transforms\n",
        "import matplotlib.pyplot as plt\n",
        "import time\n",
        "import os\n",
        "import copy\n",
        "import csv\n",
        "import numpy as np\n",
        "import pandas as pd\n",
        "from sklearn.metrics import *\n",
        "import math\n",
        "import scikitplot as skplt\n"
      ],
      "execution_count": 20,
      "outputs": []
    },
    {
      "cell_type": "markdown",
      "metadata": {
        "id": "xHDZdAbRSa9U"
      },
      "source": [
        "**ensemble**"
      ]
    },
    {
      "cell_type": "code",
      "metadata": {
        "id": "ja7NxxzCScxa"
      },
      "source": [
        "def getfile(filename):\n",
        "    root=\"./\"\n",
        "    file = root+filename\n",
        "    if '.csv' not in file:\n",
        "        file+='.csv'\n",
        "    df = pd.read_csv(file,header=None)\n",
        "    df = np.asarray(df)[:,:-1] #Since last column has image names\n",
        "    return df"
      ],
      "execution_count": 5,
      "outputs": []
    },
    {
      "cell_type": "code",
      "metadata": {
        "id": "pObQGKDAUVBC"
      },
      "source": [
        "def getlabels(filename):\n",
        "    root=\"./\"\n",
        "    file = root+filename\n",
        "    if '.csv' not in file:\n",
        "        file+='.csv'\n",
        "    df = pd.read_csv(file,header=None)\n",
        "    df = np.asarray(df)[:,1] #Since first column has image names\n",
        "    return df.astype(int)"
      ],
      "execution_count": 6,
      "outputs": []
    },
    {
      "cell_type": "code",
      "metadata": {
        "id": "fiFPQwPUUX6W"
      },
      "source": [
        "def predicting(ensemble_prob):\n",
        "    prediction = np.zeros((ensemble_prob.shape[0],))\n",
        "    for i in range(ensemble_prob.shape[0]):\n",
        "        temp = ensemble_prob[i]\n",
        "        t = np.where(temp == np.max(temp))[0][0]\n",
        "        prediction[i] = t\n",
        "    return prediction"
      ],
      "execution_count": 7,
      "outputs": []
    },
    {
      "cell_type": "code",
      "metadata": {
        "id": "9CEG3SbBUkcp"
      },
      "source": [
        "def metrics(labels,predictions,classes):\n",
        "    print(\"Classification Report:\")\n",
        "    print(classification_report(labels, predictions, target_names = classes,digits = 4))\n",
        "    skplt.metrics.plot_confusion_matrix(labels, predictions, normalize=True)\n",
        "    matrix = confusion_matrix(labels, predictions,normalize='all')\n",
        "    '''\n",
        "    print(\"Confusion matrix:\")\n",
        "    print(matrix)'''\n",
        "    print(\"\\nClasswise Accuracy :{}\".format(matrix.diagonal()/matrix.sum(axis = 1)))"
      ],
      "execution_count": 21,
      "outputs": []
    },
    {
      "cell_type": "code",
      "metadata": {
        "id": "N1GdIy6iUm-W"
      },
      "source": [
        "\n",
        "def get_scores(labels, *argv):\n",
        "    #outputs matrix of shape (no. of arg, 4) of precision, recall, f1-score, Area Under Curve\n",
        "    count = len(argv)\n",
        "    metrics = np.zeros(shape=(4,count))\n",
        "    num_classes = np.unique(labels).shape[0]\n",
        "    for i, arg in enumerate(argv):\n",
        "        preds = predicting(arg)\n",
        "        if num_classes==2:\n",
        "            pre = precision_score(labels,preds[:640])\n",
        "            rec = recall_score(labels,preds[:640])\n",
        "            f1 = f1_score(labels,preds[:640])\n",
        "            auc = roc_auc_score(labels,preds[:640])\n",
        "        else:\n",
        "            pre = precision_score(labels,preds[:640],average='macro')\n",
        "            rec = recall_score(labels,preds[:640],average='macro')\n",
        "            f1 = f1_score(labels,preds[:640],average='macro')\n",
        "            auc = roc_auc_score(labels,arg[:640],average='macro',multi_class='ovo')\n",
        "        metrics[:,i] = np.array([pre,rec,f1,auc])\n",
        "    weights = get_weights(np.transpose(metrics))\n",
        "    #print(\"Weights: \",weights)\n",
        "    return weights\n",
        "    '''\n",
        "\n",
        "def get_scores(labels,*argv):\n",
        "    #outputs matrix of shape (no. of arg, 4) of precision, recall, f1-score, Area Under Curve\n",
        "    count = len(argv)\n",
        "    metrics = np.zeros(shape=(4,count))\n",
        "    num_classes = np.unique(labels).shape[0]\n",
        "    for i,arg in enumerate(argv):\n",
        "        preds = predicting(arg)\n",
        "        print(labels.shape)\n",
        "        print(preds.shape)\n",
        "        print(len(labels))\n",
        "        print(len(preds))\n",
        "        if num_classes==2:\n",
        "            pre = precision_score(labels,preds)\n",
        "            rec = recall_score(labels,preds)\n",
        "            f1 = f1_score(labels,preds)\n",
        "            auc = roc_auc_score(labels,preds)\n",
        "        else:\n",
        "            pre = precision_score(labels,preds,average='macro')\n",
        "            rec = recall_score(labels,preds,average='macro')\n",
        "            f1 = f1_score(labels,preds,average='macro')\n",
        "            auc = roc_auc_score(labels,arg,average='macro',multi_class='ovo')\n",
        "        metrics[:,i] = np.array([pre,rec,f1,auc])\n",
        "    weights = get_weights(np.transpose(metrics))\n",
        "    #print(\"Weights: \",weights)\n",
        "    return weights\n",
        "'''"
      ],
      "execution_count": 9,
      "outputs": []
    },
    {
      "cell_type": "code",
      "metadata": {
        "id": "Z_ZKyFngUqer"
      },
      "source": [
        "def get_weights(matrix):\n",
        "    weights = []\n",
        "    for i in range(matrix.shape[0]):\n",
        "        m = matrix[i]\n",
        "        w = 0\n",
        "        for j in range(m.shape[0]):\n",
        "            w+=np.tanh(m[j])\n",
        "        weights.append(w)\n",
        "    return weights"
      ],
      "execution_count": 10,
      "outputs": []
    },
    {
      "cell_type": "code",
      "metadata": {
        "id": "e5GxtUxXUtOD",
        "colab": {
          "base_uri": "https://localhost:8080/",
          "height": 53
        },
        "outputId": "a662966a-5d9b-44c3-bcfb-f59342728483"
      },
      "source": [
        "root_train = \"Ensemble-Pneumonia-Detection/train_csv/\"\n",
        "root_test  = \"Ensemble-Pneumonia-Detection/test_csv/\"\n",
        "'''\n",
        "train_labels = \"Ensemble-Pneumonia-Detection/train_labels.csv\"\n",
        "train_labels = getlabels(train_labels)\n",
        "\n",
        "test_labels = \"Ensemble-Pneumonia-Detection/test_labels.csv\"\n",
        "test_labels = getlabels(test_labels)\n",
        "'''"
      ],
      "execution_count": 11,
      "outputs": [
        {
          "output_type": "execute_result",
          "data": {
            "application/vnd.google.colaboratory.intrinsic+json": {
              "type": "string"
            },
            "text/plain": [
              "'\\ntrain_labels = \"Ensemble-Pneumonia-Detection/train_labels.csv\"\\ntrain_labels = getlabels(train_labels)\\n\\ntest_labels = \"Ensemble-Pneumonia-Detection/test_labels.csv\"\\ntest_labels = getlabels(test_labels)\\n'"
            ]
          },
          "metadata": {},
          "execution_count": 11
        }
      ]
    },
    {
      "cell_type": "code",
      "metadata": {
        "id": "j_XHoFXbUvds"
      },
      "source": [
        "csv_list = os.listdir(root_train)\n",
        "p1_train = getfile(root_train+csv_list[0])\n",
        "p2_train = getfile(root_train+csv_list[1])\n",
        "p3_train = getfile(root_train+csv_list[2])\n",
        "p4_train = getfile(root_train+csv_list[3])\n",
        "p5_train = getfile(root_train+csv_list[4])\n",
        "p6_train = getfile(root_train+csv_list[5])\n",
        "\n",
        "train_labels = \"Ensemble-Pneumonia-Detection/train_labels.csv\"\n",
        "train_labels = getlabels(train_labels)\n",
        "#train_labels = getlabels(train_labels)\n",
        "\n",
        "p1_test = getfile(root_test+csv_list[0].replace('train','test'))\n",
        "p2_test = getfile(root_test+csv_list[1].replace('train','test'))\n",
        "p3_test = getfile(root_test+csv_list[2].replace('train','test'))\n",
        "p4_test = getfile(root_test+csv_list[3].replace('train','test'))\n",
        "p5_test = getfile(root_test+csv_list[4].replace('train','test'))\n",
        "p6_test = getfile(root_test+csv_list[5].replace('train','test'))\n",
        "\n",
        "test_labels = \"Ensemble-Pneumonia-Detection/test_labels.csv\"\n",
        "test_labels = getlabels(test_labels)\n",
        "#test_labels = getlabels(test_labels)"
      ],
      "execution_count": 12,
      "outputs": []
    },
    {
      "cell_type": "code",
      "metadata": {
        "colab": {
          "base_uri": "https://localhost:8080/"
        },
        "id": "JyTAyhTnUxuR",
        "outputId": "769a9d41-1ec5-4f55-f5dc-3cc3041b8afc"
      },
      "source": [
        "weights = get_scores(train_labels, p1_train, p2_train,p3_train, p4_train,p5_train, p6_train)\n",
        "\n",
        "ensemble_prob = weights[0]*p1_test+weights[1]*p2_test+weights[2]*p3_test+weights[3]*p4_test+weights[4]*p5_test+weights[5]*p6_test\n",
        "preds = predicting(ensemble_prob)\n",
        "correct = np.where(preds == test_labels)[0].shape[0]\n",
        "total = test_labels.shape[0]"
      ],
      "execution_count": 13,
      "outputs": [
        {
          "output_type": "stream",
          "name": "stderr",
          "text": [
            "/usr/local/lib/python3.7/dist-packages/sklearn/metrics/_classification.py:1308: UndefinedMetricWarning: Precision is ill-defined and being set to 0.0 due to no predicted samples. Use `zero_division` parameter to control this behavior.\n",
            "  _warn_prf(average, modifier, msg_start, len(result))\n",
            "/usr/local/lib/python3.7/dist-packages/sklearn/metrics/_classification.py:1308: UndefinedMetricWarning: Precision is ill-defined and being set to 0.0 due to no predicted samples. Use `zero_division` parameter to control this behavior.\n",
            "  _warn_prf(average, modifier, msg_start, len(result))\n",
            "/usr/local/lib/python3.7/dist-packages/sklearn/metrics/_classification.py:1308: UndefinedMetricWarning: Precision is ill-defined and being set to 0.0 due to no predicted samples. Use `zero_division` parameter to control this behavior.\n",
            "  _warn_prf(average, modifier, msg_start, len(result))\n",
            "/usr/local/lib/python3.7/dist-packages/sklearn/metrics/_classification.py:1308: UndefinedMetricWarning: Precision is ill-defined and being set to 0.0 due to no predicted samples. Use `zero_division` parameter to control this behavior.\n",
            "  _warn_prf(average, modifier, msg_start, len(result))\n",
            "/usr/local/lib/python3.7/dist-packages/sklearn/metrics/_classification.py:1308: UndefinedMetricWarning: Precision is ill-defined and being set to 0.0 due to no predicted samples. Use `zero_division` parameter to control this behavior.\n",
            "  _warn_prf(average, modifier, msg_start, len(result))\n"
          ]
        }
      ]
    },
    {
      "cell_type": "code",
      "source": [
        "from sklearn import metrics\n",
        "import matplotlib.pyplot as plt"
      ],
      "metadata": {
        "id": "oY6qd5nodcem"
      },
      "execution_count": 15,
      "outputs": []
    },
    {
      "cell_type": "code",
      "source": [
        "fpr, tpr, _ = metrics.roc_curve(test_labels,preds)\n",
        "\n",
        "#create ROC curve\n",
        "plt.plot(fpr,tpr)\n",
        "plt.ylabel('True Positive Rate')\n",
        "plt.xlabel('False Positive Rate')\n",
        "plt.show()"
      ],
      "metadata": {
        "colab": {
          "base_uri": "https://localhost:8080/",
          "height": 279
        },
        "id": "_D9DCcuOODKu",
        "outputId": "2c7f937c-50a7-4ce8-c313-361ccde4950d"
      },
      "execution_count": 16,
      "outputs": [
        {
          "output_type": "display_data",
          "data": {
            "image/png": "[encoded data removed]",
            "text/plain": [
              "<Figure size 432x288 with 1 Axes>"
            ]
          },
          "metadata": {
            "needs_background": "light"
          }
        }
      ]
    },
    {
      "cell_type": "code",
      "source": [
        "auc = metrics.roc_auc_score(test_labels,preds)\n",
        "#create ROC curve\n",
        "plt.plot(fpr,tpr,label=\"AUC=\"+str(auc))\n",
        "plt.ylabel('True Positive Rate')\n",
        "plt.xlabel('False Positive Rate')\n",
        "plt.legend(loc=4)\n",
        "plt.show()"
      ],
      "metadata": {
        "colab": {
          "base_uri": "https://localhost:8080/",
          "height": 279
        },
        "id": "UAJjHzfoOEC0",
        "outputId": "dd007ad4-173f-4650-c078-ddcf1971c01d"
      },
      "execution_count": 17,
      "outputs": [
        {
          "output_type": "display_data",
          "data": {
            "image/png": "[encoded data removed]",
            "text/plain": [
              "<Figure size 432x288 with 1 Axes>"
            ]
          },
          "metadata": {
            "needs_background": "light"
          }
        }
      ]
    },
    {
      "cell_type": "code",
      "metadata": {
        "id": "5t4UM4OnUz6O",
        "colab": {
          "base_uri": "https://localhost:8080/",
          "height": 521
        },
        "outputId": "d7cdd9a8-1335-49bd-d10a-1014f72d6f4d"
      },
      "source": [
        "print(\"Accuracy = \",correct/total)\n",
        "classes = ['Normal','Pneumonia']\n",
        "metrics(test_labels,preds,classes)"
      ],
      "execution_count": 22,
      "outputs": [
        {
          "output_type": "stream",
          "name": "stdout",
          "text": [
            "Accuracy =  0.878125\n",
            "Classification Report:\n",
            "              precision    recall  f1-score   support\n",
            "\n",
            "      Normal     1.0000    0.6777    0.8079       242\n",
            "   Pneumonia     0.8361    1.0000    0.9108       398\n",
            "\n",
            "    accuracy                         0.8781       640\n",
            "   macro avg     0.9181    0.8388    0.8593       640\n",
            "weighted avg     0.8981    0.8781    0.8719       640\n",
            "\n",
            "\n",
            "Classwise Accuracy :[0.67768595 1.        ]\n"
          ]
        },
        {
          "output_type": "display_data",
          "data": {
            "image/png": "[encoded data removed]",
            "text/plain": [
              "<Figure size 432x288 with 2 Axes>"
            ]
          },
          "metadata": {
            "needs_background": "light"
          }
        }
      ]
    }
  ]
}