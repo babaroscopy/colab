{
  "cells": [
    {
      "cell_type": "markdown",
      "metadata": {
        "id": "view-in-github",
        "colab_type": "text"
      },
      "source": [
        "<a href=\"https://colab.research.google.com/github/babaroscopy/colab/blob/main/VGG16.ipynb\" target=\"_parent\"><img src=\"https://colab.research.google.com/assets/colab-badge.svg\" alt=\"Open In Colab\"/></a>"
      ]
    },
    {
      "cell_type": "code",
      "execution_count": null,
      "metadata": {
        "colab": {
          "base_uri": "https://localhost:8080/"
        },
        "id": "LOmBnKsMNhRO",
        "outputId": "cdde121b-c76e-4a23-ba79-c590b88dcdbe"
      },
      "outputs": [
        {
          "output_type": "stream",
          "name": "stdout",
          "text": [
            "Cloning into 'Ensemble-Pneumonia-Detection'...\n",
            "remote: Enumerating objects: 85, done.\u001b[K\n",
            "remote: Counting objects: 100% (85/85), done.\u001b[K\n",
            "remote: Compressing objects: 100% (84/84), done.\u001b[K\n",
            "remote: Total 85 (delta 50), reused 0 (delta 0), pack-reused 0\u001b[K\n",
            "Unpacking objects: 100% (85/85), done.\n"
          ]
        }
      ],
      "source": [
        "!git clone https://github.com/Rohit-Kundu/Ensemble-Pneumonia-Detection.git"
      ]
    },
    {
      "cell_type": "code",
      "execution_count": null,
      "metadata": {
        "colab": {
          "base_uri": "https://localhost:8080/"
        },
        "id": "NrO2Hp4FNsVq",
        "outputId": "4db0f492-f677-489c-8b10-a4f45d71f405"
      },
      "outputs": [
        {
          "output_type": "stream",
          "name": "stdout",
          "text": [
            "Requirement already satisfied: pandas==1.1.5 in /usr/local/lib/python3.7/dist-packages (from -r Ensemble-Pneumonia-Detection/requirements.txt (line 1)) (1.1.5)\n",
            "\u001b[31mERROR: Could not find a version that satisfies the requirement torch==1.9.0+cu102 (from versions: 0.4.1, 0.4.1.post2, 1.0.0, 1.0.1, 1.0.1.post2, 1.1.0, 1.2.0, 1.3.0, 1.3.1, 1.4.0, 1.5.0, 1.5.1, 1.6.0, 1.7.0, 1.7.1, 1.8.0, 1.8.1, 1.9.0, 1.9.1, 1.10.0, 1.10.1)\u001b[0m\n",
            "\u001b[31mERROR: No matching distribution found for torch==1.9.0+cu102\u001b[0m\n"
          ]
        }
      ],
      "source": [
        "!pip install -r Ensemble-Pneumonia-Detection/requirements.txt"
      ]
    },
    {
      "cell_type": "code",
      "execution_count": null,
      "metadata": {
        "id": "p_l69uPnNxUw"
      },
      "outputs": [],
      "source": [
        "from google.colab import files"
      ]
    },
    {
      "cell_type": "code",
      "execution_count": null,
      "metadata": {
        "colab": {
          "base_uri": "https://localhost:8080/"
        },
        "id": "3iKlAsdhWU42",
        "outputId": "fdccbc40-1cf9-4a00-939b-11e415b23fca"
      },
      "outputs": [
        {
          "output_type": "stream",
          "name": "stdout",
          "text": [
            "Mounted at /content/gdrive\n"
          ]
        }
      ],
      "source": [
        "from google.colab import drive\n",
        "drive.mount('/content/gdrive')"
      ]
    },
    {
      "cell_type": "code",
      "execution_count": null,
      "metadata": {
        "id": "xYWBkp4SWiYV"
      },
      "outputs": [],
      "source": [
        "import os\n",
        "os.environ['KAGGLE_CONFIG_DIR'] = \"/content/gdrive/My Drive/Kaggle\""
      ]
    },
    {
      "cell_type": "code",
      "execution_count": null,
      "metadata": {
        "colab": {
          "base_uri": "https://localhost:8080/"
        },
        "id": "PTKHkaiPWo7C",
        "outputId": "43ad9489-e339-47e3-c588-593a84de08e4"
      },
      "outputs": [
        {
          "output_type": "stream",
          "name": "stdout",
          "text": [
            "/content/gdrive/My Drive/Kaggle\n"
          ]
        }
      ],
      "source": [
        "#changing the working directory\n",
        "%cd /content/gdrive/My Drive/Kaggle"
      ]
    },
    {
      "cell_type": "code",
      "execution_count": null,
      "metadata": {
        "colab": {
          "base_uri": "https://localhost:8080/"
        },
        "id": "K8PlYpweWunx",
        "outputId": "5e814dd8-9188-436e-dac3-78284c0065c2"
      },
      "outputs": [
        {
          "output_type": "stream",
          "name": "stdout",
          "text": [
            "chest-xray-pneumonia.zip  kaggle.json\n"
          ]
        }
      ],
      "source": [
        "ls"
      ]
    },
    {
      "cell_type": "code",
      "execution_count": null,
      "metadata": {
        "colab": {
          "base_uri": "https://localhost:8080/",
          "height": 35
        },
        "id": "0TGkyWhZWyzW",
        "outputId": "25610001-21e2-48a5-89be-82019f00feb8"
      },
      "outputs": [
        {
          "data": {
            "application/vnd.google.colaboratory.intrinsic+json": {
              "type": "string"
            },
            "text/plain": [
              "'/content/gdrive/My Drive/Kaggle'"
            ]
          },
          "execution_count": 8,
          "metadata": {},
          "output_type": "execute_result"
        }
      ],
      "source": [
        "pwd"
      ]
    },
    {
      "cell_type": "code",
      "execution_count": null,
      "metadata": {
        "id": "zlWjPXZzW5hp"
      },
      "outputs": [],
      "source": [
        "# Location of Zip File\n",
        "drive_path = '/content/gdrive/My Drive/Kaggle/chest-xray-pneumonia.zip'\n",
        "local_path = '/content'\n",
        "\n",
        "# Copy the zip file and move it up one level (AKA out of the drive folder)\n",
        "!cp '{drive_path}' .\n",
        "\n",
        "# Navigate to the copied file and unzip it quietly\n",
        "os.chdir(local_path)\n",
        "!unzip -q 'chest-xray-pneumonia.zip'"
      ]
    },
    {
      "cell_type": "code",
      "execution_count": null,
      "metadata": {
        "id": "HzNVgrR6OCRB"
      },
      "outputs": [],
      "source": [
        "!cp -r chest_xray/chest_xray/ Ensemble-Pneumonia-Detection/data/"
      ]
    },
    {
      "cell_type": "code",
      "execution_count": null,
      "metadata": {
        "id": "znoVdxDwqqi7"
      },
      "outputs": [],
      "source": [
        "!cp -r Ensemble-Pneumonia-Detection/data/test/NORMAL/*.jpeg Ensemble-Pneumonia-Detection/data/val/NORMAL/\n",
        "!cp -r Ensemble-Pneumonia-Detection/data/test/PNEUMONIA/*.jpeg Ensemble-Pneumonia-Detection/data/val/PNEUMONIA/"
      ]
    },
    {
      "cell_type": "code",
      "execution_count": null,
      "metadata": {
        "id": "HLd430llts0C"
      },
      "outputs": [],
      "source": [
        "!mkdir Ensemble-Pneumonia-Detection/train_csv\n",
        "!mkdir Ensemble-Pneumonia-Detection/test_csv\n",
        "#f = open(\"Ensemble-Pneumonia-Detection/train_csv/resnet18_train.csv\", \"x\")\n",
        "#f = open(\"Ensemble-Pneumonia-Detection/test_csv/resnet18_test.csv\", \"x\")\n",
        "#f = open(\"Ensemble-Pneumonia-Detection/train_csv/googlenet_train.csv\", \"x\")\n",
        "#f = open(\"Ensemble-Pneumonia-Detection/test_csv/googlenet_test.csv\", \"x\")\n",
        "#f = open(\"Ensemble-Pneumonia-Detection/train_csv/densenet121_train.csv\", \"x\")\n",
        "#f = open(\"Ensemble-Pneumonia-Detection/test_csv/densenet121_test.csv\", \"x\")\n",
        "f = open(\"Ensemble-Pneumonia-Detection/train_csv/vgg_train.csv\", \"x\")\n",
        "f = open(\"Ensemble-Pneumonia-Detection/test_csv/vgg_test.csv\", \"x\")\n",
        "#f = open(\"Ensemble-Pneumonia-Detection/train_csv/inception_train.csv\", \"x\")\n",
        "#f = open(\"Ensemble-Pneumonia-Detection/test_csv/inception_test.csv\", \"x\")\n",
        "#f = open(\"Ensemble-Pneumonia-Detection/train_csv/alexnet_train.csv\", \"x\")\n",
        "#f = open(\"Ensemble-Pneumonia-Detection/test_csv/alexnet_test.csv\", \"x\")\n",
        "f = open(\"Ensemble-Pneumonia-Detection/train_labels.csv\", \"x\")\n",
        "f = open(\"Ensemble-Pneumonia-Detection/test_labels.csv\", \"x\")"
      ]
    },
    {
      "cell_type": "code",
      "execution_count": null,
      "metadata": {
        "colab": {
          "base_uri": "https://localhost:8080/"
        },
        "id": "lyLikH8p_klE",
        "outputId": "df88aa6d-3876-4d7c-d24a-a2e637c1d5ec"
      },
      "outputs": [
        {
          "output_type": "stream",
          "name": "stdout",
          "text": [
            "Requirement already satisfied: scikit-plot in /usr/local/lib/python3.7/dist-packages (0.3.7)\n",
            "Requirement already satisfied: scipy>=0.9 in /usr/local/lib/python3.7/dist-packages (from scikit-plot) (1.4.1)\n",
            "Requirement already satisfied: scikit-learn>=0.18 in /usr/local/lib/python3.7/dist-packages (from scikit-plot) (1.0.1)\n",
            "Requirement already satisfied: joblib>=0.10 in /usr/local/lib/python3.7/dist-packages (from scikit-plot) (1.1.0)\n",
            "Requirement already satisfied: matplotlib>=1.4.0 in /usr/local/lib/python3.7/dist-packages (from scikit-plot) (3.2.2)\n",
            "Requirement already satisfied: cycler>=0.10 in /usr/local/lib/python3.7/dist-packages (from matplotlib>=1.4.0->scikit-plot) (0.11.0)\n",
            "Requirement already satisfied: python-dateutil>=2.1 in /usr/local/lib/python3.7/dist-packages (from matplotlib>=1.4.0->scikit-plot) (2.8.2)\n",
            "Requirement already satisfied: numpy>=1.11 in /usr/local/lib/python3.7/dist-packages (from matplotlib>=1.4.0->scikit-plot) (1.19.5)\n",
            "Requirement already satisfied: kiwisolver>=1.0.1 in /usr/local/lib/python3.7/dist-packages (from matplotlib>=1.4.0->scikit-plot) (1.3.2)\n",
            "Requirement already satisfied: pyparsing!=2.0.4,!=2.1.2,!=2.1.6,>=2.0.1 in /usr/local/lib/python3.7/dist-packages (from matplotlib>=1.4.0->scikit-plot) (3.0.6)\n",
            "Requirement already satisfied: six>=1.5 in /usr/local/lib/python3.7/dist-packages (from python-dateutil>=2.1->matplotlib>=1.4.0->scikit-plot) (1.15.0)\n",
            "Requirement already satisfied: threadpoolctl>=2.0.0 in /usr/local/lib/python3.7/dist-packages (from scikit-learn>=0.18->scikit-plot) (3.0.0)\n"
          ]
        }
      ],
      "source": [
        "pip install scikit-plot"
      ]
    },
    {
      "cell_type": "code",
      "execution_count": null,
      "metadata": {
        "id": "9vWZsoaBOQYP"
      },
      "outputs": [],
      "source": [
        "import torch\n",
        "import torch.nn as nn\n",
        "import torch.optim as optim\n",
        "from torch.optim import lr_scheduler\n",
        "import numpy as np\n",
        "import torchvision\n",
        "from torchvision import datasets, models, transforms\n",
        "import matplotlib.pyplot as plt\n",
        "import time\n",
        "import os\n",
        "import copy\n",
        "import csv\n",
        "import numpy as np\n",
        "import pandas as pd\n",
        "from sklearn.metrics import *\n",
        "import math\n",
        "import scikitplot as skplt "
      ]
    },
    {
      "cell_type": "code",
      "execution_count": null,
      "metadata": {
        "colab": {
          "base_uri": "https://localhost:8080/"
        },
        "id": "qx9zl8IFOYF5",
        "outputId": "660ad69d-3adf-47f1-f1bc-59903f2074d5"
      },
      "outputs": [
        {
          "output_type": "stream",
          "name": "stdout",
          "text": [
            "['NORMAL', 'PNEUMONIA']\n"
          ]
        }
      ],
      "source": [
        "mean = np.array([0.485, 0.456, 0.406])\n",
        "std = np.array([0.229, 0.224, 0.225])\n",
        "\n",
        "data_transforms = {\n",
        "    'train': transforms.Compose([\n",
        "        transforms.Resize((224,224)),\n",
        "        transforms.ToTensor(),\n",
        "        transforms.Normalize(mean, std)\n",
        "    ]),\n",
        "    'val': transforms.Compose([\n",
        "        transforms.Resize((224,224)),\n",
        "        transforms.ToTensor(),\n",
        "        transforms.Normalize(mean, std)\n",
        "    ]),\n",
        "}\n",
        "\n",
        "data_dir = \"Ensemble-Pneumonia-Detection/data\"\n",
        "\n",
        "image_datasets = {x: datasets.ImageFolder(os.path.join(data_dir, x), data_transforms[x]) for x in ['train', 'val']}\n",
        "dataloaders = {x: torch.utils.data.DataLoader(image_datasets[x], batch_size=16, shuffle=True, num_workers=2) for x in ['train', 'val']}\n",
        "\n",
        "dataset_sizes = {x: len(image_datasets[x]) for x in ['train', 'val']}\n",
        "class_names = image_datasets['train'].classes\n",
        "num_classes = len(class_names)\n",
        "\n",
        "device = torch.device(\"cuda:0\" if torch.cuda.is_available() else \"cpu\")\n",
        "print(class_names)"
      ]
    },
    {
      "cell_type": "code",
      "execution_count": null,
      "metadata": {
        "id": "JbK0ii3nOa9k"
      },
      "outputs": [],
      "source": [
        "def imshow(inp, title):\n",
        "    \"\"\"Imshow for Tensor.\"\"\"\n",
        "    inp = inp.numpy().transpose((1, 2, 0))\n",
        "    inp = std * inp + mean\n",
        "    inp = np.clip(inp, 0, 1)\n",
        "    plt.imshow(inp)\n",
        "    plt.title(title)\n",
        "    plt.show()"
      ]
    },
    {
      "cell_type": "code",
      "execution_count": null,
      "metadata": {
        "colab": {
          "base_uri": "https://localhost:8080/",
          "height": 143
        },
        "id": "1wnz8x8zOhFj",
        "outputId": "ba41c62b-0ff2-4173-f38b-ecc3b308d786"
      },
      "outputs": [
        {
          "output_type": "display_data",
          "data": {
            "image/png": "[encoded data removed]",
            "text/plain": [
              "<Figure size 432x288 with 1 Axes>"
            ]
          },
          "metadata": {
            "needs_background": "light"
          }
        }
      ],
      "source": [
        "# Get a batch of training data\n",
        "inputs, classes = next(iter(dataloaders['train']))\n",
        "\n",
        "# Make a grid from batch\n",
        "out = torchvision.utils.make_grid(inputs)\n",
        "\n",
        "imshow(out, title=[class_names[x] for x in classes])"
      ]
    },
    {
      "cell_type": "code",
      "execution_count": null,
      "metadata": {
        "id": "SxH13od8OlBq"
      },
      "outputs": [],
      "source": [
        "def plot(val_loss,train_loss,typ):\n",
        "    plt.title(\"VGG16:\")\n",
        "    plt.xlabel(\"Epoch\")\n",
        "    plt.ylabel(typ)\n",
        "    plt.plot(list(range(len(train_loss))),train_loss,color=\"r\",label=\"Train \"+typ)\n",
        "    plt.plot(list(range(len(val_loss))),val_loss,color=\"b\",label=\"Validation \"+typ)\n",
        "    plt.legend()\n",
        "    plt.show()\n",
        "    plt.savefig(os.path.join(data_dir,typ+\".png\"))\n",
        "    plt.close()"
      ]
    },
    {
      "cell_type": "code",
      "execution_count": null,
      "metadata": {
        "id": "bVaHwDOhOsGc"
      },
      "outputs": [],
      "source": [
        "val_loss_gph=[]\n",
        "train_loss_gph=[]\n",
        "val_acc_gph=[]\n",
        "train_acc_gph=[]\n",
        "\n",
        "def train_model(model, criterion, optimizer, scheduler, num_epochs=25,model_name = \"kaggle\"):\n",
        "    since = time.time()\n",
        "\n",
        "    best_model_wts = copy.deepcopy(model.state_dict())\n",
        "    best_acc = 0.0\n",
        "\n",
        "    for epoch in range(num_epochs):\n",
        "        print('Epoch {}/{}'.format(epoch+1, num_epochs))\n",
        "        print('-' * 10)\n",
        "\n",
        "        # Each epoch has a training and validation phase\n",
        "        for phase in ['train', 'val']:\n",
        "            if phase == 'train':\n",
        "                model.train()  # Set model to training mode\n",
        "            else:\n",
        "                model.eval()   # Set model to evaluate mode\n",
        "\n",
        "            running_loss = 0.0\n",
        "            running_corrects = 0\n",
        "\n",
        "            # Iterate over data.\n",
        "            for inputs, labels in dataloaders[phase]:\n",
        "                inputs = inputs.to(device)\n",
        "                labels = labels.to(device)\n",
        "\n",
        "                # forward\n",
        "                # track history if only in train\n",
        "                with torch.set_grad_enabled(phase == 'train'):\n",
        "                    outputs = model(inputs)\n",
        "                    _, preds = torch.max(outputs, 1) #was (outputs,1) for non-inception and (outputs.data,1) for inception\n",
        "                    loss = criterion(outputs, labels)\n",
        "\n",
        "                    # backward + optimize only if in training phase\n",
        "                    if phase == 'train':\n",
        "                        optimizer.zero_grad()\n",
        "                        loss.backward()\n",
        "                        optimizer.step()\n",
        "\n",
        "                # statistics\n",
        "                running_loss += loss.item() * inputs.size(0)\n",
        "                running_corrects += torch.sum(preds == labels.data)\n",
        "\n",
        "            if phase == 'train':\n",
        "                scheduler.step()\n",
        "\n",
        "            epoch_loss = running_loss / dataset_sizes[phase]\n",
        "            epoch_acc = running_corrects.double() / dataset_sizes[phase]\n",
        "\n",
        "            if phase == 'train':\n",
        "              train_loss_gph.append(epoch_loss)\n",
        "              train_acc_gph.append(epoch_acc)\n",
        "            if phase == 'val':\n",
        "              val_loss_gph.append(epoch_loss)\n",
        "              val_acc_gph.append(epoch_acc)\n",
        "            \n",
        "           # plot(val_loss_gph,train_loss_gph, \"Loss\")\n",
        "           # plot(val_acc_gph,train_acc_gph, \"Accuracy\")\n",
        "\n",
        "            print('{} Loss: {:.4f} Acc: {:.4f}'.format(\n",
        "                phase, epoch_loss, epoch_acc))\n",
        "\n",
        "            # deep copy the model\n",
        "            if phase == 'val' and epoch_acc >= best_acc:\n",
        "                best_acc = epoch_acc\n",
        "                best_model_wts = copy.deepcopy(model.state_dict())\n",
        "                torch.save(model, data_dir+\"/\"+model_name+\".h5\")\n",
        "                print('==>Model Saved')\n",
        "\n",
        "        print()\n",
        "\n",
        "    time_elapsed = time.time() - since\n",
        "    print('Training complete in {:.0f}m {:.0f}s'.format(\n",
        "        time_elapsed // 60, time_elapsed % 60))\n",
        "    print('Best val Acc: {:4f}'.format(best_acc))\n",
        "    plot(val_loss_gph,train_loss_gph, \"Loss\")\n",
        "    plot(val_acc_gph,train_acc_gph, \"Accuracy\")\n",
        "    # load best model weights\n",
        "    model.load_state_dict(best_model_wts)\n",
        "    return model"
      ]
    },
    {
      "cell_type": "markdown",
      "metadata": {
        "id": "j0nB6Kq2QFaR"
      },
      "source": [
        "**VGG16**"
      ]
    },
    {
      "cell_type": "code",
      "execution_count": null,
      "metadata": {
        "colab": {
          "base_uri": "https://localhost:8080/",
          "height": 84,
          "referenced_widgets": [
            "511928f9e46d4647b5d6bde990268bcc",
            "a75dc95db2f04788a85e883cec491e68",
            "a59f53c3bfeb44eebc1f75a09449387e",
            "a24712a8b7c74b16871f149482f375cb",
            "c7abaec15ff34e3aa5803eb5101b6dea",
            "2eca26a756f8442a9c067ad80f29eea9",
            "b4892039fcc146b28eb46023b04e4101",
            "adc756e444124477b85ae171e9e2e31c",
            "5e09ffe4a8da461bac3e12f95a8ca2d5",
            "0262c1b0003e419ea2eb4b0a783c39a1",
            "f5cae9a13b594a2986c412954390ccda"
          ]
        },
        "id": "NYTe16bUQHiG",
        "outputId": "2fea8b36-06ee-4c1e-8164-85f6a75b659b"
      },
      "outputs": [
        {
          "output_type": "stream",
          "name": "stderr",
          "text": [
            "Downloading: \"https://download.pytorch.org/models/vgg16_bn-6c64b313.pth\" to /root/.cache/torch/hub/checkpoints/vgg16_bn-6c64b313.pth\n"
          ]
        },
        {
          "output_type": "display_data",
          "data": {
            "application/vnd.jupyter.widget-view+json": {
              "model_id": "511928f9e46d4647b5d6bde990268bcc",
              "version_minor": 0,
              "version_major": 2
            },
            "text/plain": [
              "  0%|          | 0.00/528M [00:00<?, ?B/s]"
            ]
          },
          "metadata": {}
        },
        {
          "output_type": "stream",
          "name": "stdout",
          "text": [
            "Number of features: 4096\n"
          ]
        }
      ],
      "source": [
        "model = models.vgg16_bn(pretrained = True)\n",
        "\n",
        "#num_ftrs = model.fc.in_features  ##for googlenet, resnet18\n",
        "num_ftrs = model.classifier[6].in_features  ## for densenet169\n",
        "print(\"Number of features: \"+str(num_ftrs))"
      ]
    },
    {
      "cell_type": "code",
      "execution_count": null,
      "metadata": {
        "id": "PEBGz6IyQTXT"
      },
      "outputs": [],
      "source": [
        "#model.fc = nn.Linear(num_ftrs, num_classes)  ##for googlenet, resnet18\n",
        "model.classifier[6] = nn.Linear(num_ftrs, num_classes) ## for densenet169\n",
        "model = model.to(device)"
      ]
    },
    {
      "cell_type": "code",
      "execution_count": null,
      "metadata": {
        "id": "fOONzOLIQjC1"
      },
      "outputs": [],
      "source": [
        "criterion = nn.CrossEntropyLoss()\n",
        "\n",
        "# Observe that all parameters are being optimized\n",
        "optimizer = optim.Adam(model.parameters(), lr=0.0001)"
      ]
    },
    {
      "cell_type": "code",
      "execution_count": null,
      "metadata": {
        "id": "Gh72IvI_Qj1R"
      },
      "outputs": [],
      "source": [
        "# StepLR Decays the learning rate of each parameter group by gamma every step_size epochs\n",
        "# Decay LR by a factor of 0.1 every 7 epochs\n",
        "# Learning rate scheduling should be applied after optimizer’s update\n",
        "# e.g., you should write your code this way:\n",
        "# for epoch in range(100):\n",
        "#     train(...)\n",
        "#     validate(...)\n",
        "#     scheduler.step()\n",
        "step_lr_scheduler = lr_scheduler.StepLR(optimizer, step_size = 10, gamma=0.1)"
      ]
    },
    {
      "cell_type": "code",
      "execution_count": null,
      "metadata": {
        "colab": {
          "base_uri": "https://localhost:8080/",
          "height": 1000
        },
        "id": "nfnoiznwQu6Q",
        "outputId": "1ed56e4c-79b2-4fab-942a-8ca20fd4608c"
      },
      "outputs": [
        {
          "output_type": "stream",
          "name": "stdout",
          "text": [
            "Epoch 1/30\n",
            "----------\n",
            "train Loss: 0.1032 Acc: 0.9624\n",
            "val Loss: 0.5687 Acc: 0.8906\n",
            "==>Model Saved\n",
            "\n",
            "Epoch 2/30\n",
            "----------\n",
            "train Loss: 0.0363 Acc: 0.9873\n",
            "val Loss: 1.7374 Acc: 0.7922\n",
            "\n",
            "Epoch 3/30\n",
            "----------\n",
            "train Loss: 0.0340 Acc: 0.9889\n",
            "val Loss: 1.5936 Acc: 0.8234\n",
            "\n",
            "Epoch 4/30\n",
            "----------\n",
            "train Loss: 0.0203 Acc: 0.9935\n",
            "val Loss: 1.4256 Acc: 0.8578\n",
            "\n",
            "Epoch 5/30\n",
            "----------\n",
            "train Loss: 0.0185 Acc: 0.9954\n",
            "val Loss: 2.4503 Acc: 0.8109\n",
            "\n",
            "Epoch 6/30\n",
            "----------\n",
            "train Loss: 0.0282 Acc: 0.9910\n",
            "val Loss: 1.1878 Acc: 0.9000\n",
            "==>Model Saved\n",
            "\n",
            "Epoch 7/30\n",
            "----------\n",
            "train Loss: 0.0154 Acc: 0.9960\n",
            "val Loss: 0.7653 Acc: 0.8344\n",
            "\n",
            "Epoch 8/30\n",
            "----------\n",
            "train Loss: 0.0103 Acc: 0.9967\n",
            "val Loss: 1.6380 Acc: 0.8344\n",
            "\n",
            "Epoch 9/30\n",
            "----------\n",
            "train Loss: 0.0208 Acc: 0.9946\n",
            "val Loss: 2.2825 Acc: 0.8266\n",
            "\n",
            "Epoch 10/30\n",
            "----------\n",
            "train Loss: 0.0161 Acc: 0.9937\n",
            "val Loss: 3.3532 Acc: 0.7828\n",
            "\n",
            "Epoch 11/30\n",
            "----------\n",
            "train Loss: 0.0012 Acc: 0.9996\n",
            "val Loss: 2.7698 Acc: 0.8109\n",
            "\n",
            "Epoch 12/30\n",
            "----------\n",
            "train Loss: 0.0005 Acc: 1.0000\n",
            "val Loss: 3.3308 Acc: 0.8000\n",
            "\n",
            "Epoch 13/30\n",
            "----------\n",
            "train Loss: 0.0002 Acc: 1.0000\n",
            "val Loss: 3.3477 Acc: 0.7875\n",
            "\n",
            "Epoch 14/30\n",
            "----------\n",
            "train Loss: 0.0009 Acc: 0.9996\n",
            "val Loss: 3.2594 Acc: 0.7922\n",
            "\n",
            "Epoch 15/30\n",
            "----------\n",
            "train Loss: 0.0001 Acc: 1.0000\n",
            "val Loss: 3.4281 Acc: 0.8031\n",
            "\n",
            "Epoch 16/30\n",
            "----------\n",
            "train Loss: 0.0002 Acc: 1.0000\n",
            "val Loss: 3.5869 Acc: 0.7844\n",
            "\n",
            "Epoch 17/30\n",
            "----------\n",
            "train Loss: 0.0000 Acc: 1.0000\n",
            "val Loss: 3.2741 Acc: 0.8016\n",
            "\n",
            "Epoch 18/30\n",
            "----------\n",
            "train Loss: 0.0001 Acc: 1.0000\n",
            "val Loss: 3.5825 Acc: 0.7938\n",
            "\n",
            "Epoch 19/30\n",
            "----------\n",
            "train Loss: 0.0001 Acc: 1.0000\n",
            "val Loss: 3.5600 Acc: 0.7969\n",
            "\n",
            "Epoch 20/30\n",
            "----------\n",
            "train Loss: 0.0000 Acc: 1.0000\n",
            "val Loss: 3.7608 Acc: 0.7969\n",
            "\n",
            "Epoch 21/30\n",
            "----------\n",
            "train Loss: 0.0000 Acc: 1.0000\n",
            "val Loss: 3.4258 Acc: 0.8141\n",
            "\n",
            "Epoch 22/30\n",
            "----------\n",
            "train Loss: 0.0000 Acc: 1.0000\n",
            "val Loss: 3.6206 Acc: 0.8031\n",
            "\n",
            "Epoch 23/30\n",
            "----------\n",
            "train Loss: 0.0001 Acc: 1.0000\n",
            "val Loss: 3.6331 Acc: 0.8000\n",
            "\n",
            "Epoch 24/30\n",
            "----------\n",
            "train Loss: 0.0000 Acc: 1.0000\n",
            "val Loss: 3.7224 Acc: 0.8063\n",
            "\n",
            "Epoch 25/30\n",
            "----------\n",
            "train Loss: 0.0001 Acc: 1.0000\n",
            "val Loss: 3.9012 Acc: 0.7922\n",
            "\n",
            "Epoch 26/30\n",
            "----------\n",
            "train Loss: 0.0000 Acc: 1.0000\n",
            "val Loss: 3.7919 Acc: 0.7953\n",
            "\n",
            "Epoch 27/30\n",
            "----------\n",
            "train Loss: 0.0002 Acc: 0.9998\n",
            "val Loss: 3.6163 Acc: 0.8094\n",
            "\n",
            "Epoch 28/30\n",
            "----------\n",
            "train Loss: 0.0000 Acc: 1.0000\n",
            "val Loss: 3.3286 Acc: 0.8172\n",
            "\n",
            "Epoch 29/30\n",
            "----------\n",
            "train Loss: 0.0000 Acc: 1.0000\n",
            "val Loss: 3.8750 Acc: 0.7875\n",
            "\n",
            "Epoch 30/30\n",
            "----------\n",
            "train Loss: 0.0000 Acc: 1.0000\n",
            "val Loss: 3.7667 Acc: 0.8047\n",
            "\n",
            "Training complete in 115m 3s\n",
            "Best val Acc: 0.900000\n"
          ]
        },
        {
          "output_type": "display_data",
          "data": {
            "image/png": "[encoded data removed]",
            "text/plain": [
              "<Figure size 432x288 with 1 Axes>"
            ]
          },
          "metadata": {
            "needs_background": "light"
          }
        },
        {
          "output_type": "display_data",
          "data": {
            "image/png": "[encoded data removed]",
            "text/plain": [
              "<Figure size 432x288 with 1 Axes>"
            ]
          },
          "metadata": {
            "needs_background": "light"
          }
        }
      ],
      "source": [
        "model = train_model(model, criterion, optimizer, step_lr_scheduler, num_epochs=30, model_name = \"vgg16_bn\")"
      ]
    },
    {
      "cell_type": "code",
      "execution_count": null,
      "metadata": {
        "colab": {
          "base_uri": "https://localhost:8080/"
        },
        "id": "NJIsdpYfQ94J",
        "outputId": "e607d050-ce62-4dba-e159-c437a0a606b4"
      },
      "outputs": [
        {
          "output_type": "stream",
          "name": "stdout",
          "text": [
            "\n",
            "Getting the Probability Distribution\n"
          ]
        }
      ],
      "source": [
        "# Getting Proba distribution\n",
        "print(\"\\nGetting the Probability Distribution\")\n",
        "trainloader=torch.utils.data.DataLoader(image_datasets['train'],batch_size=1)\n",
        "testloader=torch.utils.data.DataLoader(image_datasets['val'],batch_size=1)"
      ]
    },
    {
      "cell_type": "code",
      "execution_count": null,
      "metadata": {
        "id": "DmHTDti0REEN"
      },
      "outputs": [],
      "source": [
        "model=model.eval()"
      ]
    },
    {
      "cell_type": "code",
      "execution_count": null,
      "metadata": {
        "colab": {
          "base_uri": "https://localhost:8080/"
        },
        "id": "Xt5NbLpERI_S",
        "outputId": "2e833990-5c92-420b-b01a-282f75b06b1b"
      },
      "outputs": [
        {
          "output_type": "stream",
          "name": "stdout",
          "text": [
            "Train Accuracy =  98.96472392638037\n"
          ]
        }
      ],
      "source": [
        "correct = 0\n",
        "total = 0\n",
        "data_dir = \"Ensemble-Pneumonia-Detection/train_csv\"\n",
        "#Train Probabilities\n",
        "f = open(data_dir+\"/vgg_train.csv\",'w+',newline = '')\n",
        "writer = csv.writer(f)\n",
        "saving = []\n",
        "with torch.no_grad():\n",
        "      num = 0\n",
        "      temp_array = np.zeros((len(trainloader),num_classes))\n",
        "      for i,data in enumerate(trainloader):\n",
        "          images, labels = data\n",
        "          sample_fname, _ = trainloader.dataset.samples[i]\n",
        "          labels=labels.cuda()\n",
        "          outputs = model(images.cuda())\n",
        "          _, predicted = torch.max(outputs, 1)\n",
        "          total += labels.size(0)\n",
        "          correct += (predicted == labels.cuda()).sum().item()\n",
        "          prob = torch.nn.functional.softmax(outputs, dim=1)\n",
        "          saving.append(sample_fname.split('/')[-1])\n",
        "          temp_array[num] = np.asarray(prob[0].tolist()[0:num_classes])\n",
        "          num+=1\n",
        "print(\"Train Accuracy = \",100*correct/total)\n",
        "for i in range(len(trainloader)):\n",
        "  k = temp_array[i].tolist()\n",
        "  k.append(saving[i])\n",
        "  writer.writerow(k)\n",
        "\n",
        "f.close()"
      ]
    },
    {
      "cell_type": "code",
      "execution_count": null,
      "metadata": {
        "id": "6EhvF3GuRRqS"
      },
      "outputs": [],
      "source": [
        "data_dir = \"Ensemble-Pneumonia-Detection\"\n",
        "\n",
        "f = open(data_dir+\"/train_labels.csv\",'w+',newline = '')\n",
        "writer = csv.writer(f)\n",
        "for i,data in enumerate(testloader):\n",
        "  _, labels = data\n",
        "  sample_fname, _ = testloader.dataset.samples[i]\n",
        "  sample = sample_fname.split('/')[-1]\n",
        "  lab = labels.tolist()[0]\n",
        "  writer.writerow([sample,lab])\n",
        "f.close()"
      ]
    },
    {
      "cell_type": "code",
      "execution_count": null,
      "metadata": {
        "colab": {
          "base_uri": "https://localhost:8080/"
        },
        "id": "n_IyCb7UTT6c",
        "outputId": "2af7e6fc-9c6f-44d4-b5b0-8764fdb20703"
      },
      "outputs": [
        {
          "output_type": "stream",
          "name": "stdout",
          "text": [
            "Test Accuracy =  97.98497267759562\n"
          ]
        }
      ],
      "source": [
        "data_dir = \"Ensemble-Pneumonia-Detection/test_csv\"\n",
        "\n",
        "#Test Probabilities\n",
        "f = open(data_dir+\"/vgg_test.csv\",'w+',newline = '')\n",
        "writer = csv.writer(f)\n",
        "saving = []\n",
        "with torch.no_grad():\n",
        "      num = 0\n",
        "      temp_array = np.zeros((len(testloader),num_classes))\n",
        "      for i,data in enumerate(testloader):\n",
        "          images, labels = data\n",
        "          sample_fname, _ = testloader.dataset.samples[i]\n",
        "          labels=labels.cuda()\n",
        "          outputs = model(images.cuda())\n",
        "          _, predicted = torch.max(outputs, 1)\n",
        "          total += labels.size(0)\n",
        "          correct += (predicted == labels.cuda()).sum().item()\n",
        "          prob = torch.nn.functional.softmax(outputs, dim=1)\n",
        "          saving.append(sample_fname.split('/')[-1])\n",
        "          temp_array[num] = np.asarray(prob[0].tolist()[0:num_classes])\n",
        "          num+=1\n",
        "print(\"Test Accuracy = \",100*correct/total)\n",
        "for i in range(len(testloader)):\n",
        "  k = temp_array[i].tolist()\n",
        "  k.append(saving[i])\n",
        "  writer.writerow(k)\n",
        "\n",
        "f.close()"
      ]
    },
    {
      "cell_type": "code",
      "execution_count": null,
      "metadata": {
        "id": "ktxGwVgpTZcT"
      },
      "outputs": [],
      "source": [
        "data_dir = \"Ensemble-Pneumonia-Detection\"\n",
        "\n",
        "f = open(data_dir+\"/test_labels.csv\",'w+',newline = '')\n",
        "writer = csv.writer(f)\n",
        "for i,data in enumerate(testloader):\n",
        "  _, labels = data\n",
        "  sample_fname, _ = testloader.dataset.samples[i]\n",
        "  sample = sample_fname.split('/')[-1]\n",
        "  lab = labels.tolist()[0]\n",
        "  writer.writerow([sample,lab])\n",
        "f.close()"
      ]
    },
    {
      "cell_type": "markdown",
      "metadata": {
        "id": "xHDZdAbRSa9U"
      },
      "source": [
        "**ensemble**"
      ]
    },
    {
      "cell_type": "code",
      "execution_count": null,
      "metadata": {
        "id": "ja7NxxzCScxa"
      },
      "outputs": [],
      "source": [
        "def getfile(filename):\n",
        "    root=\"./\"\n",
        "    file = root+filename\n",
        "    if '.csv' not in file:\n",
        "        file+='.csv'\n",
        "    df = pd.read_csv(file,header=None)\n",
        "    df = np.asarray(df)[:,:-1] #Since last column has image names\n",
        "    return df"
      ]
    },
    {
      "cell_type": "code",
      "execution_count": null,
      "metadata": {
        "id": "pObQGKDAUVBC"
      },
      "outputs": [],
      "source": [
        "def getlabels(filename):\n",
        "    root=\"./\"\n",
        "    file = root+filename\n",
        "    if '.csv' not in file:\n",
        "        file+='.csv'\n",
        "    df = pd.read_csv(file,header=None)\n",
        "    df = np.asarray(df)[:,1] #Since first column has image names\n",
        "    return df.astype(int)"
      ]
    },
    {
      "cell_type": "code",
      "execution_count": null,
      "metadata": {
        "id": "fiFPQwPUUX6W"
      },
      "outputs": [],
      "source": [
        "def predicting(ensemble_prob):\n",
        "    prediction = np.zeros((ensemble_prob.shape[0],))\n",
        "    for i in range(ensemble_prob.shape[0]):\n",
        "        temp = ensemble_prob[i]\n",
        "        t = np.where(temp == np.max(temp))[0][0]\n",
        "        prediction[i] = t\n",
        "    return prediction"
      ]
    },
    {
      "cell_type": "code",
      "execution_count": null,
      "metadata": {
        "id": "9CEG3SbBUkcp"
      },
      "outputs": [],
      "source": [
        "def metrics(labels,predictions,classes):\n",
        "    print(\"Classification Report:\")\n",
        "    print(classification_report(labels, predictions, target_names = classes,digits = 4))\n",
        "    skplt.metrics.plot_confusion_matrix(labels, predictions, normalize=True)\n",
        "    matrix = confusion_matrix(labels, predictions,normalize='all')\n",
        "    '''\n",
        "    print(\"Confusion matrix:\")\n",
        "    print(matrix)'''\n",
        "    print(\"\\nClasswise Accuracy :{}\".format(matrix.diagonal()/matrix.sum(axis = 1)))"
      ]
    },
    {
      "cell_type": "code",
      "execution_count": null,
      "metadata": {
        "id": "N1GdIy6iUm-W"
      },
      "outputs": [],
      "source": [
        "\n",
        "def get_scores(labels, *argv):\n",
        "    #outputs matrix of shape (no. of arg, 4) of precision, recall, f1-score, Area Under Curve\n",
        "    count = len(argv)\n",
        "    metrics = np.zeros(shape=(4,count))\n",
        "    num_classes = np.unique(labels).shape[0]\n",
        "    for i, arg in enumerate(argv):\n",
        "        preds = predicting(arg)\n",
        "        if num_classes==2:\n",
        "            pre = precision_score(labels,preds[:640])\n",
        "            rec = recall_score(labels,preds[:640])\n",
        "            f1 = f1_score(labels,preds[:640])\n",
        "            auc = roc_auc_score(labels,preds[:640])\n",
        "        else:\n",
        "            pre = precision_score(labels,preds[:640],average='macro')\n",
        "            rec = recall_score(labels,preds[:640],average='macro')\n",
        "            f1 = f1_score(labels,preds[:640],average='macro')\n",
        "            auc = roc_auc_score(labels,arg[:640],average='macro',multi_class='ovo')\n",
        "        metrics[:,i] = np.array([pre,rec,f1,auc])\n",
        "    weights = get_weights(np.transpose(metrics))\n",
        "    #print(\"Weights: \",weights)\n",
        "    return weights\n",
        "    '''\n",
        "\n",
        "def get_scores(labels,*argv):\n",
        "    #outputs matrix of shape (no. of arg, 4) of precision, recall, f1-score, Area Under Curve\n",
        "    count = len(argv)\n",
        "    metrics = np.zeros(shape=(4,count))\n",
        "    num_classes = np.unique(labels).shape[0]\n",
        "    for i,arg in enumerate(argv):\n",
        "        preds = predicting(arg)\n",
        "        print(labels.shape)\n",
        "        print(preds.shape)\n",
        "        print(len(labels))\n",
        "        print(len(preds))\n",
        "        if num_classes==2:\n",
        "            pre = precision_score(labels,preds)\n",
        "            rec = recall_score(labels,preds)\n",
        "            f1 = f1_score(labels,preds)\n",
        "            auc = roc_auc_score(labels,preds)\n",
        "        else:\n",
        "            pre = precision_score(labels,preds,average='macro')\n",
        "            rec = recall_score(labels,preds,average='macro')\n",
        "            f1 = f1_score(labels,preds,average='macro')\n",
        "            auc = roc_auc_score(labels,arg,average='macro',multi_class='ovo')\n",
        "        metrics[:,i] = np.array([pre,rec,f1,auc])\n",
        "    weights = get_weights(np.transpose(metrics))\n",
        "    #print(\"Weights: \",weights)\n",
        "    return weights\n",
        "'''"
      ]
    },
    {
      "cell_type": "code",
      "execution_count": null,
      "metadata": {
        "id": "Z_ZKyFngUqer"
      },
      "outputs": [],
      "source": [
        "def get_weights(matrix):\n",
        "    weights = []\n",
        "    for i in range(matrix.shape[0]):\n",
        "        m = matrix[i]\n",
        "        w = 0\n",
        "        for j in range(m.shape[0]):\n",
        "            w+=np.tanh(m[j])\n",
        "        weights.append(w)\n",
        "    return weights"
      ]
    },
    {
      "cell_type": "code",
      "execution_count": null,
      "metadata": {
        "colab": {
          "base_uri": "https://localhost:8080/",
          "height": 53
        },
        "id": "e5GxtUxXUtOD",
        "outputId": "27204588-61c1-4cf6-e31f-b597fc6d0555"
      },
      "outputs": [
        {
          "output_type": "execute_result",
          "data": {
            "application/vnd.google.colaboratory.intrinsic+json": {
              "type": "string"
            },
            "text/plain": [
              "'\\ntrain_labels = \"Ensemble-Pneumonia-Detection/train_labels.csv\"\\ntrain_labels = getlabels(train_labels)\\n\\ntest_labels = \"Ensemble-Pneumonia-Detection/test_labels.csv\"\\ntest_labels = getlabels(test_labels)\\n'"
            ]
          },
          "metadata": {},
          "execution_count": 37
        }
      ],
      "source": [
        "root_train = \"Ensemble-Pneumonia-Detection/train_csv/\"\n",
        "root_test  = \"Ensemble-Pneumonia-Detection/test_csv/\"\n",
        "'''\n",
        "train_labels = \"Ensemble-Pneumonia-Detection/train_labels.csv\"\n",
        "train_labels = getlabels(train_labels)\n",
        "\n",
        "test_labels = \"Ensemble-Pneumonia-Detection/test_labels.csv\"\n",
        "test_labels = getlabels(test_labels)\n",
        "'''"
      ]
    },
    {
      "cell_type": "code",
      "execution_count": null,
      "metadata": {
        "id": "j_XHoFXbUvds"
      },
      "outputs": [],
      "source": [
        "csv_list = os.listdir(root_train)\n",
        "p1_train = getfile(root_train+csv_list[0])\n",
        "#p2_train = getfile(root_train+csv_list[1])\n",
        "#p3_train = getfile(root_train+csv_list[2])\n",
        "\n",
        "train_labels = \"Ensemble-Pneumonia-Detection/train_labels.csv\"\n",
        "train_labels = getlabels(train_labels)\n",
        "#train_labels = getlabels(train_labels)\n",
        "\n",
        "p1_test = getfile(root_test+csv_list[0].replace('train','test'))\n",
        "#p2_test = getfile(root_test+csv_list[1].replace('train','test'))\n",
        "#p3_test = getfile(root_test+csv_list[2].replace('train','test'))\n",
        "\n",
        "test_labels = \"Ensemble-Pneumonia-Detection/test_labels.csv\"\n",
        "test_labels = getlabels(test_labels)\n",
        "#test_labels = getlabels(test_labels)"
      ]
    },
    {
      "cell_type": "code",
      "execution_count": null,
      "metadata": {
        "colab": {
          "base_uri": "https://localhost:8080/"
        },
        "id": "JyTAyhTnUxuR",
        "outputId": "c96fb1e0-dfca-4c33-8d3e-b18c6b8f59bd"
      },
      "outputs": [
        {
          "output_type": "stream",
          "name": "stderr",
          "text": [
            "/usr/local/lib/python3.7/dist-packages/sklearn/metrics/_classification.py:1308: UndefinedMetricWarning: Precision is ill-defined and being set to 0.0 due to no predicted samples. Use `zero_division` parameter to control this behavior.\n",
            "  _warn_prf(average, modifier, msg_start, len(result))\n"
          ]
        }
      ],
      "source": [
        "weights = get_scores(train_labels, p1_train)\n",
        "\n",
        "ensemble_prob = weights[0]*p1_test\n",
        "preds = predicting(ensemble_prob)\n",
        "correct = np.where(preds == test_labels)[0].shape[0]\n",
        "total = test_labels.shape[0]"
      ]
    },
    {
      "cell_type": "code",
      "execution_count": null,
      "metadata": {
        "id": "714K6KUrZ0Bj"
      },
      "outputs": [],
      "source": [
        "from sklearn import metrics\n",
        "import matplotlib.pyplot as plt"
      ]
    },
    {
      "cell_type": "code",
      "execution_count": null,
      "metadata": {
        "id": "rdS7M6SCZ0qI",
        "colab": {
          "base_uri": "https://localhost:8080/",
          "height": 279
        },
        "outputId": "29bcb2aa-104b-4c47-a3f6-e0579fab4558"
      },
      "outputs": [
        {
          "output_type": "display_data",
          "data": {
            "image/png": "[encoded data removed]",
            "text/plain": [
              "<Figure size 432x288 with 1 Axes>"
            ]
          },
          "metadata": {
            "needs_background": "light"
          }
        }
      ],
      "source": [
        "fpr, tpr, _ = metrics.roc_curve(test_labels,preds)\n",
        "\n",
        "#create ROC curve\n",
        "plt.plot(fpr,tpr)\n",
        "plt.ylabel('True Positive Rate')\n",
        "plt.xlabel('False Positive Rate')\n",
        "plt.show()"
      ]
    },
    {
      "cell_type": "code",
      "execution_count": null,
      "metadata": {
        "id": "NOPuqqR-Z5r6",
        "colab": {
          "base_uri": "https://localhost:8080/",
          "height": 279
        },
        "outputId": "9a90d990-6ee2-4ece-b519-b1b44bb46393"
      },
      "outputs": [
        {
          "output_type": "display_data",
          "data": {
            "image/png": "[encoded data removed]",
            "text/plain": [
              "<Figure size 432x288 with 1 Axes>"
            ]
          },
          "metadata": {
            "needs_background": "light"
          }
        }
      ],
      "source": [
        "auc = metrics.roc_auc_score(test_labels,preds)\n",
        "#create ROC curve\n",
        "plt.plot(fpr,tpr,label=\"AUC=\"+str(auc))\n",
        "plt.ylabel('True Positive Rate')\n",
        "plt.xlabel('False Positive Rate')\n",
        "plt.legend(loc=4)\n",
        "plt.show()"
      ]
    },
    {
      "cell_type": "code",
      "execution_count": null,
      "metadata": {
        "colab": {
          "base_uri": "https://localhost:8080/",
          "height": 521
        },
        "id": "5t4UM4OnUz6O",
        "outputId": "7c42b1e5-c787-4b12-b561-95cb0053812b"
      },
      "outputs": [
        {
          "output_type": "stream",
          "name": "stdout",
          "text": [
            "Accuracy =  0.9\n",
            "Classification Report:\n",
            "              precision    recall  f1-score   support\n",
            "\n",
            "      Normal     0.9837    0.7479    0.8498       242\n",
            "   Pneumonia     0.8662    0.9925    0.9251       398\n",
            "\n",
            "    accuracy                         0.9000       640\n",
            "   macro avg     0.9250    0.8702    0.8874       640\n",
            "weighted avg     0.9106    0.9000    0.8966       640\n",
            "\n",
            "\n",
            "Classwise Accuracy :[0.74793388 0.99246231]\n"
          ]
        },
        {
          "output_type": "display_data",
          "data": {
            "image/png": "[encoded data removed]",
            "text/plain": [
              "<Figure size 432x288 with 2 Axes>"
            ]
          },
          "metadata": {
            "needs_background": "light"
          }
        }
      ],
      "source": [
        "print(\"Accuracy = \",correct/total)\n",
        "classes = ['Normal','Pneumonia']\n",
        "metrics(test_labels,preds,classes)"
      ]
    }
  ],
  "metadata": {
    "accelerator": "GPU",
    "colab": {
      "collapsed_sections": [],
      "name": "VGG16.ipynb",
      "provenance": [],
      "include_colab_link": true
    },
    "kernelspec": {
      "display_name": "Python 3",
      "name": "python3"
    },
    "language_info": {
      "name": "python"
    },
    "widgets": {
      "application/vnd.jupyter.widget-state+json": {
        "511928f9e46d4647b5d6bde990268bcc": {
          "model_module": "@jupyter-widgets/controls",
          "model_name": "HBoxModel",
          "model_module_version": "1.5.0",
          "state": {
            "_view_name": "HBoxView",
            "_dom_classes": [],
            "_model_name": "HBoxModel",
            "_view_module": "@jupyter-widgets/controls",
            "_model_module_version": "1.5.0",
            "_view_count": null,
            "_view_module_version": "1.5.0",
            "box_style": "",
            "layout": "IPY_MODEL_a75dc95db2f04788a85e883cec491e68",
            "_model_module": "@jupyter-widgets/controls",
            "children": [
              "IPY_MODEL_a59f53c3bfeb44eebc1f75a09449387e",
              "IPY_MODEL_a24712a8b7c74b16871f149482f375cb",
              "IPY_MODEL_c7abaec15ff34e3aa5803eb5101b6dea"
            ]
          }
        },
        "a75dc95db2f04788a85e883cec491e68": {
          "model_module": "@jupyter-widgets/base",
          "model_name": "LayoutModel",
          "model_module_version": "1.2.0",
          "state": {
            "_view_name": "LayoutView",
            "grid_template_rows": null,
            "right": null,
            "justify_content": null,
            "_view_module": "@jupyter-widgets/base",
            "overflow": null,
            "_model_module_version": "1.2.0",
            "_view_count": null,
            "flex_flow": null,
            "width": null,
            "min_width": null,
            "border": null,
            "align_items": null,
            "bottom": null,
            "_model_module": "@jupyter-widgets/base",
            "top": null,
            "grid_column": null,
            "overflow_y": null,
            "overflow_x": null,
            "grid_auto_flow": null,
            "grid_area": null,
            "grid_template_columns": null,
            "flex": null,
            "_model_name": "LayoutModel",
            "justify_items": null,
            "grid_row": null,
            "max_height": null,
            "align_content": null,
            "visibility": null,
            "align_self": null,
            "height": null,
            "min_height": null,
            "padding": null,
            "grid_auto_rows": null,
            "grid_gap": null,
            "max_width": null,
            "order": null,
            "_view_module_version": "1.2.0",
            "grid_template_areas": null,
            "object_position": null,
            "object_fit": null,
            "grid_auto_columns": null,
            "margin": null,
            "display": null,
            "left": null
          }
        },
        "a59f53c3bfeb44eebc1f75a09449387e": {
          "model_module": "@jupyter-widgets/controls",
          "model_name": "HTMLModel",
          "model_module_version": "1.5.0",
          "state": {
            "_view_name": "HTMLView",
            "style": "IPY_MODEL_2eca26a756f8442a9c067ad80f29eea9",
            "_dom_classes": [],
            "description": "",
            "_model_name": "HTMLModel",
            "placeholder": "​",
            "_view_module": "@jupyter-widgets/controls",
            "_model_module_version": "1.5.0",
            "value": "100%",
            "_view_count": null,
            "_view_module_version": "1.5.0",
            "description_tooltip": null,
            "_model_module": "@jupyter-widgets/controls",
            "layout": "IPY_MODEL_b4892039fcc146b28eb46023b04e4101"
          }
        },
        "a24712a8b7c74b16871f149482f375cb": {
          "model_module": "@jupyter-widgets/controls",
          "model_name": "FloatProgressModel",
          "model_module_version": "1.5.0",
          "state": {
            "_view_name": "ProgressView",
            "style": "IPY_MODEL_adc756e444124477b85ae171e9e2e31c",
            "_dom_classes": [],
            "description": "",
            "_model_name": "FloatProgressModel",
            "bar_style": "success",
            "max": 553507836,
            "_view_module": "@jupyter-widgets/controls",
            "_model_module_version": "1.5.0",
            "value": 553507836,
            "_view_count": null,
            "_view_module_version": "1.5.0",
            "orientation": "horizontal",
            "min": 0,
            "description_tooltip": null,
            "_model_module": "@jupyter-widgets/controls",
            "layout": "IPY_MODEL_5e09ffe4a8da461bac3e12f95a8ca2d5"
          }
        },
        "c7abaec15ff34e3aa5803eb5101b6dea": {
          "model_module": "@jupyter-widgets/controls",
          "model_name": "HTMLModel",
          "model_module_version": "1.5.0",
          "state": {
            "_view_name": "HTMLView",
            "style": "IPY_MODEL_0262c1b0003e419ea2eb4b0a783c39a1",
            "_dom_classes": [],
            "description": "",
            "_model_name": "HTMLModel",
            "placeholder": "​",
            "_view_module": "@jupyter-widgets/controls",
            "_model_module_version": "1.5.0",
            "value": " 528M/528M [00:08&lt;00:00, 71.0MB/s]",
            "_view_count": null,
            "_view_module_version": "1.5.0",
            "description_tooltip": null,
            "_model_module": "@jupyter-widgets/controls",
            "layout": "IPY_MODEL_f5cae9a13b594a2986c412954390ccda"
          }
        },
        "2eca26a756f8442a9c067ad80f29eea9": {
          "model_module": "@jupyter-widgets/controls",
          "model_name": "DescriptionStyleModel",
          "model_module_version": "1.5.0",
          "state": {
            "_view_name": "StyleView",
            "_model_name": "DescriptionStyleModel",
            "description_width": "",
            "_view_module": "@jupyter-widgets/base",
            "_model_module_version": "1.5.0",
            "_view_count": null,
            "_view_module_version": "1.2.0",
            "_model_module": "@jupyter-widgets/controls"
          }
        },
        "b4892039fcc146b28eb46023b04e4101": {
          "model_module": "@jupyter-widgets/base",
          "model_name": "LayoutModel",
          "model_module_version": "1.2.0",
          "state": {
            "_view_name": "LayoutView",
            "grid_template_rows": null,
            "right": null,
            "justify_content": null,
            "_view_module": "@jupyter-widgets/base",
            "overflow": null,
            "_model_module_version": "1.2.0",
            "_view_count": null,
            "flex_flow": null,
            "width": null,
            "min_width": null,
            "border": null,
            "align_items": null,
            "bottom": null,
            "_model_module": "@jupyter-widgets/base",
            "top": null,
            "grid_column": null,
            "overflow_y": null,
            "overflow_x": null,
            "grid_auto_flow": null,
            "grid_area": null,
            "grid_template_columns": null,
            "flex": null,
            "_model_name": "LayoutModel",
            "justify_items": null,
            "grid_row": null,
            "max_height": null,
            "align_content": null,
            "visibility": null,
            "align_self": null,
            "height": null,
            "min_height": null,
            "padding": null,
            "grid_auto_rows": null,
            "grid_gap": null,
            "max_width": null,
            "order": null,
            "_view_module_version": "1.2.0",
            "grid_template_areas": null,
            "object_position": null,
            "object_fit": null,
            "grid_auto_columns": null,
            "margin": null,
            "display": null,
            "left": null
          }
        },
        "adc756e444124477b85ae171e9e2e31c": {
          "model_module": "@jupyter-widgets/controls",
          "model_name": "ProgressStyleModel",
          "model_module_version": "1.5.0",
          "state": {
            "_view_name": "StyleView",
            "_model_name": "ProgressStyleModel",
            "description_width": "",
            "_view_module": "@jupyter-widgets/base",
            "_model_module_version": "1.5.0",
            "_view_count": null,
            "_view_module_version": "1.2.0",
            "bar_color": null,
            "_model_module": "@jupyter-widgets/controls"
          }
        },
        "5e09ffe4a8da461bac3e12f95a8ca2d5": {
          "model_module": "@jupyter-widgets/base",
          "model_name": "LayoutModel",
          "model_module_version": "1.2.0",
          "state": {
            "_view_name": "LayoutView",
            "grid_template_rows": null,
            "right": null,
            "justify_content": null,
            "_view_module": "@jupyter-widgets/base",
            "overflow": null,
            "_model_module_version": "1.2.0",
            "_view_count": null,
            "flex_flow": null,
            "width": null,
            "min_width": null,
            "border": null,
            "align_items": null,
            "bottom": null,
            "_model_module": "@jupyter-widgets/base",
            "top": null,
            "grid_column": null,
            "overflow_y": null,
            "overflow_x": null,
            "grid_auto_flow": null,
            "grid_area": null,
            "grid_template_columns": null,
            "flex": null,
            "_model_name": "LayoutModel",
            "justify_items": null,
            "grid_row": null,
            "max_height": null,
            "align_content": null,
            "visibility": null,
            "align_self": null,
            "height": null,
            "min_height": null,
            "padding": null,
            "grid_auto_rows": null,
            "grid_gap": null,
            "max_width": null,
            "order": null,
            "_view_module_version": "1.2.0",
            "grid_template_areas": null,
            "object_position": null,
            "object_fit": null,
            "grid_auto_columns": null,
            "margin": null,
            "display": null,
            "left": null
          }
        },
        "0262c1b0003e419ea2eb4b0a783c39a1": {
          "model_module": "@jupyter-widgets/controls",
          "model_name": "DescriptionStyleModel",
          "model_module_version": "1.5.0",
          "state": {
            "_view_name": "StyleView",
            "_model_name": "DescriptionStyleModel",
            "description_width": "",
            "_view_module": "@jupyter-widgets/base",
            "_model_module_version": "1.5.0",
            "_view_count": null,
            "_view_module_version": "1.2.0",
            "_model_module": "@jupyter-widgets/controls"
          }
        },
        "f5cae9a13b594a2986c412954390ccda": {
          "model_module": "@jupyter-widgets/base",
          "model_name": "LayoutModel",
          "model_module_version": "1.2.0",
          "state": {
            "_view_name": "LayoutView",
            "grid_template_rows": null,
            "right": null,
            "justify_content": null,
            "_view_module": "@jupyter-widgets/base",
            "overflow": null,
            "_model_module_version": "1.2.0",
            "_view_count": null,
            "flex_flow": null,
            "width": null,
            "min_width": null,
            "border": null,
            "align_items": null,
            "bottom": null,
            "_model_module": "@jupyter-widgets/base",
            "top": null,
            "grid_column": null,
            "overflow_y": null,
            "overflow_x": null,
            "grid_auto_flow": null,
            "grid_area": null,
            "grid_template_columns": null,
            "flex": null,
            "_model_name": "LayoutModel",
            "justify_items": null,
            "grid_row": null,
            "max_height": null,
            "align_content": null,
            "visibility": null,
            "align_self": null,
            "height": null,
            "min_height": null,
            "padding": null,
            "grid_auto_rows": null,
            "grid_gap": null,
            "max_width": null,
            "order": null,
            "_view_module_version": "1.2.0",
            "grid_template_areas": null,
            "object_position": null,
            "object_fit": null,
            "grid_auto_columns": null,
            "margin": null,
            "display": null,
            "left": null
          }
        }
      }
    }
  },
  "nbformat": 4,
  "nbformat_minor": 0
}