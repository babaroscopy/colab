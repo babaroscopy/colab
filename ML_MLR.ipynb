{
  "nbformat": 4,
  "nbformat_minor": 0,
  "metadata": {
    "colab": {
      "name": "ML_MLR.ipynb",
      "provenance": [],
      "collapsed_sections": [],
      "authorship_tag": "ABX9TyMjKw3D9bLB8SYJdlaKBmPV",
      "include_colab_link": true
    },
    "kernelspec": {
      "name": "python3",
      "display_name": "Python 3"
    },
    "language_info": {
      "name": "python"
    }
  },
  "cells": [
    {
      "cell_type": "markdown",
      "metadata": {
        "id": "view-in-github",
        "colab_type": "text"
      },
      "source": [
        "<a href=\"https://colab.research.google.com/github/babaroscopy/colab/blob/main/ML_MLR.ipynb\" target=\"_parent\"><img src=\"https://colab.research.google.com/assets/colab-badge.svg\" alt=\"Open In Colab\"/></a>"
      ]
    },
    {
      "cell_type": "code",
      "execution_count": 1,
      "metadata": {
        "id": "pOxoheZx-yel"
      },
      "outputs": [],
      "source": [
        "#Importing the libraries\n",
        "import pandas as pd\n",
        "import numpy as np\n",
        "import matplotlib.pyplot as plt\n",
        "import seaborn as sns\n",
        "from sklearn.preprocessing import LabelEncoder\n",
        "from sklearn.pipeline import Pipeline\n",
        "from sklearn.model_selection import train_test_split\n",
        "from sklearn.linear_model import LinearRegression\n",
        "from sklearn.model_selection import KFold\n",
        "from sklearn import metrics\n",
        "from sklearn.model_selection import cross_val_score, cross_val_predict\n",
        "from sklearn import metrics\n",
        "from numpy import mean\n",
        "from numpy import std\n",
        "from sklearn.metrics import mean_squared_error"
      ]
    },
    {
      "cell_type": "code",
      "source": [
        "#Reading the dataset\n",
        "df = pd.read_csv(\"pakwheels-11Jul2020.csv\")"
      ],
      "metadata": {
        "id": "2mcgpio6-7xI"
      },
      "execution_count": 2,
      "outputs": []
    },
    {
      "cell_type": "code",
      "source": [
        "df.head()"
      ],
      "metadata": {
        "colab": {
          "base_uri": "https://localhost:8080/",
          "height": 600
        },
        "id": "qaO1fufw--de",
        "outputId": "408ca4a1-25e1-4c34-f0e7-3209ae1ba9f0"
      },
      "execution_count": 3,
      "outputs": [
        {
          "output_type": "execute_result",
          "data": {
            "text/plain": [
              "     Ad No                                        Name               Price  \\\n",
              "0  4096758                      Toyota Vitz F 1.0 2017           2385000.0   \n",
              "1  4168305  Toyota Corolla GLi Automatic 1.3 VVTi 2019  111000.00000000001   \n",
              "2  4168298                        Suzuki Alto VXL 2019           1530000.0   \n",
              "3  4168307                        Suzuki Alto VXR 2019           1650000.0   \n",
              "4  4168306                Toyota Corolla XLi VVTi 2010           1435000.0   \n",
              "\n",
              "   Model Year                          Location  Mileage Registered City  \\\n",
              "0        2017         G- 8, Islamabad Islamabad     9869   Un-Registered   \n",
              "1        2019                      Peshawar KPK    11111       Islamabad   \n",
              "2        2019       Akora Khattak, Nowshera KPK    17500   Un-Registered   \n",
              "3        2019    Abdullahpur, Faisalabad Punjab     9600          Lahore   \n",
              "4        2010   9th Avenue, Islamabad Islamabad   120000       Islamabad   \n",
              "\n",
              "  Engine Type Engine Capacity Transmission   Color  Assembly  Body Type  \\\n",
              "0      Petrol         1000 cc    Automatic  Silver  Imported  Hatchback   \n",
              "1      Petrol         1300 cc    Automatic   White     Local      Sedan   \n",
              "2      Petrol          660 cc    Automatic   White     Local  Hatchback   \n",
              "3      Petrol          660 cc       Manual   White     Local  Hatchback   \n",
              "4      Petrol         1300 cc       Manual   Black     Local      Sedan   \n",
              "\n",
              "                                            Features  Last Updated  \\\n",
              "0   ABS, AM/FM Radio, Air Bags, Air Conditioning,...  Jul 11, 2020   \n",
              "1   ABS, AM/FM Radio, Air Bags, Air Conditioning,...  Jul 12, 2020   \n",
              "2   ABS, AM/FM Radio, Air Bags, Air Conditioning,...  Jul 12, 2020   \n",
              "3   AM/FM Radio, Air Bags, Air Conditioning, DVD ...  Jul 12, 2020   \n",
              "4   AM/FM Radio, Air Conditioning, CD Player, Key...  Jul 12, 2020   \n",
              "\n",
              "                                                 URL  \n",
              "0  https://www.pakwheels.com/used-cars/toyota-vit...  \n",
              "1  https://www.pakwheels.com/used-cars/toyota-cor...  \n",
              "2  https://www.pakwheels.com/used-cars/suzuki-alt...  \n",
              "3  https://www.pakwheels.com/used-cars/suzuki-alt...  \n",
              "4  https://www.pakwheels.com/used-cars/toyota-cor...  "
            ],
            "text/html": [
              "\n",
              "  <div id=\"df-cb45f9fa-2756-4038-a60d-dba385f09cd2\">\n",
              "    <div class=\"colab-df-container\">\n",
              "      <div>\n",
              "<style scoped>\n",
              "    .dataframe tbody tr th:only-of-type {\n",
              "        vertical-align: middle;\n",
              "    }\n",
              "\n",
              "    .dataframe tbody tr th {\n",
              "        vertical-align: top;\n",
              "    }\n",
              "\n",
              "    .dataframe thead th {\n",
              "        text-align: right;\n",
              "    }\n",
              "</style>\n",
              "<table border=\"1\" class=\"dataframe\">\n",
              "  <thead>\n",
              "    <tr style=\"text-align: right;\">\n",
              "      <th></th>\n",
              "      <th>Ad No</th>\n",
              "      <th>Name</th>\n",
              "      <th>Price</th>\n",
              "      <th>Model Year</th>\n",
              "      <th>Location</th>\n",
              "      <th>Mileage</th>\n",
              "      <th>Registered City</th>\n",
              "      <th>Engine Type</th>\n",
              "      <th>Engine Capacity</th>\n",
              "      <th>Transmission</th>\n",
              "      <th>Color</th>\n",
              "      <th>Assembly</th>\n",
              "      <th>Body Type</th>\n",
              "      <th>Features</th>\n",
              "      <th>Last Updated</th>\n",
              "      <th>URL</th>\n",
              "    </tr>\n",
              "  </thead>\n",
              "  <tbody>\n",
              "    <tr>\n",
              "      <th>0</th>\n",
              "      <td>4096758</td>\n",
              "      <td>Toyota Vitz F 1.0 2017</td>\n",
              "      <td>2385000.0</td>\n",
              "      <td>2017</td>\n",
              "      <td>G- 8, Islamabad Islamabad</td>\n",
              "      <td>9869</td>\n",
              "      <td>Un-Registered</td>\n",
              "      <td>Petrol</td>\n",
              "      <td>1000 cc</td>\n",
              "      <td>Automatic</td>\n",
              "      <td>Silver</td>\n",
              "      <td>Imported</td>\n",
              "      <td>Hatchback</td>\n",
              "      <td>ABS, AM/FM Radio, Air Bags, Air Conditioning,...</td>\n",
              "      <td>Jul 11, 2020</td>\n",
              "      <td>https://www.pakwheels.com/used-cars/toyota-vit...</td>\n",
              "    </tr>\n",
              "    <tr>\n",
              "      <th>1</th>\n",
              "      <td>4168305</td>\n",
              "      <td>Toyota Corolla GLi Automatic 1.3 VVTi 2019</td>\n",
              "      <td>111000.00000000001</td>\n",
              "      <td>2019</td>\n",
              "      <td>Peshawar KPK</td>\n",
              "      <td>11111</td>\n",
              "      <td>Islamabad</td>\n",
              "      <td>Petrol</td>\n",
              "      <td>1300 cc</td>\n",
              "      <td>Automatic</td>\n",
              "      <td>White</td>\n",
              "      <td>Local</td>\n",
              "      <td>Sedan</td>\n",
              "      <td>ABS, AM/FM Radio, Air Bags, Air Conditioning,...</td>\n",
              "      <td>Jul 12, 2020</td>\n",
              "      <td>https://www.pakwheels.com/used-cars/toyota-cor...</td>\n",
              "    </tr>\n",
              "    <tr>\n",
              "      <th>2</th>\n",
              "      <td>4168298</td>\n",
              "      <td>Suzuki Alto VXL 2019</td>\n",
              "      <td>1530000.0</td>\n",
              "      <td>2019</td>\n",
              "      <td>Akora Khattak, Nowshera KPK</td>\n",
              "      <td>17500</td>\n",
              "      <td>Un-Registered</td>\n",
              "      <td>Petrol</td>\n",
              "      <td>660 cc</td>\n",
              "      <td>Automatic</td>\n",
              "      <td>White</td>\n",
              "      <td>Local</td>\n",
              "      <td>Hatchback</td>\n",
              "      <td>ABS, AM/FM Radio, Air Bags, Air Conditioning,...</td>\n",
              "      <td>Jul 12, 2020</td>\n",
              "      <td>https://www.pakwheels.com/used-cars/suzuki-alt...</td>\n",
              "    </tr>\n",
              "    <tr>\n",
              "      <th>3</th>\n",
              "      <td>4168307</td>\n",
              "      <td>Suzuki Alto VXR 2019</td>\n",
              "      <td>1650000.0</td>\n",
              "      <td>2019</td>\n",
              "      <td>Abdullahpur, Faisalabad Punjab</td>\n",
              "      <td>9600</td>\n",
              "      <td>Lahore</td>\n",
              "      <td>Petrol</td>\n",
              "      <td>660 cc</td>\n",
              "      <td>Manual</td>\n",
              "      <td>White</td>\n",
              "      <td>Local</td>\n",
              "      <td>Hatchback</td>\n",
              "      <td>AM/FM Radio, Air Bags, Air Conditioning, DVD ...</td>\n",
              "      <td>Jul 12, 2020</td>\n",
              "      <td>https://www.pakwheels.com/used-cars/suzuki-alt...</td>\n",
              "    </tr>\n",
              "    <tr>\n",
              "      <th>4</th>\n",
              "      <td>4168306</td>\n",
              "      <td>Toyota Corolla XLi VVTi 2010</td>\n",
              "      <td>1435000.0</td>\n",
              "      <td>2010</td>\n",
              "      <td>9th Avenue, Islamabad Islamabad</td>\n",
              "      <td>120000</td>\n",
              "      <td>Islamabad</td>\n",
              "      <td>Petrol</td>\n",
              "      <td>1300 cc</td>\n",
              "      <td>Manual</td>\n",
              "      <td>Black</td>\n",
              "      <td>Local</td>\n",
              "      <td>Sedan</td>\n",
              "      <td>AM/FM Radio, Air Conditioning, CD Player, Key...</td>\n",
              "      <td>Jul 12, 2020</td>\n",
              "      <td>https://www.pakwheels.com/used-cars/toyota-cor...</td>\n",
              "    </tr>\n",
              "  </tbody>\n",
              "</table>\n",
              "</div>\n",
              "      <button class=\"colab-df-convert\" onclick=\"convertToInteractive('df-cb45f9fa-2756-4038-a60d-dba385f09cd2')\"\n",
              "              title=\"Convert this dataframe to an interactive table.\"\n",
              "              style=\"display:none;\">\n",
              "        \n",
              "  <svg xmlns=\"http://www.w3.org/2000/svg\" height=\"24px\"viewBox=\"0 0 24 24\"\n",
              "       width=\"24px\">\n",
              "    <path d=\"M0 0h24v24H0V0z\" fill=\"none\"/>\n",
              "    <path d=\"M18.56 5.44l.94 2.06.94-2.06 2.06-.94-2.06-.94-.94-2.06-.94 2.06-2.06.94zm-11 1L8.5 8.5l.94-2.06 2.06-.94-2.06-.94L8.5 2.5l-.94 2.06-2.06.94zm10 10l.94 2.06.94-2.06 2.06-.94-2.06-.94-.94-2.06-.94 2.06-2.06.94z\"/><path d=\"M17.41 7.96l-1.37-1.37c-.4-.4-.92-.59-1.43-.59-.52 0-1.04.2-1.43.59L10.3 9.45l-7.72 7.72c-.78.78-.78 2.05 0 2.83L4 21.41c.39.39.9.59 1.41.59.51 0 1.02-.2 1.41-.59l7.78-7.78 2.81-2.81c.8-.78.8-2.07 0-2.86zM5.41 20L4 18.59l7.72-7.72 1.47 1.35L5.41 20z\"/>\n",
              "  </svg>\n",
              "      </button>\n",
              "      \n",
              "  <style>\n",
              "    .colab-df-container {\n",
              "      display:flex;\n",
              "      flex-wrap:wrap;\n",
              "      gap: 12px;\n",
              "    }\n",
              "\n",
              "    .colab-df-convert {\n",
              "      background-color: #E8F0FE;\n",
              "      border: none;\n",
              "      border-radius: 50%;\n",
              "      cursor: pointer;\n",
              "      display: none;\n",
              "      fill: #1967D2;\n",
              "      height: 32px;\n",
              "      padding: 0 0 0 0;\n",
              "      width: 32px;\n",
              "    }\n",
              "\n",
              "    .colab-df-convert:hover {\n",
              "      background-color: #E2EBFA;\n",
              "      box-shadow: 0px 1px 2px rgba(60, 64, 67, 0.3), 0px 1px 3px 1px rgba(60, 64, 67, 0.15);\n",
              "      fill: #174EA6;\n",
              "    }\n",
              "\n",
              "    [theme=dark] .colab-df-convert {\n",
              "      background-color: #3B4455;\n",
              "      fill: #D2E3FC;\n",
              "    }\n",
              "\n",
              "    [theme=dark] .colab-df-convert:hover {\n",
              "      background-color: #434B5C;\n",
              "      box-shadow: 0px 1px 3px 1px rgba(0, 0, 0, 0.15);\n",
              "      filter: drop-shadow(0px 1px 2px rgba(0, 0, 0, 0.3));\n",
              "      fill: #FFFFFF;\n",
              "    }\n",
              "  </style>\n",
              "\n",
              "      <script>\n",
              "        const buttonEl =\n",
              "          document.querySelector('#df-cb45f9fa-2756-4038-a60d-dba385f09cd2 button.colab-df-convert');\n",
              "        buttonEl.style.display =\n",
              "          google.colab.kernel.accessAllowed ? 'block' : 'none';\n",
              "\n",
              "        async function convertToInteractive(key) {\n",
              "          const element = document.querySelector('#df-cb45f9fa-2756-4038-a60d-dba385f09cd2');\n",
              "          const dataTable =\n",
              "            await google.colab.kernel.invokeFunction('convertToInteractive',\n",
              "                                                     [key], {});\n",
              "          if (!dataTable) return;\n",
              "\n",
              "          const docLinkHtml = 'Like what you see? Visit the ' +\n",
              "            '<a target=\"_blank\" href=https://colab.research.google.com/notebooks/data_table.ipynb>data table notebook</a>'\n",
              "            + ' to learn more about interactive tables.';\n",
              "          element.innerHTML = '';\n",
              "          dataTable['output_type'] = 'display_data';\n",
              "          await google.colab.output.renderOutput(dataTable, element);\n",
              "          const docLink = document.createElement('div');\n",
              "          docLink.innerHTML = docLinkHtml;\n",
              "          element.appendChild(docLink);\n",
              "        }\n",
              "      </script>\n",
              "    </div>\n",
              "  </div>\n",
              "  "
            ]
          },
          "metadata": {},
          "execution_count": 3
        }
      ]
    },
    {
      "cell_type": "code",
      "source": [
        "df.dtypes"
      ],
      "metadata": {
        "colab": {
          "base_uri": "https://localhost:8080/"
        },
        "id": "xQ8F6qU1Ki-G",
        "outputId": "972371c7-1d04-4ff8-bf22-dc985af84ac7"
      },
      "execution_count": 4,
      "outputs": [
        {
          "output_type": "execute_result",
          "data": {
            "text/plain": [
              "Ad No               int64\n",
              "Name               object\n",
              "Price              object\n",
              "Model Year          int64\n",
              "Location           object\n",
              "Mileage             int64\n",
              "Registered City    object\n",
              "Engine Type        object\n",
              "Engine Capacity    object\n",
              "Transmission       object\n",
              "Color              object\n",
              "Assembly           object\n",
              "Body Type          object\n",
              "Features           object\n",
              "Last Updated       object\n",
              "URL                object\n",
              "dtype: object"
            ]
          },
          "metadata": {},
          "execution_count": 4
        }
      ]
    },
    {
      "cell_type": "code",
      "source": [
        "df.dropna()"
      ],
      "metadata": {
        "colab": {
          "base_uri": "https://localhost:8080/",
          "height": 1000
        },
        "id": "sfEkDTSFAPbK",
        "outputId": "94333166-aa64-4f63-bcd1-9134424f1a8d"
      },
      "execution_count": 6,
      "outputs": [
        {
          "output_type": "execute_result",
          "data": {
            "text/plain": [
              "         Ad No                                        Name  \\\n",
              "0      4096758                      Toyota Vitz F 1.0 2017   \n",
              "1      4168305  Toyota Corolla GLi Automatic 1.3 VVTi 2019   \n",
              "2      4168298                        Suzuki Alto VXL 2019   \n",
              "3      4168307                        Suzuki Alto VXR 2019   \n",
              "4      4168306                Toyota Corolla XLi VVTi 2010   \n",
              "...        ...                                         ...   \n",
              "56179  3737684                          Toyota Aqua S 2015   \n",
              "56181  3349017   Honda Civic VTi Prosmatec 1.8 i-VTEC 2015   \n",
              "56183  3748215                          Toyota Aqua G 2016   \n",
              "56184  3785520                   Honda Vezel Hybrid Z 2015   \n",
              "56185  3806951  Toyota Corolla GLi Automatic 1.3 VVTi 2015   \n",
              "\n",
              "                    Price  Model Year                          Location  \\\n",
              "0               2385000.0        2017         G- 8, Islamabad Islamabad   \n",
              "1      111000.00000000001        2019                      Peshawar KPK   \n",
              "2               1530000.0        2019       Akora Khattak, Nowshera KPK   \n",
              "3               1650000.0        2019    Abdullahpur, Faisalabad Punjab   \n",
              "4               1435000.0        2010   9th Avenue, Islamabad Islamabad   \n",
              "...                   ...         ...                               ...   \n",
              "56179           2450000.0        2015                 Rawalpindi Punjab   \n",
              "56181           3250000.0        2015                     Lahore Punjab   \n",
              "56183           3000000.0        2016                 Gujranwala Punjab   \n",
              "56184      Call for price        2015                     Multan Punjab   \n",
              "56185           2250000.0        2015                 Gujranwala Punjab   \n",
              "\n",
              "       Mileage Registered City Engine Type Engine Capacity Transmission  \\\n",
              "0         9869   Un-Registered      Petrol         1000 cc    Automatic   \n",
              "1        11111       Islamabad      Petrol         1300 cc    Automatic   \n",
              "2        17500   Un-Registered      Petrol          660 cc    Automatic   \n",
              "3         9600          Lahore      Petrol          660 cc       Manual   \n",
              "4       120000       Islamabad      Petrol         1300 cc       Manual   \n",
              "...        ...             ...         ...             ...          ...   \n",
              "56179    52000   Un-Registered      Petrol         1500 cc    Automatic   \n",
              "56181   125000          Lahore      Petrol         1800 cc    Automatic   \n",
              "56183    60000          Lahore      Petrol         1500 cc    Automatic   \n",
              "56184    45000   Un-Registered      Hybrid         1500 cc    Automatic   \n",
              "56185    77000      Gujranwala      Petrol         1300 cc    Automatic   \n",
              "\n",
              "          Color  Assembly  Body Type  \\\n",
              "0        Silver  Imported  Hatchback   \n",
              "1         White     Local      Sedan   \n",
              "2         White     Local  Hatchback   \n",
              "3         White     Local  Hatchback   \n",
              "4         Black     Local      Sedan   \n",
              "...         ...       ...        ...   \n",
              "56179      Blue  Imported  Hatchback   \n",
              "56181     Black     Local      Sedan   \n",
              "56183     Black  Imported  Hatchback   \n",
              "56184      Grey  Imported  Crossover   \n",
              "56185  Assembly     Local      Sedan   \n",
              "\n",
              "                                                Features  Last Updated  \\\n",
              "0       ABS, AM/FM Radio, Air Bags, Air Conditioning,...  Jul 11, 2020   \n",
              "1       ABS, AM/FM Radio, Air Bags, Air Conditioning,...  Jul 12, 2020   \n",
              "2       ABS, AM/FM Radio, Air Bags, Air Conditioning,...  Jul 12, 2020   \n",
              "3       AM/FM Radio, Air Bags, Air Conditioning, DVD ...  Jul 12, 2020   \n",
              "4       AM/FM Radio, Air Conditioning, CD Player, Key...  Jul 12, 2020   \n",
              "...                                                  ...           ...   \n",
              "56179   ABS, AM/FM Radio, Air Bags, Air Conditioning,...  Dec 18, 2019   \n",
              "56181   ABS, AM/FM Radio, Air Bags, Air Conditioning,...  Jun 04, 2019   \n",
              "56183   ABS, AM/FM Radio, Air Bags, Air Conditioning,...  Dec 22, 2019   \n",
              "56184   ABS, AM/FM Radio, Air Bags, Air Conditioning,...  Jan 05, 2020   \n",
              "56185   ABS, AM/FM Radio, Air Conditioning, Alloy Rim...  Jan 14, 2020   \n",
              "\n",
              "                                                     URL  \n",
              "0      https://www.pakwheels.com/used-cars/toyota-vit...  \n",
              "1      https://www.pakwheels.com/used-cars/toyota-cor...  \n",
              "2      https://www.pakwheels.com/used-cars/suzuki-alt...  \n",
              "3      https://www.pakwheels.com/used-cars/suzuki-alt...  \n",
              "4      https://www.pakwheels.com/used-cars/toyota-cor...  \n",
              "...                                                  ...  \n",
              "56179  https://www.pakwheels.com/used-cars/toyota-aqu...  \n",
              "56181  https://www.pakwheels.com/used-cars/honda-civi...  \n",
              "56183  https://www.pakwheels.com/used-cars/toyota-aqu...  \n",
              "56184  https://www.pakwheels.com/used-cars/honda-veze...  \n",
              "56185  https://www.pakwheels.com/used-cars/toyota-cor...  \n",
              "\n",
              "[46069 rows x 16 columns]"
            ],
            "text/html": [
              "\n",
              "  <div id=\"df-6ba0e2d0-674c-4d78-a92f-21c960499d0d\">\n",
              "    <div class=\"colab-df-container\">\n",
              "      <div>\n",
              "<style scoped>\n",
              "    .dataframe tbody tr th:only-of-type {\n",
              "        vertical-align: middle;\n",
              "    }\n",
              "\n",
              "    .dataframe tbody tr th {\n",
              "        vertical-align: top;\n",
              "    }\n",
              "\n",
              "    .dataframe thead th {\n",
              "        text-align: right;\n",
              "    }\n",
              "</style>\n",
              "<table border=\"1\" class=\"dataframe\">\n",
              "  <thead>\n",
              "    <tr style=\"text-align: right;\">\n",
              "      <th></th>\n",
              "      <th>Ad No</th>\n",
              "      <th>Name</th>\n",
              "      <th>Price</th>\n",
              "      <th>Model Year</th>\n",
              "      <th>Location</th>\n",
              "      <th>Mileage</th>\n",
              "      <th>Registered City</th>\n",
              "      <th>Engine Type</th>\n",
              "      <th>Engine Capacity</th>\n",
              "      <th>Transmission</th>\n",
              "      <th>Color</th>\n",
              "      <th>Assembly</th>\n",
              "      <th>Body Type</th>\n",
              "      <th>Features</th>\n",
              "      <th>Last Updated</th>\n",
              "      <th>URL</th>\n",
              "    </tr>\n",
              "  </thead>\n",
              "  <tbody>\n",
              "    <tr>\n",
              "      <th>0</th>\n",
              "      <td>4096758</td>\n",
              "      <td>Toyota Vitz F 1.0 2017</td>\n",
              "      <td>2385000.0</td>\n",
              "      <td>2017</td>\n",
              "      <td>G- 8, Islamabad Islamabad</td>\n",
              "      <td>9869</td>\n",
              "      <td>Un-Registered</td>\n",
              "      <td>Petrol</td>\n",
              "      <td>1000 cc</td>\n",
              "      <td>Automatic</td>\n",
              "      <td>Silver</td>\n",
              "      <td>Imported</td>\n",
              "      <td>Hatchback</td>\n",
              "      <td>ABS, AM/FM Radio, Air Bags, Air Conditioning,...</td>\n",
              "      <td>Jul 11, 2020</td>\n",
              "      <td>https://www.pakwheels.com/used-cars/toyota-vit...</td>\n",
              "    </tr>\n",
              "    <tr>\n",
              "      <th>1</th>\n",
              "      <td>4168305</td>\n",
              "      <td>Toyota Corolla GLi Automatic 1.3 VVTi 2019</td>\n",
              "      <td>111000.00000000001</td>\n",
              "      <td>2019</td>\n",
              "      <td>Peshawar KPK</td>\n",
              "      <td>11111</td>\n",
              "      <td>Islamabad</td>\n",
              "      <td>Petrol</td>\n",
              "      <td>1300 cc</td>\n",
              "      <td>Automatic</td>\n",
              "      <td>White</td>\n",
              "      <td>Local</td>\n",
              "      <td>Sedan</td>\n",
              "      <td>ABS, AM/FM Radio, Air Bags, Air Conditioning,...</td>\n",
              "      <td>Jul 12, 2020</td>\n",
              "      <td>https://www.pakwheels.com/used-cars/toyota-cor...</td>\n",
              "    </tr>\n",
              "    <tr>\n",
              "      <th>2</th>\n",
              "      <td>4168298</td>\n",
              "      <td>Suzuki Alto VXL 2019</td>\n",
              "      <td>1530000.0</td>\n",
              "      <td>2019</td>\n",
              "      <td>Akora Khattak, Nowshera KPK</td>\n",
              "      <td>17500</td>\n",
              "      <td>Un-Registered</td>\n",
              "      <td>Petrol</td>\n",
              "      <td>660 cc</td>\n",
              "      <td>Automatic</td>\n",
              "      <td>White</td>\n",
              "      <td>Local</td>\n",
              "      <td>Hatchback</td>\n",
              "      <td>ABS, AM/FM Radio, Air Bags, Air Conditioning,...</td>\n",
              "      <td>Jul 12, 2020</td>\n",
              "      <td>https://www.pakwheels.com/used-cars/suzuki-alt...</td>\n",
              "    </tr>\n",
              "    <tr>\n",
              "      <th>3</th>\n",
              "      <td>4168307</td>\n",
              "      <td>Suzuki Alto VXR 2019</td>\n",
              "      <td>1650000.0</td>\n",
              "      <td>2019</td>\n",
              "      <td>Abdullahpur, Faisalabad Punjab</td>\n",
              "      <td>9600</td>\n",
              "      <td>Lahore</td>\n",
              "      <td>Petrol</td>\n",
              "      <td>660 cc</td>\n",
              "      <td>Manual</td>\n",
              "      <td>White</td>\n",
              "      <td>Local</td>\n",
              "      <td>Hatchback</td>\n",
              "      <td>AM/FM Radio, Air Bags, Air Conditioning, DVD ...</td>\n",
              "      <td>Jul 12, 2020</td>\n",
              "      <td>https://www.pakwheels.com/used-cars/suzuki-alt...</td>\n",
              "    </tr>\n",
              "    <tr>\n",
              "      <th>4</th>\n",
              "      <td>4168306</td>\n",
              "      <td>Toyota Corolla XLi VVTi 2010</td>\n",
              "      <td>1435000.0</td>\n",
              "      <td>2010</td>\n",
              "      <td>9th Avenue, Islamabad Islamabad</td>\n",
              "      <td>120000</td>\n",
              "      <td>Islamabad</td>\n",
              "      <td>Petrol</td>\n",
              "      <td>1300 cc</td>\n",
              "      <td>Manual</td>\n",
              "      <td>Black</td>\n",
              "      <td>Local</td>\n",
              "      <td>Sedan</td>\n",
              "      <td>AM/FM Radio, Air Conditioning, CD Player, Key...</td>\n",
              "      <td>Jul 12, 2020</td>\n",
              "      <td>https://www.pakwheels.com/used-cars/toyota-cor...</td>\n",
              "    </tr>\n",
              "    <tr>\n",
              "      <th>...</th>\n",
              "      <td>...</td>\n",
              "      <td>...</td>\n",
              "      <td>...</td>\n",
              "      <td>...</td>\n",
              "      <td>...</td>\n",
              "      <td>...</td>\n",
              "      <td>...</td>\n",
              "      <td>...</td>\n",
              "      <td>...</td>\n",
              "      <td>...</td>\n",
              "      <td>...</td>\n",
              "      <td>...</td>\n",
              "      <td>...</td>\n",
              "      <td>...</td>\n",
              "      <td>...</td>\n",
              "      <td>...</td>\n",
              "    </tr>\n",
              "    <tr>\n",
              "      <th>56179</th>\n",
              "      <td>3737684</td>\n",
              "      <td>Toyota Aqua S 2015</td>\n",
              "      <td>2450000.0</td>\n",
              "      <td>2015</td>\n",
              "      <td>Rawalpindi Punjab</td>\n",
              "      <td>52000</td>\n",
              "      <td>Un-Registered</td>\n",
              "      <td>Petrol</td>\n",
              "      <td>1500 cc</td>\n",
              "      <td>Automatic</td>\n",
              "      <td>Blue</td>\n",
              "      <td>Imported</td>\n",
              "      <td>Hatchback</td>\n",
              "      <td>ABS, AM/FM Radio, Air Bags, Air Conditioning,...</td>\n",
              "      <td>Dec 18, 2019</td>\n",
              "      <td>https://www.pakwheels.com/used-cars/toyota-aqu...</td>\n",
              "    </tr>\n",
              "    <tr>\n",
              "      <th>56181</th>\n",
              "      <td>3349017</td>\n",
              "      <td>Honda Civic VTi Prosmatec 1.8 i-VTEC 2015</td>\n",
              "      <td>3250000.0</td>\n",
              "      <td>2015</td>\n",
              "      <td>Lahore Punjab</td>\n",
              "      <td>125000</td>\n",
              "      <td>Lahore</td>\n",
              "      <td>Petrol</td>\n",
              "      <td>1800 cc</td>\n",
              "      <td>Automatic</td>\n",
              "      <td>Black</td>\n",
              "      <td>Local</td>\n",
              "      <td>Sedan</td>\n",
              "      <td>ABS, AM/FM Radio, Air Bags, Air Conditioning,...</td>\n",
              "      <td>Jun 04, 2019</td>\n",
              "      <td>https://www.pakwheels.com/used-cars/honda-civi...</td>\n",
              "    </tr>\n",
              "    <tr>\n",
              "      <th>56183</th>\n",
              "      <td>3748215</td>\n",
              "      <td>Toyota Aqua G 2016</td>\n",
              "      <td>3000000.0</td>\n",
              "      <td>2016</td>\n",
              "      <td>Gujranwala Punjab</td>\n",
              "      <td>60000</td>\n",
              "      <td>Lahore</td>\n",
              "      <td>Petrol</td>\n",
              "      <td>1500 cc</td>\n",
              "      <td>Automatic</td>\n",
              "      <td>Black</td>\n",
              "      <td>Imported</td>\n",
              "      <td>Hatchback</td>\n",
              "      <td>ABS, AM/FM Radio, Air Bags, Air Conditioning,...</td>\n",
              "      <td>Dec 22, 2019</td>\n",
              "      <td>https://www.pakwheels.com/used-cars/toyota-aqu...</td>\n",
              "    </tr>\n",
              "    <tr>\n",
              "      <th>56184</th>\n",
              "      <td>3785520</td>\n",
              "      <td>Honda Vezel Hybrid Z 2015</td>\n",
              "      <td>Call for price</td>\n",
              "      <td>2015</td>\n",
              "      <td>Multan Punjab</td>\n",
              "      <td>45000</td>\n",
              "      <td>Un-Registered</td>\n",
              "      <td>Hybrid</td>\n",
              "      <td>1500 cc</td>\n",
              "      <td>Automatic</td>\n",
              "      <td>Grey</td>\n",
              "      <td>Imported</td>\n",
              "      <td>Crossover</td>\n",
              "      <td>ABS, AM/FM Radio, Air Bags, Air Conditioning,...</td>\n",
              "      <td>Jan 05, 2020</td>\n",
              "      <td>https://www.pakwheels.com/used-cars/honda-veze...</td>\n",
              "    </tr>\n",
              "    <tr>\n",
              "      <th>56185</th>\n",
              "      <td>3806951</td>\n",
              "      <td>Toyota Corolla GLi Automatic 1.3 VVTi 2015</td>\n",
              "      <td>2250000.0</td>\n",
              "      <td>2015</td>\n",
              "      <td>Gujranwala Punjab</td>\n",
              "      <td>77000</td>\n",
              "      <td>Gujranwala</td>\n",
              "      <td>Petrol</td>\n",
              "      <td>1300 cc</td>\n",
              "      <td>Automatic</td>\n",
              "      <td>Assembly</td>\n",
              "      <td>Local</td>\n",
              "      <td>Sedan</td>\n",
              "      <td>ABS, AM/FM Radio, Air Conditioning, Alloy Rim...</td>\n",
              "      <td>Jan 14, 2020</td>\n",
              "      <td>https://www.pakwheels.com/used-cars/toyota-cor...</td>\n",
              "    </tr>\n",
              "  </tbody>\n",
              "</table>\n",
              "<p>46069 rows × 16 columns</p>\n",
              "</div>\n",
              "      <button class=\"colab-df-convert\" onclick=\"convertToInteractive('df-6ba0e2d0-674c-4d78-a92f-21c960499d0d')\"\n",
              "              title=\"Convert this dataframe to an interactive table.\"\n",
              "              style=\"display:none;\">\n",
              "        \n",
              "  <svg xmlns=\"http://www.w3.org/2000/svg\" height=\"24px\"viewBox=\"0 0 24 24\"\n",
              "       width=\"24px\">\n",
              "    <path d=\"M0 0h24v24H0V0z\" fill=\"none\"/>\n",
              "    <path d=\"M18.56 5.44l.94 2.06.94-2.06 2.06-.94-2.06-.94-.94-2.06-.94 2.06-2.06.94zm-11 1L8.5 8.5l.94-2.06 2.06-.94-2.06-.94L8.5 2.5l-.94 2.06-2.06.94zm10 10l.94 2.06.94-2.06 2.06-.94-2.06-.94-.94-2.06-.94 2.06-2.06.94z\"/><path d=\"M17.41 7.96l-1.37-1.37c-.4-.4-.92-.59-1.43-.59-.52 0-1.04.2-1.43.59L10.3 9.45l-7.72 7.72c-.78.78-.78 2.05 0 2.83L4 21.41c.39.39.9.59 1.41.59.51 0 1.02-.2 1.41-.59l7.78-7.78 2.81-2.81c.8-.78.8-2.07 0-2.86zM5.41 20L4 18.59l7.72-7.72 1.47 1.35L5.41 20z\"/>\n",
              "  </svg>\n",
              "      </button>\n",
              "      \n",
              "  <style>\n",
              "    .colab-df-container {\n",
              "      display:flex;\n",
              "      flex-wrap:wrap;\n",
              "      gap: 12px;\n",
              "    }\n",
              "\n",
              "    .colab-df-convert {\n",
              "      background-color: #E8F0FE;\n",
              "      border: none;\n",
              "      border-radius: 50%;\n",
              "      cursor: pointer;\n",
              "      display: none;\n",
              "      fill: #1967D2;\n",
              "      height: 32px;\n",
              "      padding: 0 0 0 0;\n",
              "      width: 32px;\n",
              "    }\n",
              "\n",
              "    .colab-df-convert:hover {\n",
              "      background-color: #E2EBFA;\n",
              "      box-shadow: 0px 1px 2px rgba(60, 64, 67, 0.3), 0px 1px 3px 1px rgba(60, 64, 67, 0.15);\n",
              "      fill: #174EA6;\n",
              "    }\n",
              "\n",
              "    [theme=dark] .colab-df-convert {\n",
              "      background-color: #3B4455;\n",
              "      fill: #D2E3FC;\n",
              "    }\n",
              "\n",
              "    [theme=dark] .colab-df-convert:hover {\n",
              "      background-color: #434B5C;\n",
              "      box-shadow: 0px 1px 3px 1px rgba(0, 0, 0, 0.15);\n",
              "      filter: drop-shadow(0px 1px 2px rgba(0, 0, 0, 0.3));\n",
              "      fill: #FFFFFF;\n",
              "    }\n",
              "  </style>\n",
              "\n",
              "      <script>\n",
              "        const buttonEl =\n",
              "          document.querySelector('#df-6ba0e2d0-674c-4d78-a92f-21c960499d0d button.colab-df-convert');\n",
              "        buttonEl.style.display =\n",
              "          google.colab.kernel.accessAllowed ? 'block' : 'none';\n",
              "\n",
              "        async function convertToInteractive(key) {\n",
              "          const element = document.querySelector('#df-6ba0e2d0-674c-4d78-a92f-21c960499d0d');\n",
              "          const dataTable =\n",
              "            await google.colab.kernel.invokeFunction('convertToInteractive',\n",
              "                                                     [key], {});\n",
              "          if (!dataTable) return;\n",
              "\n",
              "          const docLinkHtml = 'Like what you see? Visit the ' +\n",
              "            '<a target=\"_blank\" href=https://colab.research.google.com/notebooks/data_table.ipynb>data table notebook</a>'\n",
              "            + ' to learn more about interactive tables.';\n",
              "          element.innerHTML = '';\n",
              "          dataTable['output_type'] = 'display_data';\n",
              "          await google.colab.output.renderOutput(dataTable, element);\n",
              "          const docLink = document.createElement('div');\n",
              "          docLink.innerHTML = docLinkHtml;\n",
              "          element.appendChild(docLink);\n",
              "        }\n",
              "      </script>\n",
              "    </div>\n",
              "  </div>\n",
              "  "
            ]
          },
          "metadata": {},
          "execution_count": 6
        }
      ]
    },
    {
      "cell_type": "code",
      "source": [
        "\n",
        "class MultiColumnLabelEncoder:\n",
        "    def __init__(self,columns = None):\n",
        "        self.columns = columns # array of column names to encode\n",
        "\n",
        "    def fit(self,X,y=None):\n",
        "        return self # not relevant here\n",
        "\n",
        "    def transform(self,X):\n",
        "        '''\n",
        "        Transforms columns of X specified in self.columns using\n",
        "        LabelEncoder(). If no columns specified, transforms all\n",
        "        columns in X.\n",
        "        '''\n",
        "        output = X.copy()\n",
        "        if self.columns is not None:\n",
        "            for col in self.columns:\n",
        "                output[col] = LabelEncoder().fit_transform(output[col])\n",
        "        else:\n",
        "            for colname,col in output.iteritems():\n",
        "                output[colname] = LabelEncoder().fit_transform(col)\n",
        "        return output\n",
        "\n",
        "    def fit_transform(self,X,y=None):\n",
        "        return self.fit(X,y).transform(X)"
      ],
      "metadata": {
        "id": "VgEneWMxUFuD"
      },
      "execution_count": 7,
      "outputs": []
    },
    {
      "cell_type": "code",
      "source": [
        "\n",
        "dataset=MultiColumnLabelEncoder(columns = ['Name', 'Price', 'Location','Registered City', 'Engine Type', 'Engine Capacity', 'Transmission','Color', 'Assembly','Body Type', 'Features','Last Updated', 'URL']).fit_transform(df)"
      ],
      "metadata": {
        "id": "KJ02OHPjU4ZH"
      },
      "execution_count": 8,
      "outputs": []
    },
    {
      "cell_type": "code",
      "source": [
        ""
      ],
      "metadata": {
        "id": "4xKh0fZ2XQUJ"
      },
      "execution_count": null,
      "outputs": []
    },
    {
      "cell_type": "code",
      "source": [
        "#babaroscopy=df\n",
        "#flags_ohe = df\n",
        "#categorical_columns = ['Name', 'Price', 'Location','Registered City', 'Engine Type','Engine Capacity', 'Transmission','Color', 'Assembly','Body Type', 'Features','Last Updated', 'URL']\n",
        "#for col in categorical_columns:\n",
        "#    col_ohe = pd.get_dummies(df[col], prefix=col)\n",
        "#    flags_ohe = pd.concat((flags_ohe, col_ohe), axis=1).drop(col, axis=1)"
      ],
      "metadata": {
        "id": "rACPhayrRpTg"
      },
      "execution_count": null,
      "outputs": []
    },
    {
      "cell_type": "code",
      "source": [
        "#from sklearn.compose import make_column_transformer\n",
        "#from sklearn.preprocessing import RobustScaler\n",
        "#from sklearn.preprocessing import OneHotEncoder\n",
        "\n",
        "#categorical_columns = ['Name', 'Price', 'Location','Registered City', 'Engine Type','Engine Capacity', 'Transmission','Color', 'Assembly','Body Type', 'Features','Last Updated', 'URL']\n",
        "#numerical_columns = ['Ad No', 'Model Year', 'Mileage']\n",
        "#column_trans = make_column_transformer(\n",
        "#    (categorical_columns, OneHotEncoder(handle_unknown='ignore')),(numerical_columns, RobustScaler()))\n",
        "#column_trans.fit_transform(df)"
      ],
      "metadata": {
        "id": "yittkqwxAPHr"
      },
      "execution_count": null,
      "outputs": []
    },
    {
      "cell_type": "code",
      "source": [
        "#df[\"Last Updated\"]"
      ],
      "metadata": {
        "id": "jg4wCT-fAi55"
      },
      "execution_count": null,
      "outputs": []
    },
    {
      "cell_type": "code",
      "source": [
        "#df = df.drop('Last Updated', axis = 1)"
      ],
      "metadata": {
        "id": "dW196CSKAm7z"
      },
      "execution_count": null,
      "outputs": []
    },
    {
      "cell_type": "code",
      "source": [
        "#for i in range(len(dataset[\"Price\"])):\n",
        "#    if(dataset[\"Price\"][i]==\"Call for price\")\n",
        "#          dataset[\"Price\"][i]=0"
      ],
      "metadata": {
        "id": "r1GCE-5PAjCk"
      },
      "execution_count": null,
      "outputs": []
    },
    {
      "cell_type": "code",
      "source": [
        ""
      ],
      "metadata": {
        "id": "V8ZetC3EAzHk"
      },
      "execution_count": null,
      "outputs": []
    },
    {
      "cell_type": "code",
      "source": [
        "df.dtypes"
      ],
      "metadata": {
        "colab": {
          "base_uri": "https://localhost:8080/"
        },
        "id": "GMt22_L5AzPr",
        "outputId": "de0c004b-9bce-4ffb-9c69-7576d8b29305"
      },
      "execution_count": null,
      "outputs": [
        {
          "output_type": "execute_result",
          "data": {
            "text/plain": [
              "Ad No               int64\n",
              "Name               object\n",
              "Price              object\n",
              "Model Year          int64\n",
              "Location           object\n",
              "Mileage             int64\n",
              "Registered City    object\n",
              "Engine Type        object\n",
              "Engine Capacity    object\n",
              "Transmission       object\n",
              "Color              object\n",
              "Assembly           object\n",
              "Body Type          object\n",
              "Features           object\n",
              "Last Updated       object\n",
              "URL                object\n",
              "dtype: object"
            ]
          },
          "metadata": {},
          "execution_count": 12
        }
      ]
    },
    {
      "cell_type": "code",
      "source": [
        "#Setting the value for X and Y\n",
        "x = dataset.drop('Price', axis = 1)\n",
        "y = dataset[[\"Price\"]]\n",
        "y.head()"
      ],
      "metadata": {
        "colab": {
          "base_uri": "https://localhost:8080/",
          "height": 206
        },
        "id": "hirxEyazAP0d",
        "outputId": "816d59ec-fb14-4231-a3a7-943ffc876ec3"
      },
      "execution_count": 9,
      "outputs": [
        {
          "output_type": "execute_result",
          "data": {
            "text/plain": [
              "   Price\n",
              "0    526\n",
              "1     47\n",
              "2    234\n",
              "3    282\n",
              "4    192"
            ],
            "text/html": [
              "\n",
              "  <div id=\"df-50ccb062-8ad9-4355-9d9e-464d383f6afc\">\n",
              "    <div class=\"colab-df-container\">\n",
              "      <div>\n",
              "<style scoped>\n",
              "    .dataframe tbody tr th:only-of-type {\n",
              "        vertical-align: middle;\n",
              "    }\n",
              "\n",
              "    .dataframe tbody tr th {\n",
              "        vertical-align: top;\n",
              "    }\n",
              "\n",
              "    .dataframe thead th {\n",
              "        text-align: right;\n",
              "    }\n",
              "</style>\n",
              "<table border=\"1\" class=\"dataframe\">\n",
              "  <thead>\n",
              "    <tr style=\"text-align: right;\">\n",
              "      <th></th>\n",
              "      <th>Price</th>\n",
              "    </tr>\n",
              "  </thead>\n",
              "  <tbody>\n",
              "    <tr>\n",
              "      <th>0</th>\n",
              "      <td>526</td>\n",
              "    </tr>\n",
              "    <tr>\n",
              "      <th>1</th>\n",
              "      <td>47</td>\n",
              "    </tr>\n",
              "    <tr>\n",
              "      <th>2</th>\n",
              "      <td>234</td>\n",
              "    </tr>\n",
              "    <tr>\n",
              "      <th>3</th>\n",
              "      <td>282</td>\n",
              "    </tr>\n",
              "    <tr>\n",
              "      <th>4</th>\n",
              "      <td>192</td>\n",
              "    </tr>\n",
              "  </tbody>\n",
              "</table>\n",
              "</div>\n",
              "      <button class=\"colab-df-convert\" onclick=\"convertToInteractive('df-50ccb062-8ad9-4355-9d9e-464d383f6afc')\"\n",
              "              title=\"Convert this dataframe to an interactive table.\"\n",
              "              style=\"display:none;\">\n",
              "        \n",
              "  <svg xmlns=\"http://www.w3.org/2000/svg\" height=\"24px\"viewBox=\"0 0 24 24\"\n",
              "       width=\"24px\">\n",
              "    <path d=\"M0 0h24v24H0V0z\" fill=\"none\"/>\n",
              "    <path d=\"M18.56 5.44l.94 2.06.94-2.06 2.06-.94-2.06-.94-.94-2.06-.94 2.06-2.06.94zm-11 1L8.5 8.5l.94-2.06 2.06-.94-2.06-.94L8.5 2.5l-.94 2.06-2.06.94zm10 10l.94 2.06.94-2.06 2.06-.94-2.06-.94-.94-2.06-.94 2.06-2.06.94z\"/><path d=\"M17.41 7.96l-1.37-1.37c-.4-.4-.92-.59-1.43-.59-.52 0-1.04.2-1.43.59L10.3 9.45l-7.72 7.72c-.78.78-.78 2.05 0 2.83L4 21.41c.39.39.9.59 1.41.59.51 0 1.02-.2 1.41-.59l7.78-7.78 2.81-2.81c.8-.78.8-2.07 0-2.86zM5.41 20L4 18.59l7.72-7.72 1.47 1.35L5.41 20z\"/>\n",
              "  </svg>\n",
              "      </button>\n",
              "      \n",
              "  <style>\n",
              "    .colab-df-container {\n",
              "      display:flex;\n",
              "      flex-wrap:wrap;\n",
              "      gap: 12px;\n",
              "    }\n",
              "\n",
              "    .colab-df-convert {\n",
              "      background-color: #E8F0FE;\n",
              "      border: none;\n",
              "      border-radius: 50%;\n",
              "      cursor: pointer;\n",
              "      display: none;\n",
              "      fill: #1967D2;\n",
              "      height: 32px;\n",
              "      padding: 0 0 0 0;\n",
              "      width: 32px;\n",
              "    }\n",
              "\n",
              "    .colab-df-convert:hover {\n",
              "      background-color: #E2EBFA;\n",
              "      box-shadow: 0px 1px 2px rgba(60, 64, 67, 0.3), 0px 1px 3px 1px rgba(60, 64, 67, 0.15);\n",
              "      fill: #174EA6;\n",
              "    }\n",
              "\n",
              "    [theme=dark] .colab-df-convert {\n",
              "      background-color: #3B4455;\n",
              "      fill: #D2E3FC;\n",
              "    }\n",
              "\n",
              "    [theme=dark] .colab-df-convert:hover {\n",
              "      background-color: #434B5C;\n",
              "      box-shadow: 0px 1px 3px 1px rgba(0, 0, 0, 0.15);\n",
              "      filter: drop-shadow(0px 1px 2px rgba(0, 0, 0, 0.3));\n",
              "      fill: #FFFFFF;\n",
              "    }\n",
              "  </style>\n",
              "\n",
              "      <script>\n",
              "        const buttonEl =\n",
              "          document.querySelector('#df-50ccb062-8ad9-4355-9d9e-464d383f6afc button.colab-df-convert');\n",
              "        buttonEl.style.display =\n",
              "          google.colab.kernel.accessAllowed ? 'block' : 'none';\n",
              "\n",
              "        async function convertToInteractive(key) {\n",
              "          const element = document.querySelector('#df-50ccb062-8ad9-4355-9d9e-464d383f6afc');\n",
              "          const dataTable =\n",
              "            await google.colab.kernel.invokeFunction('convertToInteractive',\n",
              "                                                     [key], {});\n",
              "          if (!dataTable) return;\n",
              "\n",
              "          const docLinkHtml = 'Like what you see? Visit the ' +\n",
              "            '<a target=\"_blank\" href=https://colab.research.google.com/notebooks/data_table.ipynb>data table notebook</a>'\n",
              "            + ' to learn more about interactive tables.';\n",
              "          element.innerHTML = '';\n",
              "          dataTable['output_type'] = 'display_data';\n",
              "          await google.colab.output.renderOutput(dataTable, element);\n",
              "          const docLink = document.createElement('div');\n",
              "          docLink.innerHTML = docLinkHtml;\n",
              "          element.appendChild(docLink);\n",
              "        }\n",
              "      </script>\n",
              "    </div>\n",
              "  </div>\n",
              "  "
            ]
          },
          "metadata": {},
          "execution_count": 9
        }
      ]
    },
    {
      "cell_type": "code",
      "source": [
        "x.head()"
      ],
      "metadata": {
        "colab": {
          "base_uri": "https://localhost:8080/",
          "height": 288
        },
        "id": "mBTSwishAQiS",
        "outputId": "b58c9729-247a-49d5-bc7a-154662b63f0a"
      },
      "execution_count": 10,
      "outputs": [
        {
          "output_type": "execute_result",
          "data": {
            "text/plain": [
              "     Ad No  Name  Model Year  Location  Mileage  Registered City  Engine Type  \\\n",
              "0  4096758  7157        2017       660     9869              132            2   \n",
              "1  4168305  5490        2019      1620    11111               46            2   \n",
              "2  4168298  3652        2019        84    17500              132            2   \n",
              "3  4168307  3679        2019        36     9600               70            2   \n",
              "4  4168306  5610        2010         4   120000               46            2   \n",
              "\n",
              "   Engine Capacity  Transmission  Color  Assembly  Body Type  Features  \\\n",
              "0                1             0     18         0          4      1336   \n",
              "1                9             0     21         1         13      1343   \n",
              "2               94             0     21         1          4      1576   \n",
              "3               94             1     21         1          4      2979   \n",
              "4                9             1      2         1         13      3935   \n",
              "\n",
              "   Last Updated    URL  \n",
              "0           291  55833  \n",
              "1           293  47166  \n",
              "2           293  20895  \n",
              "3           293  20560  \n",
              "4           293  41467  "
            ],
            "text/html": [
              "\n",
              "  <div id=\"df-68e206a6-c67c-447b-8459-c94be87e6d13\">\n",
              "    <div class=\"colab-df-container\">\n",
              "      <div>\n",
              "<style scoped>\n",
              "    .dataframe tbody tr th:only-of-type {\n",
              "        vertical-align: middle;\n",
              "    }\n",
              "\n",
              "    .dataframe tbody tr th {\n",
              "        vertical-align: top;\n",
              "    }\n",
              "\n",
              "    .dataframe thead th {\n",
              "        text-align: right;\n",
              "    }\n",
              "</style>\n",
              "<table border=\"1\" class=\"dataframe\">\n",
              "  <thead>\n",
              "    <tr style=\"text-align: right;\">\n",
              "      <th></th>\n",
              "      <th>Ad No</th>\n",
              "      <th>Name</th>\n",
              "      <th>Model Year</th>\n",
              "      <th>Location</th>\n",
              "      <th>Mileage</th>\n",
              "      <th>Registered City</th>\n",
              "      <th>Engine Type</th>\n",
              "      <th>Engine Capacity</th>\n",
              "      <th>Transmission</th>\n",
              "      <th>Color</th>\n",
              "      <th>Assembly</th>\n",
              "      <th>Body Type</th>\n",
              "      <th>Features</th>\n",
              "      <th>Last Updated</th>\n",
              "      <th>URL</th>\n",
              "    </tr>\n",
              "  </thead>\n",
              "  <tbody>\n",
              "    <tr>\n",
              "      <th>0</th>\n",
              "      <td>4096758</td>\n",
              "      <td>7157</td>\n",
              "      <td>2017</td>\n",
              "      <td>660</td>\n",
              "      <td>9869</td>\n",
              "      <td>132</td>\n",
              "      <td>2</td>\n",
              "      <td>1</td>\n",
              "      <td>0</td>\n",
              "      <td>18</td>\n",
              "      <td>0</td>\n",
              "      <td>4</td>\n",
              "      <td>1336</td>\n",
              "      <td>291</td>\n",
              "      <td>55833</td>\n",
              "    </tr>\n",
              "    <tr>\n",
              "      <th>1</th>\n",
              "      <td>4168305</td>\n",
              "      <td>5490</td>\n",
              "      <td>2019</td>\n",
              "      <td>1620</td>\n",
              "      <td>11111</td>\n",
              "      <td>46</td>\n",
              "      <td>2</td>\n",
              "      <td>9</td>\n",
              "      <td>0</td>\n",
              "      <td>21</td>\n",
              "      <td>1</td>\n",
              "      <td>13</td>\n",
              "      <td>1343</td>\n",
              "      <td>293</td>\n",
              "      <td>47166</td>\n",
              "    </tr>\n",
              "    <tr>\n",
              "      <th>2</th>\n",
              "      <td>4168298</td>\n",
              "      <td>3652</td>\n",
              "      <td>2019</td>\n",
              "      <td>84</td>\n",
              "      <td>17500</td>\n",
              "      <td>132</td>\n",
              "      <td>2</td>\n",
              "      <td>94</td>\n",
              "      <td>0</td>\n",
              "      <td>21</td>\n",
              "      <td>1</td>\n",
              "      <td>4</td>\n",
              "      <td>1576</td>\n",
              "      <td>293</td>\n",
              "      <td>20895</td>\n",
              "    </tr>\n",
              "    <tr>\n",
              "      <th>3</th>\n",
              "      <td>4168307</td>\n",
              "      <td>3679</td>\n",
              "      <td>2019</td>\n",
              "      <td>36</td>\n",
              "      <td>9600</td>\n",
              "      <td>70</td>\n",
              "      <td>2</td>\n",
              "      <td>94</td>\n",
              "      <td>1</td>\n",
              "      <td>21</td>\n",
              "      <td>1</td>\n",
              "      <td>4</td>\n",
              "      <td>2979</td>\n",
              "      <td>293</td>\n",
              "      <td>20560</td>\n",
              "    </tr>\n",
              "    <tr>\n",
              "      <th>4</th>\n",
              "      <td>4168306</td>\n",
              "      <td>5610</td>\n",
              "      <td>2010</td>\n",
              "      <td>4</td>\n",
              "      <td>120000</td>\n",
              "      <td>46</td>\n",
              "      <td>2</td>\n",
              "      <td>9</td>\n",
              "      <td>1</td>\n",
              "      <td>2</td>\n",
              "      <td>1</td>\n",
              "      <td>13</td>\n",
              "      <td>3935</td>\n",
              "      <td>293</td>\n",
              "      <td>41467</td>\n",
              "    </tr>\n",
              "  </tbody>\n",
              "</table>\n",
              "</div>\n",
              "      <button class=\"colab-df-convert\" onclick=\"convertToInteractive('df-68e206a6-c67c-447b-8459-c94be87e6d13')\"\n",
              "              title=\"Convert this dataframe to an interactive table.\"\n",
              "              style=\"display:none;\">\n",
              "        \n",
              "  <svg xmlns=\"http://www.w3.org/2000/svg\" height=\"24px\"viewBox=\"0 0 24 24\"\n",
              "       width=\"24px\">\n",
              "    <path d=\"M0 0h24v24H0V0z\" fill=\"none\"/>\n",
              "    <path d=\"M18.56 5.44l.94 2.06.94-2.06 2.06-.94-2.06-.94-.94-2.06-.94 2.06-2.06.94zm-11 1L8.5 8.5l.94-2.06 2.06-.94-2.06-.94L8.5 2.5l-.94 2.06-2.06.94zm10 10l.94 2.06.94-2.06 2.06-.94-2.06-.94-.94-2.06-.94 2.06-2.06.94z\"/><path d=\"M17.41 7.96l-1.37-1.37c-.4-.4-.92-.59-1.43-.59-.52 0-1.04.2-1.43.59L10.3 9.45l-7.72 7.72c-.78.78-.78 2.05 0 2.83L4 21.41c.39.39.9.59 1.41.59.51 0 1.02-.2 1.41-.59l7.78-7.78 2.81-2.81c.8-.78.8-2.07 0-2.86zM5.41 20L4 18.59l7.72-7.72 1.47 1.35L5.41 20z\"/>\n",
              "  </svg>\n",
              "      </button>\n",
              "      \n",
              "  <style>\n",
              "    .colab-df-container {\n",
              "      display:flex;\n",
              "      flex-wrap:wrap;\n",
              "      gap: 12px;\n",
              "    }\n",
              "\n",
              "    .colab-df-convert {\n",
              "      background-color: #E8F0FE;\n",
              "      border: none;\n",
              "      border-radius: 50%;\n",
              "      cursor: pointer;\n",
              "      display: none;\n",
              "      fill: #1967D2;\n",
              "      height: 32px;\n",
              "      padding: 0 0 0 0;\n",
              "      width: 32px;\n",
              "    }\n",
              "\n",
              "    .colab-df-convert:hover {\n",
              "      background-color: #E2EBFA;\n",
              "      box-shadow: 0px 1px 2px rgba(60, 64, 67, 0.3), 0px 1px 3px 1px rgba(60, 64, 67, 0.15);\n",
              "      fill: #174EA6;\n",
              "    }\n",
              "\n",
              "    [theme=dark] .colab-df-convert {\n",
              "      background-color: #3B4455;\n",
              "      fill: #D2E3FC;\n",
              "    }\n",
              "\n",
              "    [theme=dark] .colab-df-convert:hover {\n",
              "      background-color: #434B5C;\n",
              "      box-shadow: 0px 1px 3px 1px rgba(0, 0, 0, 0.15);\n",
              "      filter: drop-shadow(0px 1px 2px rgba(0, 0, 0, 0.3));\n",
              "      fill: #FFFFFF;\n",
              "    }\n",
              "  </style>\n",
              "\n",
              "      <script>\n",
              "        const buttonEl =\n",
              "          document.querySelector('#df-68e206a6-c67c-447b-8459-c94be87e6d13 button.colab-df-convert');\n",
              "        buttonEl.style.display =\n",
              "          google.colab.kernel.accessAllowed ? 'block' : 'none';\n",
              "\n",
              "        async function convertToInteractive(key) {\n",
              "          const element = document.querySelector('#df-68e206a6-c67c-447b-8459-c94be87e6d13');\n",
              "          const dataTable =\n",
              "            await google.colab.kernel.invokeFunction('convertToInteractive',\n",
              "                                                     [key], {});\n",
              "          if (!dataTable) return;\n",
              "\n",
              "          const docLinkHtml = 'Like what you see? Visit the ' +\n",
              "            '<a target=\"_blank\" href=https://colab.research.google.com/notebooks/data_table.ipynb>data table notebook</a>'\n",
              "            + ' to learn more about interactive tables.';\n",
              "          element.innerHTML = '';\n",
              "          dataTable['output_type'] = 'display_data';\n",
              "          await google.colab.output.renderOutput(dataTable, element);\n",
              "          const docLink = document.createElement('div');\n",
              "          docLink.innerHTML = docLinkHtml;\n",
              "          element.appendChild(docLink);\n",
              "        }\n",
              "      </script>\n",
              "    </div>\n",
              "  </div>\n",
              "  "
            ]
          },
          "metadata": {},
          "execution_count": 10
        }
      ]
    },
    {
      "cell_type": "markdown",
      "source": [
        "Train Test"
      ],
      "metadata": {
        "id": "zEfG5M2G7Q3w"
      }
    },
    {
      "cell_type": "code",
      "source": [
        "x_train, x_test, y_train, y_test = train_test_split(x, y, test_size = 0.2, random_state = 100)"
      ],
      "metadata": {
        "id": "j4kNInqiAU-_"
      },
      "execution_count": 11,
      "outputs": []
    },
    {
      "cell_type": "code",
      "source": [
        "print (x_train.shape, y_train.shape)\n",
        "print (x_test.shape, y_test.shape)"
      ],
      "metadata": {
        "colab": {
          "base_uri": "https://localhost:8080/"
        },
        "id": "kRpv-iKtgqnE",
        "outputId": "ff5b59ae-3e6c-4fe1-b384-4a594b9ec6cd"
      },
      "execution_count": 12,
      "outputs": [
        {
          "output_type": "stream",
          "name": "stdout",
          "text": [
            "(44948, 15) (44948, 1)\n",
            "(11238, 15) (11238, 1)\n"
          ]
        }
      ]
    },
    {
      "cell_type": "code",
      "source": [
        "#Fitting the Multiple Linear Regression model\n",
        "mlr = LinearRegression()  \n",
        "mlr.fit(x_train, y_train)"
      ],
      "metadata": {
        "colab": {
          "base_uri": "https://localhost:8080/"
        },
        "id": "BSocOyhJAb7F",
        "outputId": "89039fb8-3fae-4445-8b68-3bfc0aafe140"
      },
      "execution_count": 13,
      "outputs": [
        {
          "output_type": "execute_result",
          "data": {
            "text/plain": [
              "LinearRegression()"
            ]
          },
          "metadata": {},
          "execution_count": 13
        }
      ]
    },
    {
      "cell_type": "code",
      "source": [
        "#Intercept and Coefficient\n",
        "print(\"Intercept: \", mlr.intercept_)\n",
        "print(\"Coefficients:\")\n",
        "list(zip(x, mlr.coef_))"
      ],
      "metadata": {
        "colab": {
          "base_uri": "https://localhost:8080/"
        },
        "id": "iwF_QMkKBEoT",
        "outputId": "5362eb48-1478-44d0-84f9-d0c061195d6f"
      },
      "execution_count": 14,
      "outputs": [
        {
          "output_type": "stream",
          "name": "stdout",
          "text": [
            "Intercept:  [29722.63810344]\n",
            "Coefficients:\n"
          ]
        },
        {
          "output_type": "execute_result",
          "data": {
            "text/plain": [
              "[('Ad No',\n",
              "  array([-9.28839556e-05,  1.91956194e-02, -1.42450477e+01, -3.81075371e-03,\n",
              "         -6.93718572e-04,  9.64159206e-01, -7.65114681e+01,  1.08812992e+00,\n",
              "         -8.22186174e+00,  9.00689796e-01,  1.72843313e+02, -8.44807827e+00,\n",
              "          4.30736719e-02, -1.70429879e-02, -3.53888891e-03]))]"
            ]
          },
          "metadata": {},
          "execution_count": 14
        }
      ]
    },
    {
      "cell_type": "code",
      "source": [
        "#Prediction of test set\n",
        "y_pred_mlr= mlr.predict(x_test)\n",
        "#Predicted values\n",
        "print(\"Prediction for test set: {}\".format(y_pred_mlr))"
      ],
      "metadata": {
        "colab": {
          "base_uri": "https://localhost:8080/"
        },
        "id": "3w8rNPfuBH_j",
        "outputId": "5a3a2881-7a81-4d95-f087-215c151f02b5"
      },
      "execution_count": 15,
      "outputs": [
        {
          "output_type": "stream",
          "name": "stdout",
          "text": [
            "Prediction for test set: [[ 566.0370461 ]\n",
            " [ 458.43634586]\n",
            " [ 834.59048515]\n",
            " ...\n",
            " [ 667.89172541]\n",
            " [1098.74219013]\n",
            " [ 474.26601494]]\n"
          ]
        }
      ]
    },
    {
      "cell_type": "code",
      "source": [
        "## The line / model\n",
        "plt.scatter(y_test, y_pred_mlr)\n",
        "plt.xlabel(\"True Values\")\n",
        "plt.ylabel(\"Predictions\")"
      ],
      "metadata": {
        "colab": {
          "base_uri": "https://localhost:8080/",
          "height": 296
        },
        "id": "uso-xWNChH2m",
        "outputId": "72b6b407-8e7f-4ef7-8601-ffae8a210f4f"
      },
      "execution_count": 16,
      "outputs": [
        {
          "output_type": "execute_result",
          "data": {
            "text/plain": [
              "Text(0, 0.5, 'Predictions')"
            ]
          },
          "metadata": {},
          "execution_count": 16
        },
        {
          "output_type": "display_data",
          "data": {
            "text/plain": [
              "<Figure size 432x288 with 1 Axes>"
            ],
            "image/png": "[encoded data removed]"
          },
          "metadata": {
            "needs_background": "light"
          }
        }
      ]
    },
    {
      "cell_type": "code",
      "source": [
        "print (\"Score:\", mlr.score(x_test, y_test))"
      ],
      "metadata": {
        "colab": {
          "base_uri": "https://localhost:8080/"
        },
        "id": "qM5ibE7GhiPQ",
        "outputId": "59a84a1b-c569-4695-a18a-e50be00780ab"
      },
      "execution_count": 17,
      "outputs": [
        {
          "output_type": "stream",
          "name": "stdout",
          "text": [
            "Score: 0.11918569162225146\n"
          ]
        }
      ]
    },
    {
      "cell_type": "code",
      "source": [
        "#Model Evaluation\n",
        "rootMeanSqErr = np.sqrt(metrics.mean_squared_error(y_test, y_pred_mlr))\n",
        "print('Root Mean Square Error:', rootMeanSqErr)"
      ],
      "metadata": {
        "colab": {
          "base_uri": "https://localhost:8080/"
        },
        "id": "htI0KmbVBK_H",
        "outputId": "d949c5c7-5099-4fe2-e207-7d68a7b8c193"
      },
      "execution_count": 18,
      "outputs": [
        {
          "output_type": "stream",
          "name": "stdout",
          "text": [
            "Root Mean Square Error: 457.303440496812\n"
          ]
        }
      ]
    },
    {
      "cell_type": "code",
      "source": [
        ""
      ],
      "metadata": {
        "id": "3OXJRmjfiDew"
      },
      "execution_count": null,
      "outputs": []
    },
    {
      "cell_type": "markdown",
      "source": [
        "KFold Cross Validation"
      ],
      "metadata": {
        "id": "PIhdghwp7h_e"
      }
    },
    {
      "cell_type": "code",
      "source": [
        "regressor=LinearRegression() #Linear regression\n",
        "\n",
        "#NUMBER OF FOLDS REQUIRED MAYBE CONTROLLED HERE USING K\n",
        "k=10 #change k according to number of folds(Default=10)\n",
        "\n",
        "kf=KFold(n_splits=k, random_state=1, shuffle=True)  #Splitting the folds k times"
      ],
      "metadata": {
        "id": "6m-rA3pq8DRl"
      },
      "execution_count": 20,
      "outputs": []
    },
    {
      "cell_type": "code",
      "source": [
        "#Iteration control\n",
        "i=1\n",
        "#lists to store metrics\n",
        "mae=[]\n",
        "mse=[]\n",
        "rmse=[]\n",
        "r2=[]\n",
        "\n",
        "for train_index, test_index in kf.split(x):\n",
        "    print('ITERATION: ',i)\n",
        "    i=i+1\n",
        "\n",
        "    #splitting\n",
        "    x_train, x_test = x.iloc[train_index], x.iloc[test_index]\n",
        "    y_train, y_test = y.iloc[train_index], y.iloc[test_index]\n",
        "\n",
        "    #fitting\n",
        "    regressor.fit(x_train, y_train)\n",
        "\n",
        "    # To retrieve the intercept:\n",
        "    print('Intercept: ',regressor.intercept_)\n",
        "    # For printing the coefficients:\n",
        "    print(\"Coefficients: \")\n",
        "    print(regressor.coef_)\n",
        "\n",
        "    #predicting\n",
        "    y_pred = regressor.predict(x_test)\n",
        "\n",
        "    #plotting if necessary\n",
        "    # plt.scatter(X_test['Xg'],y_test,label=\"Tester\")\n",
        "    # plt.scatter(X_test['Xg'],y_pred,label=\"Predicted\")\n",
        "    # plt.legend()\n",
        "    # plt.show()\n",
        "\n",
        "    #Calculating metrics\n",
        "    ma= metrics.mean_absolute_error(y_test, y_pred)\n",
        "    ms= metrics.mean_squared_error(y_test, y_pred)\n",
        "    mrm= np.sqrt(metrics.mean_squared_error(y_test, y_pred))\n",
        "    mr2= metrics.r2_score(y_test, y_pred)\n",
        "    #appending metrics\n",
        "    mae.append(ma)\n",
        "    mse.append(ms)\n",
        "    rmse.append(mrm)\n",
        "    r2.append(mr2)\n",
        "    #printing metrics for fit\n",
        "    print (\"Score:\", mlr.score(x_test, y_test))\n",
        "    print('Mean Absolute Error:',ma)\n",
        "    print('Mean Squared Error:',ms)\n",
        "    print('Root Mean Squared Error:',mrm)\n",
        "    print('R^2 score:',mr2)\n",
        "\n",
        "#Printing mean values of metrics\n",
        "print(\"AVERAGE METRICS:\")\n",
        "print('Average Mean Absolute Error:',np.mean(np.array(mae)))\n",
        "print('Average Mean Squared Error:', np.mean(np.array(mse)))\n",
        "print('Average Root Mean Squared Error:', np.mean(np.array(rmse)))\n",
        "print('Average R^2 score:', np.mean(np.array(r2)))"
      ],
      "metadata": {
        "colab": {
          "base_uri": "https://localhost:8080/"
        },
        "id": "OD_XwcCu8HpJ",
        "outputId": "06053aed-8572-4766-a03c-29102a4648b3"
      },
      "execution_count": 27,
      "outputs": [
        {
          "output_type": "stream",
          "name": "stdout",
          "text": [
            "ITERATION:  1\n",
            "Intercept:  [30356.0713805]\n",
            "Coefficients: \n",
            "[[-8.58180379e-05  1.33070055e-02 -1.45744283e+01 -1.92068117e-03\n",
            "  -6.97401818e-04  9.95706346e-01 -7.38184421e+01  1.13265941e+00\n",
            "  -6.27477982e+00  8.61723007e-01  1.68689789e+02 -8.54065443e+00\n",
            "   4.27770065e-02 -1.92891309e-02 -2.91861500e-03]]\n",
            "Score: 0.12242118998797313\n",
            "Mean Absolute Error: 385.5816512188963\n",
            "Mean Squared Error: 205055.73432070675\n",
            "Root Mean Squared Error: 452.830800984989\n",
            "R^2 score: 0.1220913659134727\n",
            "ITERATION:  2\n",
            "Intercept:  [29997.94727695]\n",
            "Coefficients: \n",
            "[[-7.91151261e-05  1.80887892e-02 -1.44072831e+01 -2.71830501e-03\n",
            "  -7.07266126e-04  9.55020551e-01 -7.45292439e+01  1.14537160e+00\n",
            "  -6.89960010e+00  8.01318718e-01  1.71014296e+02 -8.37907243e+00\n",
            "   4.23440586e-02 -3.23688433e-02 -3.45270168e-03]]\n",
            "Score: 0.11933144491367542\n",
            "Mean Absolute Error: 385.44756123035967\n",
            "Mean Squared Error: 206998.462254891\n",
            "Root Mean Squared Error: 454.97083670812464\n",
            "R^2 score: 0.11894865488932094\n",
            "ITERATION:  3\n",
            "Intercept:  [30276.17592971]\n",
            "Coefficients: \n",
            "[[-9.28630528e-05  1.14350888e-02 -1.45234792e+01 -4.19718358e-03\n",
            "  -6.89708123e-04  1.04813905e+00 -7.20950112e+01  1.14215854e+00\n",
            "  -6.84193559e+00  9.57387991e-01  1.72126289e+02 -8.38493819e+00\n",
            "   4.24689608e-02 -2.29383785e-02 -2.72411441e-03]]\n",
            "Score: 0.11996586291042222\n",
            "Mean Absolute Error: 388.5109826476138\n",
            "Mean Squared Error: 207718.04251774025\n",
            "Root Mean Squared Error: 455.76094887313485\n",
            "R^2 score: 0.11926315166906198\n",
            "ITERATION:  4\n",
            "Intercept:  [29627.02818313]\n",
            "Coefficients: \n",
            "[[-8.09773704e-05  1.47203304e-02 -1.42145527e+01 -4.21788170e-03\n",
            "  -6.88594582e-04  1.02537434e+00 -7.69405394e+01  1.09388148e+00\n",
            "  -3.69942795e+00  9.00229629e-01  1.64693106e+02 -8.48166338e+00\n",
            "   4.22629597e-02 -3.12156879e-02 -3.14389304e-03]]\n",
            "Score: 0.1396031379151812\n",
            "Mean Absolute Error: 385.0321808060366\n",
            "Mean Squared Error: 203798.58035062067\n",
            "Root Mean Squared Error: 451.4405612598636\n",
            "R^2 score: 0.13855851829377497\n",
            "ITERATION:  5\n",
            "Intercept:  [29459.29435256]\n",
            "Coefficients: \n",
            "[[-8.85242033e-05  1.38992390e-02 -1.41173905e+01 -3.39488768e-03\n",
            "  -7.02995885e-04  9.47446385e-01 -7.70155004e+01  1.09226891e+00\n",
            "  -6.58295844e+00  7.57277409e-01  1.67931377e+02 -8.48931432e+00\n",
            "   4.37303030e-02 -2.35038623e-02 -2.90863691e-03]]\n",
            "Score: 0.13710794373692015\n",
            "Mean Absolute Error: 383.22845486747457\n",
            "Mean Squared Error: 203391.69019823827\n",
            "Root Mean Squared Error: 450.98967859391\n",
            "R^2 score: 0.13681276078806914\n",
            "ITERATION:  6\n",
            "Intercept:  [29798.24664288]\n",
            "Coefficients: \n",
            "[[-8.71501160e-05  1.77528626e-02 -1.42912685e+01 -4.68661777e-03\n",
            "  -7.05386351e-04  9.83634693e-01 -7.32050520e+01  1.08978274e+00\n",
            "  -7.21070869e+00  7.81475321e-01  1.71617894e+02 -8.40904744e+00\n",
            "   4.30388633e-02 -3.59504478e-02 -3.47005711e-03]]\n",
            "Score: 0.11907422663945744\n",
            "Mean Absolute Error: 391.4866847588347\n",
            "Mean Squared Error: 212001.85736006207\n",
            "Root Mean Squared Error: 460.4365942885753\n",
            "R^2 score: 0.11890970613061314\n",
            "ITERATION:  7\n",
            "Intercept:  [30487.74524842]\n",
            "Coefficients: \n",
            "[[-8.87169449e-05  1.11987621e-02 -1.46305928e+01 -3.53123165e-03\n",
            "  -7.07381800e-04  9.77592290e-01 -7.20618109e+01  1.16151286e+00\n",
            "  -2.84163781e+00  7.36114134e-01  1.69748335e+02 -8.59841581e+00\n",
            "   4.19879778e-02 -3.84530772e-02 -2.57912219e-03]]\n",
            "Score: 0.11916741716715629\n",
            "Mean Absolute Error: 387.6770983273966\n",
            "Mean Squared Error: 207245.11664299847\n",
            "Root Mean Squared Error: 455.24182215938646\n",
            "R^2 score: 0.11842856203473129\n",
            "ITERATION:  8\n",
            "Intercept:  [29542.48759024]\n",
            "Coefficients: \n",
            "[[-8.19864661e-05  1.42692922e-02 -1.41712456e+01 -5.47474063e-03\n",
            "  -7.15246676e-04  9.61329672e-01 -7.58633379e+01  1.11946018e+00\n",
            "  -5.33065431e+00  8.21457152e-01  1.71709554e+02 -8.52875290e+00\n",
            "   4.37255286e-02 -3.23581343e-02 -3.02494662e-03]]\n",
            "Score: 0.10706813156744222\n",
            "Mean Absolute Error: 389.80677298478776\n",
            "Mean Squared Error: 211498.6091467281\n",
            "Root Mean Squared Error: 459.8897793457994\n",
            "R^2 score: 0.10637796006556333\n",
            "ITERATION:  9\n",
            "Intercept:  [30351.64663092]\n",
            "Coefficients: \n",
            "[[-8.38631489e-05  1.30740083e-02 -1.45720953e+01 -3.74617539e-03\n",
            "  -7.16539598e-04  9.97725517e-01 -7.49537981e+01  1.09565736e+00\n",
            "  -4.95983154e+00  8.98242627e-01  1.69896416e+02 -8.63989873e+00\n",
            "   4.20596675e-02 -1.91222823e-02 -2.94387741e-03]]\n",
            "Score: 0.12428108484049905\n",
            "Mean Absolute Error: 383.7723636263696\n",
            "Mean Squared Error: 206005.11473006904\n",
            "Root Mean Squared Error: 453.877863229822\n",
            "R^2 score: 0.12389711930197522\n",
            "ITERATION:  10\n",
            "Intercept:  [30317.70887084]\n",
            "Coefficients: \n",
            "[[-8.13851136e-05  1.02483639e-02 -1.45580863e+01 -6.43936045e-03\n",
            "  -6.80837870e-04  1.01149042e+00 -7.37080282e+01  1.13276089e+00\n",
            "  -3.50075831e+00  8.03477951e-01  1.69836384e+02 -8.59950976e+00\n",
            "   4.11007206e-02 -3.62010039e-02 -2.56655616e-03]]\n",
            "Score: 0.13425009072746652\n",
            "Mean Absolute Error: 387.7306996350462\n",
            "Mean Squared Error: 205955.56970225336\n",
            "Root Mean Squared Error: 453.8232802559311\n",
            "R^2 score: 0.13305682439474942\n",
            "AVERAGE METRICS:\n",
            "Average Mean Absolute Error: 386.8274450102816\n",
            "Average Mean Squared Error: 206966.8777224308\n",
            "Average Root Mean Squared Error: 454.9262165699537\n",
            "Average R^2 score: 0.1236344623481332\n"
          ]
        }
      ]
    },
    {
      "cell_type": "code",
      "source": [
        "## The line / model\n",
        "plt.scatter(y_test, y_pred)\n",
        "plt.xlabel(\"True Values\")\n",
        "plt.ylabel(\"Predictions\")"
      ],
      "metadata": {
        "colab": {
          "base_uri": "https://localhost:8080/",
          "height": 296
        },
        "id": "f-NeVaZw_eOf",
        "outputId": "068a7385-266c-42bb-d663-ea5122c17278"
      },
      "execution_count": 28,
      "outputs": [
        {
          "output_type": "execute_result",
          "data": {
            "text/plain": [
              "Text(0, 0.5, 'Predictions')"
            ]
          },
          "metadata": {},
          "execution_count": 28
        },
        {
          "output_type": "display_data",
          "data": {
            "text/plain": [
              "<Figure size 432x288 with 1 Axes>"
            ],
            "image/png": "[encoded data removed]"
          },
          "metadata": {
            "needs_background": "light"
          }
        }
      ]
    },
    {
      "cell_type": "code",
      "source": [
        ""
      ],
      "metadata": {
        "id": "AmI7A3bV-SyQ"
      },
      "execution_count": null,
      "outputs": []
    },
    {
      "cell_type": "code",
      "source": [
        ""
      ],
      "metadata": {
        "id": "i33obp3x-TUa"
      },
      "execution_count": null,
      "outputs": []
    },
    {
      "cell_type": "code",
      "source": [
        "\n",
        "# Perform 6-fold cross validation\n",
        "#scores = cross_val_score(mlr, x, y, cv=5)\n",
        "#print (\"Cross-validated scores:\", scores)"
      ],
      "metadata": {
        "colab": {
          "base_uri": "https://localhost:8080/"
        },
        "id": "4A5QSzOEwlZl",
        "outputId": "2471abbf-0b0d-4052-a6fb-bcbf5e05c292"
      },
      "execution_count": null,
      "outputs": [
        {
          "output_type": "stream",
          "name": "stdout",
          "text": [
            "Cross-validated scores: [0.03587334 0.15104649 0.15387081 0.15203264 0.02526282]\n"
          ]
        }
      ]
    },
    {
      "cell_type": "code",
      "source": [
        "# Make cross validated predictions\n",
        "#predictions = cross_val_predict(mlr, x, y, cv=5)\n",
        "#plt.scatter(y, predictions)"
      ],
      "metadata": {
        "colab": {
          "base_uri": "https://localhost:8080/",
          "height": 282
        },
        "id": "cC9xaavfxBPV",
        "outputId": "93dd577e-1103-4b4c-a30e-8c152d404c0d"
      },
      "execution_count": null,
      "outputs": [
        {
          "output_type": "execute_result",
          "data": {
            "text/plain": [
              "<matplotlib.collections.PathCollection at 0x7f430f7bec90>"
            ]
          },
          "metadata": {},
          "execution_count": 54
        },
        {
          "output_type": "display_data",
          "data": {
            "text/plain": [
              "<Figure size 432x288 with 1 Axes>"
            ],
            "image/png": "[encoded data removed]"
          },
          "metadata": {
            "needs_background": "light"
          }
        }
      ]
    },
    {
      "cell_type": "code",
      "source": [
        "# prepare the cross-validation procedure\n",
        "#cv = RepeatedKFold(n_splits=10, n_repeats=3, random_state=1)\n",
        "# create model\n",
        "#kmlr = LinearRegression()\n",
        "# evaluate model\n",
        "#scores = cross_val_score(kmlr, x_train, y_train, cv=cv)\n",
        "# report performance\n",
        "#print('Accuracy: %.3f (%.3f)' % (mean(scores), std(scores)))\n",
        "#rmse\n",
        "#score = cross_val_score(kmlr, x_train, y_train,scoring=\"neg_root_mean_squared_error\", cv=cv)\n",
        "# report performance\n",
        "#print('RMSE: %.3f (%.3f)' % (mean(score), std(score)))"
      ],
      "metadata": {
        "colab": {
          "base_uri": "https://localhost:8080/"
        },
        "id": "HF8mXy9oyU0k",
        "outputId": "84876333-ed8a-4786-e7d8-df67895e86f6"
      },
      "execution_count": null,
      "outputs": [
        {
          "output_type": "stream",
          "name": "stdout",
          "text": [
            "Accuracy: 0.125 (0.009)\n",
            "RMSE: -454.321 (2.990)\n"
          ]
        }
      ]
    },
    {
      "cell_type": "code",
      "source": [
        ""
      ],
      "metadata": {
        "id": "RyMljHMo8DFi"
      },
      "execution_count": null,
      "outputs": []
    }
  ]
}