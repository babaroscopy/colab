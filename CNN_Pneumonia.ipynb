{
  "nbformat": 4,
  "nbformat_minor": 0,
  "metadata": {
    "accelerator": "GPU",
    "colab": {
      "name": "CNN_Pneumonia.ipynb",
      "provenance": [],
      "collapsed_sections": [],
      "authorship_tag": "ABX9TyO9PSpbSctvXPEdEditrRFZ",
      "include_colab_link": true
    },
    "kernelspec": {
      "display_name": "Python 3",
      "name": "python3"
    },
    "language_info": {
      "name": "python"
    }
  },
  "cells": [
    {
      "cell_type": "markdown",
      "metadata": {
        "id": "view-in-github",
        "colab_type": "text"
      },
      "source": [
        "<a href=\"https://colab.research.google.com/github/babaroscopy/colab/blob/main/CNN_Pneumonia.ipynb\" target=\"_parent\"><img src=\"https://colab.research.google.com/assets/colab-badge.svg\" alt=\"Open In Colab\"/></a>"
      ]
    },
    {
      "cell_type": "code",
      "metadata": {
        "colab": {
          "base_uri": "https://localhost:8080/"
        },
        "id": "b0BQptLH4YpP",
        "outputId": "6b8ac5d1-c84a-4b43-c644-0022040e080e"
      },
      "source": [
        "from google.colab import drive\n",
        "drive.mount('/content/gdrive')"
      ],
      "execution_count": 6,
      "outputs": [
        {
          "output_type": "stream",
          "name": "stdout",
          "text": [
            "Drive already mounted at /content/gdrive; to attempt to forcibly remount, call drive.mount(\"/content/gdrive\", force_remount=True).\n"
          ]
        }
      ]
    },
    {
      "cell_type": "code",
      "metadata": {
        "id": "3lAnSig-48Xp"
      },
      "source": [
        "import os\n",
        "os.environ['KAGGLE_CONFIG_DIR'] = \"/content/gdrive/My Drive/Kaggle\""
      ],
      "execution_count": 2,
      "outputs": []
    },
    {
      "cell_type": "code",
      "metadata": {
        "colab": {
          "base_uri": "https://localhost:8080/"
        },
        "id": "JLyCAXG25Awt",
        "outputId": "b88aa35b-ad3b-4462-9b3a-babfb29d5452"
      },
      "source": [
        "#changing the working directory\n",
        "%cd /content/gdrive/My Drive/Kaggle"
      ],
      "execution_count": 8,
      "outputs": [
        {
          "output_type": "stream",
          "name": "stdout",
          "text": [
            "/content/gdrive/My Drive/Kaggle\n"
          ]
        }
      ]
    },
    {
      "cell_type": "code",
      "metadata": {
        "colab": {
          "base_uri": "https://localhost:8080/"
        },
        "id": "ZH4cK8Xp5L9a",
        "outputId": "ec9c64e2-3011-4e82-a4e6-b2f222878fa8"
      },
      "source": [
        "!kaggle datasets download -d paultimothymooney/chest-xray-pneumonia"
      ],
      "execution_count": null,
      "outputs": [
        {
          "name": "stdout",
          "output_type": "stream",
          "text": [
            "chest-xray-pneumonia.zip: Skipping, found more recently modified local copy (use --force to force download)\n"
          ]
        }
      ]
    },
    {
      "cell_type": "code",
      "metadata": {
        "colab": {
          "base_uri": "https://localhost:8080/"
        },
        "id": "yRnbJQjJ5guG",
        "outputId": "edf35d85-c141-46b7-b630-7baa1dc5a39a"
      },
      "source": [
        "ls"
      ],
      "execution_count": 3,
      "outputs": [
        {
          "output_type": "stream",
          "name": "stdout",
          "text": [
            "\u001b[0m\u001b[01;34mchest_xray\u001b[0m/  chest-xray-pneumonia.zip  \u001b[01;34mgdrive\u001b[0m/  \u001b[01;34msample_data\u001b[0m/\n"
          ]
        }
      ]
    },
    {
      "cell_type": "code",
      "metadata": {
        "colab": {
          "base_uri": "https://localhost:8080/",
          "height": 35
        },
        "id": "Xn0-KfQM6EV4",
        "outputId": "a69a1504-ee21-43fe-a966-122ed47742ba"
      },
      "source": [
        "pwd"
      ],
      "execution_count": null,
      "outputs": [
        {
          "output_type": "execute_result",
          "data": {
            "application/vnd.google.colaboratory.intrinsic+json": {
              "type": "string"
            },
            "text/plain": [
              "'/content'"
            ]
          },
          "metadata": {},
          "execution_count": 4
        }
      ]
    },
    {
      "cell_type": "code",
      "metadata": {
        "id": "7w6J-FmK6c3D",
        "colab": {
          "base_uri": "https://localhost:8080/"
        },
        "outputId": "42eff910-a76b-4a28-f163-04cb208b4b2f"
      },
      "source": [
        "# Location of Zip File\n",
        "drive_path = '/content/gdrive/My Drive/Kaggle/chest-xray-pneumonia.zip'\n",
        "local_path = '/content'\n",
        "\n",
        "# Copy the zip file and move it up one level (AKA out of the drive folder)\n",
        "!cp '{drive_path}' .\n",
        "\n",
        "# Navigate to the copied file and unzip it quietly\n",
        "os.chdir(local_path)\n",
        "!unzip -q 'chest-xray-pneumonia.zip'"
      ],
      "execution_count": 4,
      "outputs": [
        {
          "output_type": "stream",
          "name": "stdout",
          "text": [
            "replace chest_xray/__MACOSX/._chest_xray? [y]es, [n]o, [A]ll, [N]one, [r]ename: N\n"
          ]
        }
      ]
    },
    {
      "cell_type": "code",
      "metadata": {
        "id": "TAQfiWSB_plC"
      },
      "source": [
        "import matplotlib.pyplot as plt\n",
        "import numpy as np\n",
        "import pandas as pd\n",
        "from tensorflow.keras.preprocessing.image import ImageDataGenerator, array_to_img\n",
        "from tensorflow.keras.models import Sequential,load_model,save_model\n",
        "from tensorflow.keras.layers import Dense,Conv2D,Flatten,MaxPooling2D\n",
        "from tensorflow.keras.callbacks import EarlyStopping,ReduceLROnPlateau\n",
        "from sklearn.utils.class_weight import compute_class_weight\n",
        "from sklearn.metrics import classification_report,confusion_matrix"
      ],
      "execution_count": 5,
      "outputs": []
    },
    {
      "cell_type": "code",
      "metadata": {
        "id": "kRDeKL9rAZ37"
      },
      "source": [
        "#Define Directories for train, test & Validation Set\n",
        "train_path = '/content/chest_xray/train'\n",
        "test_path = '/content/chest_xray/test'\n",
        "valid_path = '/content/chest_xray/val'"
      ],
      "execution_count": 6,
      "outputs": []
    },
    {
      "cell_type": "code",
      "metadata": {
        "id": "560i8EJXAxpj"
      },
      "source": [
        "#Define standard parameter values\n",
        "batch_size = 16\n",
        "img_height = 500\n",
        "img_width = 500"
      ],
      "execution_count": 7,
      "outputs": []
    },
    {
      "cell_type": "code",
      "metadata": {
        "colab": {
          "base_uri": "https://localhost:8080/"
        },
        "id": "994c-qhCA5cG",
        "outputId": "b8a6386f-eb87-4f20-cf2f-a1255b8d5aae"
      },
      "source": [
        "# Create data generators\n",
        "# File path = path to train/test/val folders respectively\n",
        "# Using a target size of 500x500 px for each image (or whatever size you choose)\n",
        "# Batch size = total number of images in the train set, test set, val set respectively(can choose less as RAM will be consumed)\n",
        "# Ensure class_mode is binary(set it to “binary” if you’re only predicting 2 classes)\n",
        "#Using 1./255 rescales the image pixels to a scale of 0–1 because the RGB pixel scale for images is from 1–255\n",
        "\n",
        "# Create Image Data Generator for Train Set\n",
        "image_gen = ImageDataGenerator(\n",
        "                                   rescale = 1./255\n",
        "                                 #  shear_range = 0.2,\n",
        "                                 #  zoom_range = 0.2,\n",
        "                                 #  horizontal_flip = True,\n",
        "                              \n",
        "                               )  \n",
        "# Create Image Data Generator for Test/Validation Set\n",
        "test_data_gen = ImageDataGenerator(rescale = 1./255)\n",
        "\n",
        "\n",
        "#using flow from directory to read the images from folders containing images\n",
        "train = image_gen.flow_from_directory(\n",
        "    train_path,\n",
        "    target_size=(img_height, img_width),\n",
        "    color_mode='grayscale',\n",
        "    class_mode='binary',\n",
        "  #  batch_size=5216,\n",
        "    batch_size=batch_size\n",
        "                                      )\n",
        "\n",
        "test = test_data_gen.flow_from_directory(\n",
        "      test_path,\n",
        "      target_size=(img_height, img_width),\n",
        "      color_mode='grayscale',shuffle=False,\n",
        "      class_mode='binary',\n",
        "      batch_size=batch_size\n",
        "#      batch_size=624\n",
        "      )\n",
        "valid = test_data_gen.flow_from_directory(\n",
        "      valid_path,\n",
        "      target_size=(img_height, img_width),\n",
        "      color_mode='grayscale',\n",
        "      class_mode='binary', \n",
        "      batch_size=batch_size\n",
        "  #    batch_size=16\n",
        "      )"
      ],
      "execution_count": 8,
      "outputs": [
        {
          "output_type": "stream",
          "name": "stdout",
          "text": [
            "Found 5216 images belonging to 2 classes.\n",
            "Found 624 images belonging to 2 classes.\n",
            "Found 16 images belonging to 2 classes.\n"
          ]
        }
      ]
    },
    {
      "cell_type": "code",
      "metadata": {
        "id": "DZeb_tu3BkvD"
      },
      "source": [
        "# let's build the CNN model\n",
        "\n",
        "cnn = Sequential()\n",
        "#cnn.add(Conv2D(Filter value,(filter/kernel size e.g 3,3),activation='relu/sigmoid',input_shape=(width,height,channels)))\n",
        "cnn.add(Conv2D(16, (3, 3), activation=\"relu\", input_shape=(img_width, img_height, 1)))  \n",
        "#output=(width-kernelsize+stride, height-kernelsize+stride, no. of filters)\n",
        "cnn.add(MaxPooling2D(pool_size = (2, 2)))\n",
        "\n",
        "cnn.add(Conv2D(32, (3, 3), activation=\"relu\", input_shape=(img_width, img_height, 1)))\n",
        "cnn.add(MaxPooling2D(pool_size = (2, 2))) #, strides=None, padding=\"valid\"  (can be added or it's by default)\n",
        "\n",
        "cnn.add(Conv2D(32, (3, 3), activation=\"relu\", input_shape=(img_width, img_height, 1)))\n",
        "cnn.add(MaxPooling2D(pool_size = (2, 2)))\n",
        "\n",
        "cnn.add(Conv2D(64, (3, 3), activation=\"relu\", input_shape=(img_width, img_height, 1)))\n",
        "cnn.add(MaxPooling2D(pool_size = (2, 2)))\n",
        "\n",
        "cnn.add(Conv2D(64, (3, 3), activation=\"relu\", input_shape=(img_width, img_height, 1)))\n",
        "cnn.add(MaxPooling2D(pool_size = (2, 2)))\n",
        "\n",
        "cnn.add(Flatten())\n",
        "\n",
        "cnn.add(Dense(activation = 'relu', units = 128))    #outputs the input directly if it is positive, otherwise it outputs zero\n",
        "cnn.add(Dense(activation = 'relu', units = 64))\n",
        "cnn.add(Dense(activation = 'sigmoid', units = 1))\n",
        "\n",
        "cnn.compile(optimizer = 'adam', loss = 'binary_crossentropy', metrics = ['accuracy'])"
      ],
      "execution_count": 9,
      "outputs": []
    },
    {
      "cell_type": "code",
      "metadata": {
        "colab": {
          "base_uri": "https://localhost:8080/"
        },
        "id": "d6g0i3rtCPZ9",
        "outputId": "93b0e875-8499-4bf4-db87-235bf0f516d6"
      },
      "source": [
        "cnn.summary()"
      ],
      "execution_count": 10,
      "outputs": [
        {
          "output_type": "stream",
          "name": "stdout",
          "text": [
            "Model: \"sequential\"\n",
            "_________________________________________________________________\n",
            " Layer (type)                Output Shape              Param #   \n",
            "=================================================================\n",
            " conv2d (Conv2D)             (None, 498, 498, 16)      160       \n",
            "                                                                 \n",
            " max_pooling2d (MaxPooling2D  (None, 249, 249, 16)     0         \n",
            " )                                                               \n",
            "                                                                 \n",
            " conv2d_1 (Conv2D)           (None, 247, 247, 32)      4640      \n",
            "                                                                 \n",
            " max_pooling2d_1 (MaxPooling  (None, 123, 123, 32)     0         \n",
            " 2D)                                                             \n",
            "                                                                 \n",
            " conv2d_2 (Conv2D)           (None, 121, 121, 32)      9248      \n",
            "                                                                 \n",
            " max_pooling2d_2 (MaxPooling  (None, 60, 60, 32)       0         \n",
            " 2D)                                                             \n",
            "                                                                 \n",
            " conv2d_3 (Conv2D)           (None, 58, 58, 64)        18496     \n",
            "                                                                 \n",
            " max_pooling2d_3 (MaxPooling  (None, 29, 29, 64)       0         \n",
            " 2D)                                                             \n",
            "                                                                 \n",
            " conv2d_4 (Conv2D)           (None, 27, 27, 64)        36928     \n",
            "                                                                 \n",
            " max_pooling2d_4 (MaxPooling  (None, 13, 13, 64)       0         \n",
            " 2D)                                                             \n",
            "                                                                 \n",
            " flatten (Flatten)           (None, 10816)             0         \n",
            "                                                                 \n",
            " dense (Dense)               (None, 128)               1384576   \n",
            "                                                                 \n",
            " dense_1 (Dense)             (None, 64)                8256      \n",
            "                                                                 \n",
            " dense_2 (Dense)             (None, 1)                 65        \n",
            "                                                                 \n",
            "=================================================================\n",
            "Total params: 1,462,369\n",
            "Trainable params: 1,462,369\n",
            "Non-trainable params: 0\n",
            "_________________________________________________________________\n"
          ]
        }
      ]
    },
    {
      "cell_type": "code",
      "metadata": {
        "id": "-tISBJm8CSoW"
      },
      "source": [
        "#to stop the epochs based on some metric(monitor) and conditions (mode, patience)\n",
        "early = EarlyStopping(monitor=\"val_loss\", \n",
        "                      mode=\"min\", \n",
        "                      patience=3)\n",
        "#patience is number of epochs with no improvement\n",
        "#patience says that after a minimum val_loss is achieved then after that in next iterations if the val_loss increases in any the 3 iterations then the the training will stop at that epoch.\n",
        "\n",
        "\n",
        "#Reduce learning rate when a metric(monitor) has stopped improving.\n",
        "#(monitor,patience,factor(by which the learning rate will be reduced),min_lr(lower bound on the learning rate))\n",
        "learning_rate_reduction = ReduceLROnPlateau(monitor='val_loss', patience = 2, verbose=1,factor=0.3, min_lr=0.000001)\n",
        "\n",
        "callbacks_list = [ early, learning_rate_reduction]"
      ],
      "execution_count": 11,
      "outputs": []
    },
    {
      "cell_type": "code",
      "metadata": {
        "colab": {
          "base_uri": "https://localhost:8080/"
        },
        "id": "ImutmbZsCi5h",
        "outputId": "46586d78-c18e-4256-8a41-fbfa11ae3b42"
      },
      "source": [
        "#from sklearn.utils.class_weight import compute_class_weight\n",
        "weights = compute_class_weight( 'balanced',classes=np.unique(train.classes),y=train.classes)\n",
        "#weights = compute_class_weight('balanced', np.unique(train), train)\n",
        "cw = dict(zip( np.unique(train.classes), weights))\n",
        "print(cw)"
      ],
      "execution_count": 12,
      "outputs": [
        {
          "output_type": "stream",
          "name": "stdout",
          "text": [
            "{0: 1.9448173005219984, 1: 0.6730322580645162}\n"
          ]
        }
      ]
    },
    {
      "cell_type": "code",
      "metadata": {
        "colab": {
          "base_uri": "https://localhost:8080/"
        },
        "id": "wmKcLGoCCqB6",
        "outputId": "f05e371a-83dd-4c79-c3e1-52d85af31e74"
      },
      "source": [
        "#The parameters we are passing to model.fit are train set, epochs, validation set used to calculate val_loss and val_accuracy, class weights and callback list.\n",
        "cnn.fit(train,epochs=25, validation_data=valid, class_weight=cw, callbacks=callbacks_list)"
      ],
      "execution_count": 13,
      "outputs": [
        {
          "output_type": "stream",
          "name": "stdout",
          "text": [
            "Epoch 1/25\n",
            "326/326 [==============================] - 111s 242ms/step - loss: 0.3017 - accuracy: 0.8551 - val_loss: 0.3142 - val_accuracy: 0.8750 - lr: 0.0010\n",
            "Epoch 2/25\n",
            "326/326 [==============================] - 71s 217ms/step - loss: 0.1451 - accuracy: 0.9459 - val_loss: 0.1869 - val_accuracy: 0.9375 - lr: 0.0010\n",
            "Epoch 3/25\n",
            "326/326 [==============================] - 71s 217ms/step - loss: 0.1004 - accuracy: 0.9599 - val_loss: 0.0955 - val_accuracy: 1.0000 - lr: 0.0010\n",
            "Epoch 4/25\n",
            "326/326 [==============================] - 72s 219ms/step - loss: 0.0791 - accuracy: 0.9674 - val_loss: 0.5542 - val_accuracy: 0.8125 - lr: 0.0010\n",
            "Epoch 5/25\n",
            "326/326 [==============================] - ETA: 0s - loss: 0.0641 - accuracy: 0.9709\n",
            "Epoch 00005: ReduceLROnPlateau reducing learning rate to 0.0003000000142492354.\n",
            "326/326 [==============================] - 72s 221ms/step - loss: 0.0641 - accuracy: 0.9709 - val_loss: 0.1691 - val_accuracy: 0.9375 - lr: 0.0010\n",
            "Epoch 6/25\n",
            "326/326 [==============================] - 72s 220ms/step - loss: 0.0254 - accuracy: 0.9881 - val_loss: 0.1253 - val_accuracy: 0.9375 - lr: 3.0000e-04\n"
          ]
        },
        {
          "output_type": "execute_result",
          "data": {
            "text/plain": [
              "<keras.callbacks.History at 0x7fe862b90e90>"
            ]
          },
          "metadata": {},
          "execution_count": 13
        }
      ]
    },
    {
      "cell_type": "code",
      "metadata": {
        "id": "UeCW0VOvDCAi",
        "colab": {
          "base_uri": "https://localhost:8080/",
          "height": 282
        },
        "outputId": "e7911a7b-b0e0-419c-c7a5-6ee0a35d3ef9"
      },
      "source": [
        "#progress of all metrics throughout the total epochs lifetime\n",
        "pd.DataFrame(cnn.history.history).plot()"
      ],
      "execution_count": 14,
      "outputs": [
        {
          "output_type": "execute_result",
          "data": {
            "text/plain": [
              "<matplotlib.axes._subplots.AxesSubplot at 0x7fe861e87310>"
            ]
          },
          "metadata": {},
          "execution_count": 14
        },
        {
          "output_type": "display_data",
          "data": {
            "image/png": "[encoded data removed]",
            "text/plain": [
              "<Figure size 432x288 with 1 Axes>"
            ]
          },
          "metadata": {
            "needs_background": "light"
          }
        }
      ]
    },
    {
      "cell_type": "code",
      "metadata": {
        "id": "w26tQXjCDHdV",
        "colab": {
          "base_uri": "https://localhost:8080/"
        },
        "outputId": "30e4ad79-75a7-45bd-eec2-379c89a710e3"
      },
      "source": [
        "test_accu = cnn.evaluate(test)\n",
        "print('The testing accuracy is :',test_accu[1]*100, '%')"
      ],
      "execution_count": 15,
      "outputs": [
        {
          "output_type": "stream",
          "name": "stdout",
          "text": [
            "39/39 [==============================] - 7s 175ms/step - loss: 1.6903 - accuracy: 0.7548\n",
            "The testing accuracy is : 75.4807710647583 %\n"
          ]
        }
      ]
    },
    {
      "cell_type": "code",
      "metadata": {
        "id": "_5wJth3NDcC4",
        "colab": {
          "base_uri": "https://localhost:8080/"
        },
        "outputId": "8eb8cebf-e8d1-443a-ba7c-644c5f8e8604"
      },
      "source": [
        "#predict the test dataset and look at some of the performance measurement metrics\n",
        "preds = cnn.predict(test,verbose=1)\n",
        "\n",
        "#the activation function of the last layer is sigmoid, the model gives prediction in the 0 to 1 range and not an exact classification as 0 or 1. So we categorise all the values in the 0.5 to 1 range as 0 and less than 0.5 as 1\n",
        "predictions = preds.copy()\n",
        "predictions[predictions <= 0.5] = 0\n",
        "predictions[predictions > 0.5] = 1"
      ],
      "execution_count": 16,
      "outputs": [
        {
          "output_type": "stream",
          "name": "stdout",
          "text": [
            "39/39 [==============================] - 7s 168ms/step\n"
          ]
        }
      ]
    },
    {
      "cell_type": "code",
      "metadata": {
        "id": "k9EcIpZIDiHw",
        "colab": {
          "base_uri": "https://localhost:8080/",
          "height": 282
        },
        "outputId": "939fb1bd-e62b-4565-ada1-88d8addcc914"
      },
      "source": [
        "cm = pd.DataFrame(data=confusion_matrix(test.classes, predictions, labels=[0, 1]),\n",
        "                  index=[\"Actual Normal\", \"Actual Pneumonia\"],\n",
        "                  columns=[\"Predicted Normal\", \"Predicted Pneumonia\"])\n",
        "import seaborn as sns\n",
        "sns.heatmap(cm,annot=True,fmt=\"d\")"
      ],
      "execution_count": 17,
      "outputs": [
        {
          "output_type": "execute_result",
          "data": {
            "text/plain": [
              "<matplotlib.axes._subplots.AxesSubplot at 0x7fe8618bcd50>"
            ]
          },
          "metadata": {},
          "execution_count": 17
        },
        {
          "output_type": "display_data",
          "data": {
            "image/png": "[encoded data removed]",
            "text/plain": [
              "<Figure size 432x288 with 2 Axes>"
            ]
          },
          "metadata": {
            "needs_background": "light"
          }
        }
      ]
    },
    {
      "cell_type": "code",
      "metadata": {
        "id": "jzwMbjUDLLcC",
        "colab": {
          "base_uri": "https://localhost:8080/"
        },
        "outputId": "d20ca13e-35bf-4440-fcd0-c079a8f1117b"
      },
      "source": [
        "print(classification_report(y_true=test.classes,y_pred=predictions,target_names =['NORMAL','PNEUMONIA']))"
      ],
      "execution_count": 18,
      "outputs": [
        {
          "output_type": "stream",
          "name": "stdout",
          "text": [
            "              precision    recall  f1-score   support\n",
            "\n",
            "      NORMAL       0.99      0.35      0.52       234\n",
            "   PNEUMONIA       0.72      1.00      0.84       390\n",
            "\n",
            "    accuracy                           0.75       624\n",
            "   macro avg       0.85      0.67      0.68       624\n",
            "weighted avg       0.82      0.75      0.72       624\n",
            "\n"
          ]
        }
      ]
    }
  ]
}