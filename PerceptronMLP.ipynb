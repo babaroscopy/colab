{
  "nbformat": 4,
  "nbformat_minor": 0,
  "metadata": {
    "colab": {
      "name": "PerceptronMLP.ipynb",
      "provenance": [],
      "collapsed_sections": [],
      "include_colab_link": true
    },
    "kernelspec": {
      "name": "python3",
      "display_name": "Python 3"
    },
    "language_info": {
      "name": "python"
    }
  },
  "cells": [
    {
      "cell_type": "markdown",
      "metadata": {
        "id": "view-in-github",
        "colab_type": "text"
      },
      "source": [
        "<a href=\"https://colab.research.google.com/github/babaroscopy/colab/blob/main/PerceptronMLP.ipynb\" target=\"_parent\"><img src=\"https://colab.research.google.com/assets/colab-badge.svg\" alt=\"Open In Colab\"/></a>"
      ]
    },
    {
      "cell_type": "code",
      "metadata": {
        "id": "jfoRfHAQrcDJ"
      },
      "source": [
        "import numpy as np\n",
        "import tensorflow as tf\n",
        "from tensorflow import keras\n",
        "from tensorflow.keras import layers\n",
        "from tensorflow.keras.models import Sequential\n",
        "from tensorflow.keras.layers import Dense\n",
        "from tensorflow.keras.layers import Input\n",
        "from tensorflow.keras.optimizers import SGD\n",
        "from tensorflow.keras.callbacks import EarlyStopping\n",
        "import matplotlib.pyplot as plt\n",
        "# Custom activation function\n",
        "#from keras.layers import Activation\n",
        "#from keras.utils.generic_utils import get_custom_objects"
      ],
      "execution_count": null,
      "outputs": []
    },
    {
      "cell_type": "code",
      "metadata": {
        "id": "x3Bg-esr-qRa"
      },
      "source": [
        "@tf.function\n",
        "def stepy(x): # user-defined step function, note: not working in sgd bcz of derivative not exist. It needs custom optimizer\n",
        "    if x > 0.0:\n",
        "        return 1.0\n",
        "    else:\n",
        "        return 0.0"
      ],
      "execution_count": null,
      "outputs": []
    },
    {
      "cell_type": "code",
      "metadata": {
        "id": "x5MYXeeTr11G"
      },
      "source": [
        "#Prepare dataset\n",
        "#dataset=np.random.randint(1,5,[10,3],dtype=np.int32)\n",
        "#dataset=np.random.rand(10,3)\n",
        "x_train=np.array([[0, 0],[0, 1],[1, 0],[1, 1]])\n",
        "y_train=np.array([0, 1, 1, 1])\n",
        "x_test=np.array([[0, 0],[0, 1],[1, 0],[1, 1]])\n",
        "y_test=np.array([0, 1, 1, 1])\n",
        "\n",
        "# x_train=np.array([[0, 0],[0, 1],[1, 0],[1, 1]])\n",
        "# y_train=np.array([0, 1, 1, 0])\n",
        "# x_test=np.array([[0, 0],[0, 1],[1, 0],[1, 1]])\n",
        "# y_test=np.array([0, 1, 1, 0])\n"
      ],
      "execution_count": null,
      "outputs": []
    },
    {
      "cell_type": "code",
      "metadata": {
        "id": "0QAwbGecnUJR"
      },
      "source": [
        "#####Delta rule (gradient descent) implementation with a single layer output neuron"
      ],
      "execution_count": null,
      "outputs": []
    },
    {
      "cell_type": "code",
      "metadata": {
        "id": "-84j9njNtzps"
      },
      "source": [
        "#Model construction (model type, inputs, layers, weight initialization, activation function)\n",
        "#Layers types(dense, dropout, merge)\n",
        "#Weight init(uniform(0-0.05), normal(0,0.05), zero)\n",
        "#Activation (linear(default), relu, sigmoid, tanh, softmax)\n",
        "\n",
        "model_delta = Sequential()\n",
        "model_delta.add(Input(shape=(2,)))\n",
        "model_delta.add(Dense(1, activation='linear', kernel_initializer='random_uniform', bias_initializer='zero'))\n",
        "#model_delta.add(Dense(1, input_dim=3, activation='linear', kernel_initializer='random_uniform', bias_initializer='zero'))"
      ],
      "execution_count": null,
      "outputs": []
    },
    {
      "cell_type": "code",
      "metadata": {
        "id": "wac04OCguwbW"
      },
      "source": [
        "#Model compilation (optimizer, loss funciton, metrics(performance))\n",
        "#optimizer(sgd, RMSprop, Adam), loss(mse,binary_crossentropy,categorical_crossentropy),metrics(accuracy)\n",
        "model_delta.compile(optimizer='sgd', loss='mse', metrics='accuracy')"
      ],
      "execution_count": null,
      "outputs": []
    },
    {
      "cell_type": "code",
      "metadata": {
        "id": "7od6ptKlwQBD",
        "colab": {
          "base_uri": "https://localhost:8080/"
        },
        "outputId": "6bd35929-c790-4dcf-8bf3-cf47fc507f3b"
      },
      "source": [
        "#Model training\n",
        "\n",
        "model_delta.fit(x_train, y_train, epochs=10, batch_size=1)"
      ],
      "execution_count": null,
      "outputs": [
        {
          "output_type": "stream",
          "name": "stdout",
          "text": [
            "Epoch 1/10\n",
            "4/4 [==============================] - 0s 3ms/step - loss: 0.7440 - accuracy: 0.2500\n",
            "Epoch 2/10\n",
            "4/4 [==============================] - 0s 2ms/step - loss: 0.5928 - accuracy: 0.2500\n",
            "Epoch 3/10\n",
            "4/4 [==============================] - 0s 4ms/step - loss: 0.4771 - accuracy: 0.2500\n",
            "Epoch 4/10\n",
            "4/4 [==============================] - 0s 3ms/step - loss: 0.3875 - accuracy: 0.2500\n",
            "Epoch 5/10\n",
            "4/4 [==============================] - 0s 3ms/step - loss: 0.3183 - accuracy: 0.2500\n",
            "Epoch 6/10\n",
            "4/4 [==============================] - 0s 3ms/step - loss: 0.2649 - accuracy: 0.5000\n",
            "Epoch 7/10\n",
            "4/4 [==============================] - 0s 2ms/step - loss: 0.2234 - accuracy: 0.5000\n",
            "Epoch 8/10\n",
            "4/4 [==============================] - 0s 2ms/step - loss: 0.1914 - accuracy: 0.5000\n",
            "Epoch 9/10\n",
            "4/4 [==============================] - 0s 2ms/step - loss: 0.1665 - accuracy: 0.7500\n",
            "Epoch 10/10\n",
            "4/4 [==============================] - 0s 3ms/step - loss: 0.1472 - accuracy: 1.0000\n"
          ]
        },
        {
          "output_type": "execute_result",
          "data": {
            "text/plain": [
              "<keras.callbacks.History at 0x7f199ee43190>"
            ]
          },
          "metadata": {},
          "execution_count": 7
        }
      ]
    },
    {
      "cell_type": "code",
      "metadata": {
        "id": "R-6l8DgBwXZ0",
        "colab": {
          "base_uri": "https://localhost:8080/"
        },
        "outputId": "8924f7a1-c0a7-4caf-e0f5-67b64217b356"
      },
      "source": [
        "#Model evaluation and prediction\n",
        "#model.evaluate(),model.predict(),model.predict_classes(),model.predict_proba()\n",
        "\n",
        "loss, accuracy = model_delta.evaluate(x_test, y_test)\n",
        "print('Accuracy: %.2f' % (accuracy*100))\n",
        "\n",
        "predictions = model_delta.predict(x_test)\n",
        "rounded = [round(x[0]) for x in predictions]\n",
        "predictions, rounded"
      ],
      "execution_count": null,
      "outputs": [
        {
          "output_type": "stream",
          "name": "stdout",
          "text": [
            "1/1 [==============================] - 0s 213ms/step - loss: 0.1339 - accuracy: 1.0000\n",
            "Accuracy: 100.00\n"
          ]
        },
        {
          "output_type": "execute_result",
          "data": {
            "text/plain": [
              "(array([[0.34060207],\n",
              "        [0.57359654],\n",
              "        [0.55904067],\n",
              "        [0.7920351 ]], dtype=float32), [0, 1, 1, 1])"
            ]
          },
          "metadata": {},
          "execution_count": 8
        }
      ]
    },
    {
      "cell_type": "code",
      "metadata": {
        "id": "8zlapoRouz1H",
        "colab": {
          "base_uri": "https://localhost:8080/"
        },
        "outputId": "831be6ff-2f02-444e-b609-be0f1931a97e"
      },
      "source": [
        "#Model summary\n",
        "#model.summary(),model.get_config(),\n",
        "\n",
        "model_delta.summary()\n",
        "model_delta.get_config()\n",
        "model_delta.get_weights()"
      ],
      "execution_count": null,
      "outputs": [
        {
          "output_type": "stream",
          "name": "stdout",
          "text": [
            "Model: \"sequential\"\n",
            "_________________________________________________________________\n",
            "Layer (type)                 Output Shape              Param #   \n",
            "=================================================================\n",
            "dense (Dense)                (None, 1)                 3         \n",
            "=================================================================\n",
            "Total params: 3\n",
            "Trainable params: 3\n",
            "Non-trainable params: 0\n",
            "_________________________________________________________________\n"
          ]
        },
        {
          "output_type": "execute_result",
          "data": {
            "text/plain": [
              "[array([[0.21843857],\n",
              "        [0.23299447]], dtype=float32), array([0.34060207], dtype=float32)]"
            ]
          },
          "metadata": {},
          "execution_count": 9
        }
      ]
    },
    {
      "cell_type": "code",
      "metadata": {
        "id": "4l5hzp9Z6qqa",
        "colab": {
          "base_uri": "https://localhost:8080/"
        },
        "outputId": "847b596f-3737-4250-abd0-431555cf0601"
      },
      "source": [
        "########## MLP Backporpagation\n",
        "x2_train=np.random.rand(10,3)\n",
        "y2_train=np.array([0, 1, 1, 0, 1, 0, 1, 1, 0, 1])\n",
        "x2_test=np.random.rand(5,3)\n",
        "y2_test=np.array([1, 1, 1, 0, 1]),\n",
        "\n",
        "model_mlp = Sequential([\n",
        "        Dense(units=2, input_shape=(3,), activation='sigmoid', kernel_initializer='random_uniform', bias_initializer='random_uniform'),\n",
        "        Dense(units=1, activation='sigmoid', kernel_initializer='random_uniform', bias_initializer='random_uniform')\n",
        "])\n",
        "            \n",
        "opt = keras.optimizers.SGD(learning_rate=0.1)\n",
        "model_mlp.compile(optimizer=opt, loss='mse', metrics='accuracy')\n",
        "history = model_mlp.fit(x2_train, y2_train, batch_size=1, epochs=100)\n",
        "# es = EarlyStopping(monitor='accuracy', mode='max', min_delta=1) #Early stopping criteria (Accuracy 100%)\n",
        "# history = model_mlp.fit(x2_train, y2_train, batch_size=1, epochs=100, verbose=2, callbacks=[es])"
      ],
      "execution_count": null,
      "outputs": [
        {
          "output_type": "stream",
          "name": "stdout",
          "text": [
            "Epoch 1/100\n",
            "10/10 [==============================] - 0s 2ms/step - loss: 0.2534 - accuracy: 0.4000\n",
            "Epoch 2/100\n",
            "10/10 [==============================] - 0s 2ms/step - loss: 0.2506 - accuracy: 0.6000\n",
            "Epoch 3/100\n",
            "10/10 [==============================] - 0s 2ms/step - loss: 0.2485 - accuracy: 0.6000\n",
            "Epoch 4/100\n",
            "10/10 [==============================] - 0s 2ms/step - loss: 0.2472 - accuracy: 0.6000\n",
            "Epoch 5/100\n",
            "10/10 [==============================] - 0s 2ms/step - loss: 0.2464 - accuracy: 0.6000\n",
            "Epoch 6/100\n",
            "10/10 [==============================] - 0s 2ms/step - loss: 0.2457 - accuracy: 0.6000\n",
            "Epoch 7/100\n",
            "10/10 [==============================] - 0s 2ms/step - loss: 0.2453 - accuracy: 0.6000\n",
            "Epoch 8/100\n",
            "10/10 [==============================] - 0s 2ms/step - loss: 0.2447 - accuracy: 0.6000\n",
            "Epoch 9/100\n",
            "10/10 [==============================] - 0s 2ms/step - loss: 0.2447 - accuracy: 0.6000\n",
            "Epoch 10/100\n",
            "10/10 [==============================] - 0s 1ms/step - loss: 0.2445 - accuracy: 0.6000\n",
            "Epoch 11/100\n",
            "10/10 [==============================] - 0s 1ms/step - loss: 0.2443 - accuracy: 0.6000\n",
            "Epoch 12/100\n",
            "10/10 [==============================] - 0s 1ms/step - loss: 0.2443 - accuracy: 0.6000\n",
            "Epoch 13/100\n",
            "10/10 [==============================] - 0s 2ms/step - loss: 0.2442 - accuracy: 0.6000\n",
            "Epoch 14/100\n",
            "10/10 [==============================] - 0s 2ms/step - loss: 0.2442 - accuracy: 0.6000\n",
            "Epoch 15/100\n",
            "10/10 [==============================] - 0s 2ms/step - loss: 0.2442 - accuracy: 0.6000\n",
            "Epoch 16/100\n",
            "10/10 [==============================] - 0s 2ms/step - loss: 0.2440 - accuracy: 0.6000\n",
            "Epoch 17/100\n",
            "10/10 [==============================] - 0s 2ms/step - loss: 0.2441 - accuracy: 0.6000\n",
            "Epoch 18/100\n",
            "10/10 [==============================] - 0s 2ms/step - loss: 0.2441 - accuracy: 0.6000\n",
            "Epoch 19/100\n",
            "10/10 [==============================] - 0s 2ms/step - loss: 0.2441 - accuracy: 0.6000\n",
            "Epoch 20/100\n",
            "10/10 [==============================] - 0s 2ms/step - loss: 0.2441 - accuracy: 0.6000\n",
            "Epoch 21/100\n",
            "10/10 [==============================] - 0s 2ms/step - loss: 0.2440 - accuracy: 0.6000\n",
            "Epoch 22/100\n",
            "10/10 [==============================] - 0s 2ms/step - loss: 0.2441 - accuracy: 0.6000\n",
            "Epoch 23/100\n",
            "10/10 [==============================] - 0s 2ms/step - loss: 0.2441 - accuracy: 0.6000\n",
            "Epoch 24/100\n",
            "10/10 [==============================] - 0s 2ms/step - loss: 0.2441 - accuracy: 0.6000\n",
            "Epoch 25/100\n",
            "10/10 [==============================] - 0s 2ms/step - loss: 0.2439 - accuracy: 0.6000\n",
            "Epoch 26/100\n",
            "10/10 [==============================] - 0s 2ms/step - loss: 0.2441 - accuracy: 0.6000\n",
            "Epoch 27/100\n",
            "10/10 [==============================] - 0s 2ms/step - loss: 0.2439 - accuracy: 0.6000\n",
            "Epoch 28/100\n",
            "10/10 [==============================] - 0s 2ms/step - loss: 0.2441 - accuracy: 0.6000\n",
            "Epoch 29/100\n",
            "10/10 [==============================] - 0s 1ms/step - loss: 0.2441 - accuracy: 0.6000\n",
            "Epoch 30/100\n",
            "10/10 [==============================] - 0s 2ms/step - loss: 0.2441 - accuracy: 0.6000\n",
            "Epoch 31/100\n",
            "10/10 [==============================] - 0s 1ms/step - loss: 0.2440 - accuracy: 0.6000\n",
            "Epoch 32/100\n",
            "10/10 [==============================] - 0s 1ms/step - loss: 0.2441 - accuracy: 0.6000\n",
            "Epoch 33/100\n",
            "10/10 [==============================] - 0s 1ms/step - loss: 0.2441 - accuracy: 0.6000\n",
            "Epoch 34/100\n",
            "10/10 [==============================] - 0s 1ms/step - loss: 0.2438 - accuracy: 0.6000\n",
            "Epoch 35/100\n",
            "10/10 [==============================] - 0s 2ms/step - loss: 0.2440 - accuracy: 0.6000\n",
            "Epoch 36/100\n",
            "10/10 [==============================] - 0s 2ms/step - loss: 0.2441 - accuracy: 0.6000\n",
            "Epoch 37/100\n",
            "10/10 [==============================] - 0s 2ms/step - loss: 0.2441 - accuracy: 0.6000\n",
            "Epoch 38/100\n",
            "10/10 [==============================] - 0s 2ms/step - loss: 0.2441 - accuracy: 0.6000\n",
            "Epoch 39/100\n",
            "10/10 [==============================] - 0s 2ms/step - loss: 0.2442 - accuracy: 0.6000\n",
            "Epoch 40/100\n",
            "10/10 [==============================] - 0s 2ms/step - loss: 0.2441 - accuracy: 0.6000\n",
            "Epoch 41/100\n",
            "10/10 [==============================] - 0s 2ms/step - loss: 0.2439 - accuracy: 0.6000\n",
            "Epoch 42/100\n",
            "10/10 [==============================] - 0s 2ms/step - loss: 0.2441 - accuracy: 0.6000\n",
            "Epoch 43/100\n",
            "10/10 [==============================] - 0s 2ms/step - loss: 0.2439 - accuracy: 0.6000\n",
            "Epoch 44/100\n",
            "10/10 [==============================] - 0s 2ms/step - loss: 0.2441 - accuracy: 0.6000\n",
            "Epoch 45/100\n",
            "10/10 [==============================] - 0s 2ms/step - loss: 0.2441 - accuracy: 0.6000\n",
            "Epoch 46/100\n",
            "10/10 [==============================] - 0s 3ms/step - loss: 0.2440 - accuracy: 0.6000\n",
            "Epoch 47/100\n",
            "10/10 [==============================] - 0s 2ms/step - loss: 0.2441 - accuracy: 0.6000\n",
            "Epoch 48/100\n",
            "10/10 [==============================] - 0s 2ms/step - loss: 0.2438 - accuracy: 0.6000\n",
            "Epoch 49/100\n",
            "10/10 [==============================] - 0s 3ms/step - loss: 0.2440 - accuracy: 0.6000\n",
            "Epoch 50/100\n",
            "10/10 [==============================] - 0s 2ms/step - loss: 0.2441 - accuracy: 0.6000\n",
            "Epoch 51/100\n",
            "10/10 [==============================] - 0s 2ms/step - loss: 0.2439 - accuracy: 0.6000\n",
            "Epoch 52/100\n",
            "10/10 [==============================] - 0s 2ms/step - loss: 0.2441 - accuracy: 0.6000\n",
            "Epoch 53/100\n",
            "10/10 [==============================] - 0s 2ms/step - loss: 0.2441 - accuracy: 0.6000\n",
            "Epoch 54/100\n",
            "10/10 [==============================] - 0s 2ms/step - loss: 0.2441 - accuracy: 0.6000\n",
            "Epoch 55/100\n",
            "10/10 [==============================] - 0s 2ms/step - loss: 0.2439 - accuracy: 0.6000\n",
            "Epoch 56/100\n",
            "10/10 [==============================] - 0s 1ms/step - loss: 0.2440 - accuracy: 0.6000\n",
            "Epoch 57/100\n",
            "10/10 [==============================] - 0s 2ms/step - loss: 0.2438 - accuracy: 0.6000\n",
            "Epoch 58/100\n",
            "10/10 [==============================] - 0s 1ms/step - loss: 0.2441 - accuracy: 0.6000\n",
            "Epoch 59/100\n",
            "10/10 [==============================] - 0s 2ms/step - loss: 0.2438 - accuracy: 0.6000\n",
            "Epoch 60/100\n",
            "10/10 [==============================] - 0s 2ms/step - loss: 0.2441 - accuracy: 0.6000\n",
            "Epoch 61/100\n",
            "10/10 [==============================] - 0s 3ms/step - loss: 0.2440 - accuracy: 0.6000\n",
            "Epoch 62/100\n",
            "10/10 [==============================] - 0s 2ms/step - loss: 0.2438 - accuracy: 0.6000\n",
            "Epoch 63/100\n",
            "10/10 [==============================] - 0s 2ms/step - loss: 0.2440 - accuracy: 0.6000\n",
            "Epoch 64/100\n",
            "10/10 [==============================] - 0s 2ms/step - loss: 0.2440 - accuracy: 0.6000\n",
            "Epoch 65/100\n",
            "10/10 [==============================] - 0s 1ms/step - loss: 0.2440 - accuracy: 0.6000\n",
            "Epoch 66/100\n",
            "10/10 [==============================] - 0s 2ms/step - loss: 0.2441 - accuracy: 0.6000\n",
            "Epoch 67/100\n",
            "10/10 [==============================] - 0s 1ms/step - loss: 0.2439 - accuracy: 0.6000\n",
            "Epoch 68/100\n",
            "10/10 [==============================] - 0s 1ms/step - loss: 0.2441 - accuracy: 0.6000\n",
            "Epoch 69/100\n",
            "10/10 [==============================] - 0s 2ms/step - loss: 0.2440 - accuracy: 0.6000\n",
            "Epoch 70/100\n",
            "10/10 [==============================] - 0s 2ms/step - loss: 0.2439 - accuracy: 0.6000\n",
            "Epoch 71/100\n",
            "10/10 [==============================] - 0s 2ms/step - loss: 0.2440 - accuracy: 0.6000\n",
            "Epoch 72/100\n",
            "10/10 [==============================] - 0s 2ms/step - loss: 0.2441 - accuracy: 0.6000\n",
            "Epoch 73/100\n",
            "10/10 [==============================] - 0s 1ms/step - loss: 0.2441 - accuracy: 0.6000\n",
            "Epoch 74/100\n",
            "10/10 [==============================] - 0s 2ms/step - loss: 0.2441 - accuracy: 0.6000\n",
            "Epoch 75/100\n",
            "10/10 [==============================] - 0s 2ms/step - loss: 0.2441 - accuracy: 0.6000\n",
            "Epoch 76/100\n",
            "10/10 [==============================] - 0s 1ms/step - loss: 0.2440 - accuracy: 0.6000\n",
            "Epoch 77/100\n",
            "10/10 [==============================] - 0s 2ms/step - loss: 0.2441 - accuracy: 0.6000\n",
            "Epoch 78/100\n",
            "10/10 [==============================] - 0s 1ms/step - loss: 0.2440 - accuracy: 0.6000\n",
            "Epoch 79/100\n",
            "10/10 [==============================] - 0s 1ms/step - loss: 0.2436 - accuracy: 0.6000\n",
            "Epoch 80/100\n",
            "10/10 [==============================] - 0s 1ms/step - loss: 0.2440 - accuracy: 0.6000\n",
            "Epoch 81/100\n",
            "10/10 [==============================] - 0s 1ms/step - loss: 0.2440 - accuracy: 0.6000\n",
            "Epoch 82/100\n",
            "10/10 [==============================] - 0s 2ms/step - loss: 0.2440 - accuracy: 0.6000\n",
            "Epoch 83/100\n",
            "10/10 [==============================] - 0s 1ms/step - loss: 0.2440 - accuracy: 0.6000\n",
            "Epoch 84/100\n",
            "10/10 [==============================] - 0s 1ms/step - loss: 0.2438 - accuracy: 0.6000\n",
            "Epoch 85/100\n",
            "10/10 [==============================] - 0s 1ms/step - loss: 0.2437 - accuracy: 0.6000\n",
            "Epoch 86/100\n",
            "10/10 [==============================] - 0s 2ms/step - loss: 0.2440 - accuracy: 0.6000\n",
            "Epoch 87/100\n",
            "10/10 [==============================] - 0s 2ms/step - loss: 0.2440 - accuracy: 0.6000\n",
            "Epoch 88/100\n",
            "10/10 [==============================] - 0s 1ms/step - loss: 0.2440 - accuracy: 0.6000\n",
            "Epoch 89/100\n",
            "10/10 [==============================] - 0s 2ms/step - loss: 0.2441 - accuracy: 0.6000\n",
            "Epoch 90/100\n",
            "10/10 [==============================] - 0s 2ms/step - loss: 0.2440 - accuracy: 0.6000\n",
            "Epoch 91/100\n",
            "10/10 [==============================] - 0s 2ms/step - loss: 0.2440 - accuracy: 0.6000\n",
            "Epoch 92/100\n",
            "10/10 [==============================] - 0s 2ms/step - loss: 0.2441 - accuracy: 0.6000\n",
            "Epoch 93/100\n",
            "10/10 [==============================] - 0s 1ms/step - loss: 0.2440 - accuracy: 0.6000\n",
            "Epoch 94/100\n",
            "10/10 [==============================] - 0s 2ms/step - loss: 0.2440 - accuracy: 0.6000\n",
            "Epoch 95/100\n",
            "10/10 [==============================] - 0s 2ms/step - loss: 0.2440 - accuracy: 0.6000\n",
            "Epoch 96/100\n",
            "10/10 [==============================] - 0s 2ms/step - loss: 0.2438 - accuracy: 0.6000\n",
            "Epoch 97/100\n",
            "10/10 [==============================] - 0s 1ms/step - loss: 0.2440 - accuracy: 0.6000\n",
            "Epoch 98/100\n",
            "10/10 [==============================] - 0s 2ms/step - loss: 0.2436 - accuracy: 0.6000\n",
            "Epoch 99/100\n",
            "10/10 [==============================] - 0s 2ms/step - loss: 0.2440 - accuracy: 0.6000\n",
            "Epoch 100/100\n",
            "10/10 [==============================] - 0s 2ms/step - loss: 0.2439 - accuracy: 0.6000\n"
          ]
        }
      ]
    },
    {
      "cell_type": "code",
      "metadata": {
        "id": "xFEmMtDTLOck",
        "colab": {
          "base_uri": "https://localhost:8080/",
          "height": 312
        },
        "outputId": "ec8bc98a-3ae6-4f0c-ec3e-5b79bc236bb5"
      },
      "source": [
        "# list all data in history\n",
        "print(history.history.keys())\n",
        "# summarize history for accuracy\n",
        "plt.plot(history.history['accuracy'])\n",
        "#plt.plot(history.history['val_accuracy'])\n",
        "plt.title('model accuracy')\n",
        "plt.ylabel('accuracy')\n",
        "plt.xlabel('epoch')\n",
        "# plt.legend(['train', 'test'], loc='upper left')\n",
        "plt.legend(['train'], loc='upper left')\n",
        "plt.show()"
      ],
      "execution_count": null,
      "outputs": [
        {
          "output_type": "stream",
          "name": "stdout",
          "text": [
            "dict_keys(['loss', 'accuracy'])\n"
          ]
        },
        {
          "output_type": "display_data",
          "data": {
            "image/png": "[encoded data removed]",
            "text/plain": [
              "<Figure size 432x288 with 1 Axes>"
            ]
          },
          "metadata": {
            "needs_background": "light"
          }
        }
      ]
    },
    {
      "cell_type": "code",
      "metadata": {
        "id": "40X21DeX8ETE",
        "colab": {
          "base_uri": "https://localhost:8080/"
        },
        "outputId": "b127eb5b-16f9-43b6-974e-b41dfec4f59d"
      },
      "source": [
        "loss, accuracy = model_mlp.evaluate(x2_test, y2_test)\n",
        "print('Accuracy: %.2f' % (accuracy*100))\n",
        "\n",
        "predictions = model_mlp.predict(x2_test)\n",
        "rounded = [round(x[0]) for x in predictions]\n",
        "predictions, rounded"
      ],
      "execution_count": null,
      "outputs": [
        {
          "output_type": "stream",
          "name": "stdout",
          "text": [
            "1/1 [==============================] - 0s 120ms/step - loss: 0.1992 - accuracy: 0.8000\n",
            "Accuracy: 80.00\n"
          ]
        },
        {
          "output_type": "execute_result",
          "data": {
            "text/plain": [
              "(array([[0.60214764],\n",
              "        [0.6014253 ],\n",
              "        [0.60218716],\n",
              "        [0.6017938 ],\n",
              "        [0.60225546]], dtype=float32), [1, 1, 1, 1, 1])"
            ]
          },
          "metadata": {},
          "execution_count": 12
        }
      ]
    }
  ]
}