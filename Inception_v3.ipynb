{
  "nbformat": 4,
  "nbformat_minor": 0,
  "metadata": {
    "accelerator": "GPU",
    "colab": {
      "name": "Inception_v3.ipynb",
      "provenance": [],
      "collapsed_sections": [],
      "authorship_tag": "ABX9TyPaR3KTW9erGxgAcFVKELuf",
      "include_colab_link": true
    },
    "kernelspec": {
      "display_name": "Python 3",
      "name": "python3"
    },
    "language_info": {
      "name": "python"
    }
  },
  "cells": [
    {
      "cell_type": "markdown",
      "metadata": {
        "id": "view-in-github",
        "colab_type": "text"
      },
      "source": [
        "<a href=\"https://colab.research.google.com/github/babaroscopy/colab/blob/main/Inception_v3.ipynb\" target=\"_parent\"><img src=\"https://colab.research.google.com/assets/colab-badge.svg\" alt=\"Open In Colab\"/></a>"
      ]
    },
    {
      "cell_type": "code",
      "metadata": {
        "colab": {
          "base_uri": "https://localhost:8080/"
        },
        "id": "LOmBnKsMNhRO",
        "outputId": "4d64c97e-22b2-4992-a9a6-bc10c83a35b9"
      },
      "source": [
        "!git clone https://github.com/Rohit-Kundu/Ensemble-Pneumonia-Detection.git"
      ],
      "execution_count": 1,
      "outputs": [
        {
          "output_type": "stream",
          "name": "stdout",
          "text": [
            "Cloning into 'Ensemble-Pneumonia-Detection'...\n",
            "remote: Enumerating objects: 85, done.\u001b[K\n",
            "remote: Counting objects: 100% (85/85), done.\u001b[K\n",
            "remote: Compressing objects: 100% (84/84), done.\u001b[K\n",
            "remote: Total 85 (delta 50), reused 0 (delta 0), pack-reused 0\u001b[K\n",
            "Unpacking objects: 100% (85/85), done.\n"
          ]
        }
      ]
    },
    {
      "cell_type": "code",
      "metadata": {
        "colab": {
          "base_uri": "https://localhost:8080/"
        },
        "id": "NrO2Hp4FNsVq",
        "outputId": "cec11855-40ce-487c-826e-a3cbeb557d4b"
      },
      "source": [
        "!pip install -r Ensemble-Pneumonia-Detection/requirements.txt"
      ],
      "execution_count": 2,
      "outputs": [
        {
          "output_type": "stream",
          "name": "stdout",
          "text": [
            "Requirement already satisfied: pandas==1.1.5 in /usr/local/lib/python3.7/dist-packages (from -r Ensemble-Pneumonia-Detection/requirements.txt (line 1)) (1.1.5)\n",
            "\u001b[31mERROR: Could not find a version that satisfies the requirement torch==1.9.0+cu102 (from versions: 0.4.1, 0.4.1.post2, 1.0.0, 1.0.1, 1.0.1.post2, 1.1.0, 1.2.0, 1.3.0, 1.3.1, 1.4.0, 1.5.0, 1.5.1, 1.6.0, 1.7.0, 1.7.1, 1.8.0, 1.8.1, 1.9.0, 1.9.1, 1.10.0, 1.10.1)\u001b[0m\n",
            "\u001b[31mERROR: No matching distribution found for torch==1.9.0+cu102\u001b[0m\n"
          ]
        }
      ]
    },
    {
      "cell_type": "code",
      "metadata": {
        "id": "p_l69uPnNxUw"
      },
      "source": [
        "from google.colab import files"
      ],
      "execution_count": 3,
      "outputs": []
    },
    {
      "cell_type": "code",
      "metadata": {
        "colab": {
          "base_uri": "https://localhost:8080/"
        },
        "id": "3iKlAsdhWU42",
        "outputId": "ec0cbd12-57d5-43f4-9c0b-67d59f2a4fd4"
      },
      "source": [
        "from google.colab import drive\n",
        "drive.mount('/content/gdrive')"
      ],
      "execution_count": 4,
      "outputs": [
        {
          "output_type": "stream",
          "name": "stdout",
          "text": [
            "Mounted at /content/gdrive\n"
          ]
        }
      ]
    },
    {
      "cell_type": "code",
      "metadata": {
        "id": "xYWBkp4SWiYV"
      },
      "source": [
        "import os\n",
        "os.environ['KAGGLE_CONFIG_DIR'] = \"/content/gdrive/My Drive/Kaggle\""
      ],
      "execution_count": 5,
      "outputs": []
    },
    {
      "cell_type": "code",
      "metadata": {
        "colab": {
          "base_uri": "https://localhost:8080/"
        },
        "id": "PTKHkaiPWo7C",
        "outputId": "203c6361-e600-4b98-fd06-0506ee971b3d"
      },
      "source": [
        "#changing the working directory\n",
        "%cd /content/gdrive/My Drive/Kaggle"
      ],
      "execution_count": 6,
      "outputs": [
        {
          "output_type": "stream",
          "name": "stdout",
          "text": [
            "/content/gdrive/My Drive/Kaggle\n"
          ]
        }
      ]
    },
    {
      "cell_type": "code",
      "metadata": {
        "colab": {
          "base_uri": "https://localhost:8080/"
        },
        "id": "K8PlYpweWunx",
        "outputId": "85db3b35-70c5-4981-e0e1-cbdf3932ffd8"
      },
      "source": [
        "ls"
      ],
      "execution_count": 7,
      "outputs": [
        {
          "output_type": "stream",
          "name": "stdout",
          "text": [
            "chest-xray-pneumonia.zip  flickr8k.zip  kaggle.json\n"
          ]
        }
      ]
    },
    {
      "cell_type": "code",
      "metadata": {
        "colab": {
          "base_uri": "https://localhost:8080/",
          "height": 35
        },
        "id": "0TGkyWhZWyzW",
        "outputId": "25610001-21e2-48a5-89be-82019f00feb8"
      },
      "source": [
        "pwd"
      ],
      "execution_count": null,
      "outputs": [
        {
          "output_type": "execute_result",
          "data": {
            "application/vnd.google.colaboratory.intrinsic+json": {
              "type": "string"
            },
            "text/plain": [
              "'/content/gdrive/My Drive/Kaggle'"
            ]
          },
          "metadata": {},
          "execution_count": 8
        }
      ]
    },
    {
      "cell_type": "code",
      "metadata": {
        "id": "zlWjPXZzW5hp",
        "colab": {
          "base_uri": "https://localhost:8080/"
        },
        "outputId": "af7d88e9-a35d-45df-b0e1-f8e41462ae8e"
      },
      "source": [
        "# Location of Zip File\n",
        "drive_path = '/content/gdrive/My Drive/Kaggle/chest-xray-pneumonia.zip'\n",
        "local_path = '/content'\n",
        "\n",
        "# Copy the zip file and move it up one level (AKA out of the drive folder)\n",
        "!cp '{drive_path}' .\n",
        "\n",
        "# Navigate to the copied file and unzip it quietly\n",
        "os.chdir(local_path)\n",
        "!unzip -q 'chest-xray-pneumonia.zip'"
      ],
      "execution_count": 10,
      "outputs": [
        {
          "output_type": "stream",
          "name": "stdout",
          "text": [
            "replace chest_xray/__MACOSX/._chest_xray? [y]es, [n]o, [A]ll, [N]one, [r]ename: N\n"
          ]
        }
      ]
    },
    {
      "cell_type": "code",
      "metadata": {
        "id": "HzNVgrR6OCRB"
      },
      "source": [
        "!cp -r chest_xray/chest_xray/ Ensemble-Pneumonia-Detection/data/"
      ],
      "execution_count": 11,
      "outputs": []
    },
    {
      "cell_type": "code",
      "metadata": {
        "id": "znoVdxDwqqi7"
      },
      "source": [
        "!cp -r Ensemble-Pneumonia-Detection/data/test/NORMAL/*.jpeg Ensemble-Pneumonia-Detection/data/val/NORMAL/\n",
        "!cp -r Ensemble-Pneumonia-Detection/data/test/PNEUMONIA/*.jpeg Ensemble-Pneumonia-Detection/data/val/PNEUMONIA/"
      ],
      "execution_count": 12,
      "outputs": []
    },
    {
      "cell_type": "code",
      "metadata": {
        "id": "HLd430llts0C"
      },
      "source": [
        "!mkdir Ensemble-Pneumonia-Detection/train_csv\n",
        "!mkdir Ensemble-Pneumonia-Detection/test_csv\n",
        "#f = open(\"Ensemble-Pneumonia-Detection/train_csv/resnet18_train.csv\", \"x\")\n",
        "#f = open(\"Ensemble-Pneumonia-Detection/test_csv/resnet18_test.csv\", \"x\")\n",
        "#f = open(\"Ensemble-Pneumonia-Detection/train_csv/googlenet_train.csv\", \"x\")\n",
        "#f = open(\"Ensemble-Pneumonia-Detection/test_csv/googlenet_test.csv\", \"x\")\n",
        "#f = open(\"Ensemble-Pneumonia-Detection/train_csv/densenet121_train.csv\", \"x\")\n",
        "#f = open(\"Ensemble-Pneumonia-Detection/test_csv/densenet121_test.csv\", \"x\")\n",
        "#f = open(\"Ensemble-Pneumonia-Detection/train_csv/vgg_train.csv\", \"x\")\n",
        "#f = open(\"Ensemble-Pneumonia-Detection/test_csv/vgg_test.csv\", \"x\")\n",
        "f = open(\"Ensemble-Pneumonia-Detection/train_csv/inception_train.csv\", \"x\")\n",
        "f = open(\"Ensemble-Pneumonia-Detection/test_csv/inception_test.csv\", \"x\")\n",
        "#f = open(\"Ensemble-Pneumonia-Detection/train_csv/alexnet_train.csv\", \"x\")\n",
        "#f = open(\"Ensemble-Pneumonia-Detection/test_csv/alexnet_test.csv\", \"x\")\n",
        "f = open(\"Ensemble-Pneumonia-Detection/train_labels.csv\", \"x\")\n",
        "f = open(\"Ensemble-Pneumonia-Detection/test_labels.csv\", \"x\")"
      ],
      "execution_count": 13,
      "outputs": []
    },
    {
      "cell_type": "code",
      "metadata": {
        "colab": {
          "base_uri": "https://localhost:8080/"
        },
        "id": "lyLikH8p_klE",
        "outputId": "9165187a-05ba-4038-9ac1-1c46219e1c93"
      },
      "source": [
        "pip install scikit-plot"
      ],
      "execution_count": 57,
      "outputs": [
        {
          "output_type": "stream",
          "name": "stdout",
          "text": [
            "Requirement already satisfied: scikit-plot in /usr/local/lib/python3.7/dist-packages (0.3.7)\n",
            "Requirement already satisfied: matplotlib>=1.4.0 in /usr/local/lib/python3.7/dist-packages (from scikit-plot) (3.2.2)\n",
            "Requirement already satisfied: scipy>=0.9 in /usr/local/lib/python3.7/dist-packages (from scikit-plot) (1.4.1)\n",
            "Requirement already satisfied: joblib>=0.10 in /usr/local/lib/python3.7/dist-packages (from scikit-plot) (1.1.0)\n",
            "Requirement already satisfied: scikit-learn>=0.18 in /usr/local/lib/python3.7/dist-packages (from scikit-plot) (1.0.1)\n",
            "Requirement already satisfied: python-dateutil>=2.1 in /usr/local/lib/python3.7/dist-packages (from matplotlib>=1.4.0->scikit-plot) (2.8.2)\n",
            "Requirement already satisfied: cycler>=0.10 in /usr/local/lib/python3.7/dist-packages (from matplotlib>=1.4.0->scikit-plot) (0.11.0)\n",
            "Requirement already satisfied: kiwisolver>=1.0.1 in /usr/local/lib/python3.7/dist-packages (from matplotlib>=1.4.0->scikit-plot) (1.3.2)\n",
            "Requirement already satisfied: numpy>=1.11 in /usr/local/lib/python3.7/dist-packages (from matplotlib>=1.4.0->scikit-plot) (1.19.5)\n",
            "Requirement already satisfied: pyparsing!=2.0.4,!=2.1.2,!=2.1.6,>=2.0.1 in /usr/local/lib/python3.7/dist-packages (from matplotlib>=1.4.0->scikit-plot) (3.0.6)\n",
            "Requirement already satisfied: six>=1.5 in /usr/local/lib/python3.7/dist-packages (from python-dateutil>=2.1->matplotlib>=1.4.0->scikit-plot) (1.15.0)\n",
            "Requirement already satisfied: threadpoolctl>=2.0.0 in /usr/local/lib/python3.7/dist-packages (from scikit-learn>=0.18->scikit-plot) (3.0.0)\n"
          ]
        }
      ]
    },
    {
      "cell_type": "code",
      "metadata": {
        "id": "9vWZsoaBOQYP"
      },
      "source": [
        "import torch\n",
        "import torch.nn as nn\n",
        "import torch.optim as optim\n",
        "from torch.optim import lr_scheduler\n",
        "import numpy as np\n",
        "import torchvision\n",
        "from torchvision import datasets, models, transforms\n",
        "import matplotlib.pyplot as plt\n",
        "import time\n",
        "import os\n",
        "import copy\n",
        "import csv\n",
        "import numpy as np\n",
        "import pandas as pd\n",
        "from sklearn.metrics import *\n",
        "import math\n",
        "import scikitplot as skplt "
      ],
      "execution_count": 58,
      "outputs": []
    },
    {
      "cell_type": "code",
      "metadata": {
        "colab": {
          "base_uri": "https://localhost:8080/"
        },
        "id": "qx9zl8IFOYF5",
        "outputId": "d9fe77e8-42e3-4212-c254-27441c9e97dd"
      },
      "source": [
        "mean = np.array([0.485, 0.456, 0.406])\n",
        "std = np.array([0.229, 0.224, 0.225])\n",
        "\n",
        "data_transforms = {\n",
        "    'train': transforms.Compose([\n",
        "        transforms.Resize((299,299)),\n",
        "        transforms.ToTensor(),\n",
        "        transforms.Normalize(mean, std)\n",
        "    ]),\n",
        "    'val': transforms.Compose([\n",
        "        transforms.Resize((299,299)),\n",
        "        transforms.ToTensor(),\n",
        "        transforms.Normalize(mean, std)\n",
        "    ]),\n",
        "}\n",
        "\n",
        "data_dir = \"Ensemble-Pneumonia-Detection/data\"\n",
        "\n",
        "image_datasets = {x: datasets.ImageFolder(os.path.join(data_dir, x), data_transforms[x]) for x in ['train', 'val']}\n",
        "dataloaders = {x: torch.utils.data.DataLoader(image_datasets[x], batch_size=16, shuffle=True, num_workers=2) for x in ['train', 'val']}\n",
        "\n",
        "dataset_sizes = {x: len(image_datasets[x]) for x in ['train', 'val']}\n",
        "class_names = image_datasets['train'].classes\n",
        "num_classes = len(class_names)\n",
        "\n",
        "device = torch.device(\"cuda:0\" if torch.cuda.is_available() else \"cpu\")\n",
        "print(class_names)"
      ],
      "execution_count": 36,
      "outputs": [
        {
          "output_type": "stream",
          "name": "stdout",
          "text": [
            "['NORMAL', 'PNEUMONIA']\n"
          ]
        }
      ]
    },
    {
      "cell_type": "code",
      "metadata": {
        "id": "JbK0ii3nOa9k"
      },
      "source": [
        "def imshow(inp, title):\n",
        "    \"\"\"Imshow for Tensor.\"\"\"\n",
        "    inp = inp.numpy().transpose((1, 2, 0))\n",
        "    inp = std * inp + mean\n",
        "    inp = np.clip(inp, 0, 1)\n",
        "    plt.imshow(inp)\n",
        "    plt.title(title)\n",
        "    plt.show()"
      ],
      "execution_count": 17,
      "outputs": []
    },
    {
      "cell_type": "code",
      "metadata": {
        "colab": {
          "base_uri": "https://localhost:8080/",
          "height": 112
        },
        "id": "1wnz8x8zOhFj",
        "outputId": "52992da3-2a12-45ba-b349-3f67da2d853f"
      },
      "source": [
        "# Get a batch of training data\n",
        "inputs, classes = next(iter(dataloaders['train']))\n",
        "\n",
        "# Make a grid from batch\n",
        "out = torchvision.utils.make_grid(inputs)\n",
        "\n",
        "imshow(out, title=[class_names[x] for x in classes])"
      ],
      "execution_count": 18,
      "outputs": [
        {
          "output_type": "display_data",
          "data": {
            "image/png": "[encoded data removed]",
            "text/plain": [
              "<Figure size 432x288 with 1 Axes>"
            ]
          },
          "metadata": {
            "needs_background": "light"
          }
        }
      ]
    },
    {
      "cell_type": "code",
      "metadata": {
        "id": "SxH13od8OlBq"
      },
      "source": [
        "def plot(val_loss,train_loss,typ):\n",
        "    plt.title(\"Inception v3:\")\n",
        "    plt.xlabel(\"Epoch\")\n",
        "    plt.ylabel(typ)\n",
        "    plt.plot(list(range(len(train_loss))),train_loss,color=\"r\",label=\"Train \"+typ)\n",
        "    plt.plot(list(range(len(val_loss))),val_loss,color=\"b\",label=\"Validation \"+typ)\n",
        "    plt.legend()\n",
        "    plt.show()\n",
        "    plt.savefig(os.path.join(data_dir,typ+\".png\"))\n",
        "    plt.close()"
      ],
      "execution_count": 19,
      "outputs": []
    },
    {
      "cell_type": "code",
      "metadata": {
        "id": "bVaHwDOhOsGc"
      },
      "source": [
        "val_loss_gph=[]\n",
        "train_loss_gph=[]\n",
        "val_acc_gph=[]\n",
        "train_acc_gph=[]\n",
        "\n",
        "def train_model(model, criterion, optimizer, scheduler, num_epochs=25,model_name = \"kaggle\"):\n",
        "    since = time.time()\n",
        "\n",
        "    best_model_wts = copy.deepcopy(model.state_dict())\n",
        "    best_acc = 0.0\n",
        "\n",
        "    for epoch in range(num_epochs):\n",
        "        print('Epoch {}/{}'.format(epoch+1, num_epochs))\n",
        "        print('-' * 10)\n",
        "\n",
        "        # Each epoch has a training and validation phase\n",
        "        for phase in ['train', 'val']:\n",
        "            if phase == 'train':\n",
        "                model.train()  # Set model to training mode\n",
        "            else:\n",
        "                model.eval()   # Set model to evaluate mode\n",
        "\n",
        "            running_loss = 0.0\n",
        "            running_corrects = 0\n",
        "\n",
        "            # Iterate over data.\n",
        "            for inputs, labels in dataloaders[phase]:\n",
        "                inputs = inputs.to(device)\n",
        "                labels = labels.to(device)\n",
        "\n",
        "                # forward\n",
        "                # track history if only in train\n",
        "                with torch.set_grad_enabled(phase == 'train'):\n",
        "                    outputs = model(inputs)\n",
        "                    _, preds = torch.max(outputs, 1) #was (outputs,1) for non-inception and (outputs.data,1) for inception\n",
        "                    loss = criterion(outputs, labels)\n",
        "\n",
        "                    # backward + optimize only if in training phase\n",
        "                    if phase == 'train':\n",
        "                        optimizer.zero_grad()\n",
        "                        loss.backward()\n",
        "                        optimizer.step()\n",
        "\n",
        "                # statistics\n",
        "                running_loss += loss.item() * inputs.size(0)\n",
        "                running_corrects += torch.sum(preds == labels.data)\n",
        "\n",
        "            if phase == 'train':\n",
        "                scheduler.step()\n",
        "\n",
        "            epoch_loss = running_loss / dataset_sizes[phase]\n",
        "            epoch_acc = running_corrects.double() / dataset_sizes[phase]\n",
        "\n",
        "            if phase == 'train':\n",
        "              train_loss_gph.append(epoch_loss)\n",
        "              train_acc_gph.append(epoch_acc)\n",
        "            if phase == 'val':\n",
        "              val_loss_gph.append(epoch_loss)\n",
        "              val_acc_gph.append(epoch_acc)\n",
        "            \n",
        "           # plot(val_loss_gph,train_loss_gph, \"Loss\")\n",
        "           # plot(val_acc_gph,train_acc_gph, \"Accuracy\")\n",
        "\n",
        "            print('{} Loss: {:.4f} Acc: {:.4f}'.format(\n",
        "                phase, epoch_loss, epoch_acc))\n",
        "\n",
        "            # deep copy the model\n",
        "            if phase == 'val' and epoch_acc >= best_acc:\n",
        "                best_acc = epoch_acc\n",
        "                best_model_wts = copy.deepcopy(model.state_dict())\n",
        "                torch.save(model, data_dir+\"/\"+model_name+\".h5\")\n",
        "                print('==>Model Saved')\n",
        "\n",
        "        print()\n",
        "\n",
        "    time_elapsed = time.time() - since\n",
        "    print('Training complete in {:.0f}m {:.0f}s'.format(\n",
        "        time_elapsed // 60, time_elapsed % 60))\n",
        "    print('Best val Acc: {:4f}'.format(best_acc))\n",
        "    plot(val_loss_gph,train_loss_gph, \"Loss\")\n",
        "    plot(val_acc_gph,train_acc_gph, \"Accuracy\")\n",
        "    # load best model weights\n",
        "    model.load_state_dict(best_model_wts)\n",
        "    return model"
      ],
      "execution_count": 20,
      "outputs": []
    },
    {
      "cell_type": "markdown",
      "metadata": {
        "id": "j0nB6Kq2QFaR"
      },
      "source": [
        "**Inception v3**"
      ]
    },
    {
      "cell_type": "code",
      "metadata": {
        "colab": {
          "base_uri": "https://localhost:8080/"
        },
        "id": "NYTe16bUQHiG",
        "outputId": "35ceef2b-0832-424f-8323-a9cacf586aaf"
      },
      "source": [
        "model = models.inception_v3(pretrained = True)\n",
        "\n",
        "#num_ftrs = model.fc.in_features  ##for googlenet, resnet18\n",
        "#num_ftrs = model.classifier[6].in_features  ## for densenet169\n",
        "# Handle the auxilary net\n",
        "#num_ftrs = model.AuxLogits.fc.in_features\n",
        "#model.AuxLogits.fc = nn.Linear(num_ftrs, num_classes)\n",
        "model.aux_logits=False\n",
        "num_ftrs = model.fc.in_features\n",
        "print(\"Number of features: \"+str(num_ftrs))"
      ],
      "execution_count": 29,
      "outputs": [
        {
          "output_type": "stream",
          "name": "stdout",
          "text": [
            "Number of features: 2048\n"
          ]
        }
      ]
    },
    {
      "cell_type": "code",
      "metadata": {
        "id": "PEBGz6IyQTXT"
      },
      "source": [
        "#model.fc = nn.Linear(num_ftrs, num_classes)  ##for googlenet, resnet18\n",
        "#model.classifier[6] = nn.Linear(num_ftrs, num_classes) ## for densenet169\n",
        "num_ftrs = model.fc.in_features\n",
        "model.fc = nn.Linear(num_ftrs,num_classes)\n",
        "model = model.to(device)"
      ],
      "execution_count": 30,
      "outputs": []
    },
    {
      "cell_type": "code",
      "metadata": {
        "id": "fOONzOLIQjC1"
      },
      "source": [
        "criterion = nn.CrossEntropyLoss()\n",
        "\n",
        "# Observe that all parameters are being optimized\n",
        "optimizer = optim.Adam(model.parameters(), lr=0.0001)"
      ],
      "execution_count": 31,
      "outputs": []
    },
    {
      "cell_type": "code",
      "metadata": {
        "id": "Gh72IvI_Qj1R"
      },
      "source": [
        "# StepLR Decays the learning rate of each parameter group by gamma every step_size epochs\n",
        "# Decay LR by a factor of 0.1 every 7 epochs\n",
        "# Learning rate scheduling should be applied after optimizer’s update\n",
        "# e.g., you should write your code this way:\n",
        "# for epoch in range(100):\n",
        "#     train(...)\n",
        "#     validate(...)\n",
        "#     scheduler.step()\n",
        "step_lr_scheduler = lr_scheduler.StepLR(optimizer, step_size = 10, gamma=0.1)"
      ],
      "execution_count": 32,
      "outputs": []
    },
    {
      "cell_type": "code",
      "metadata": {
        "colab": {
          "base_uri": "https://localhost:8080/",
          "height": 1000
        },
        "id": "nfnoiznwQu6Q",
        "outputId": "1f184333-ba28-4d78-c710-d89b7e21fb69"
      },
      "source": [
        "model = train_model(model, criterion, optimizer, step_lr_scheduler, num_epochs=30, model_name = \"inception_v3\")"
      ],
      "execution_count": 37,
      "outputs": [
        {
          "output_type": "stream",
          "name": "stdout",
          "text": [
            "Epoch 1/30\n",
            "----------\n",
            "train Loss: 0.1179 Acc: 0.9569\n",
            "val Loss: 0.4120 Acc: 0.8750\n",
            "==>Model Saved\n",
            "\n",
            "Epoch 2/30\n",
            "----------\n",
            "train Loss: 0.0375 Acc: 0.9889\n",
            "val Loss: 0.5961 Acc: 0.8203\n",
            "\n",
            "Epoch 3/30\n",
            "----------\n",
            "train Loss: 0.0323 Acc: 0.9887\n",
            "val Loss: 1.0996 Acc: 0.7906\n",
            "\n",
            "Epoch 4/30\n",
            "----------\n",
            "train Loss: 0.0106 Acc: 0.9971\n",
            "val Loss: 1.1074 Acc: 0.7781\n",
            "\n",
            "Epoch 5/30\n",
            "----------\n",
            "train Loss: 0.0201 Acc: 0.9941\n",
            "val Loss: 0.7601 Acc: 0.8703\n",
            "\n",
            "Epoch 6/30\n",
            "----------\n",
            "train Loss: 0.0124 Acc: 0.9973\n",
            "val Loss: 0.8576 Acc: 0.8391\n",
            "\n",
            "Epoch 7/30\n",
            "----------\n",
            "train Loss: 0.0163 Acc: 0.9948\n",
            "val Loss: 2.0132 Acc: 0.7594\n",
            "\n",
            "Epoch 8/30\n",
            "----------\n",
            "train Loss: 0.0228 Acc: 0.9918\n",
            "val Loss: 1.8321 Acc: 0.7500\n",
            "\n",
            "Epoch 9/30\n",
            "----------\n",
            "train Loss: 0.0044 Acc: 0.9987\n",
            "val Loss: 1.4119 Acc: 0.7891\n",
            "\n",
            "Epoch 10/30\n",
            "----------\n",
            "train Loss: 0.0089 Acc: 0.9967\n",
            "val Loss: 1.6295 Acc: 0.8188\n",
            "\n",
            "Epoch 11/30\n",
            "----------\n",
            "train Loss: 0.0022 Acc: 0.9996\n",
            "val Loss: 1.4244 Acc: 0.8375\n",
            "\n",
            "Epoch 12/30\n",
            "----------\n",
            "train Loss: 0.0008 Acc: 1.0000\n",
            "val Loss: 1.7555 Acc: 0.8156\n",
            "\n",
            "Epoch 13/30\n",
            "----------\n",
            "train Loss: 0.0009 Acc: 0.9998\n",
            "val Loss: 1.4325 Acc: 0.8328\n",
            "\n",
            "Epoch 14/30\n",
            "----------\n",
            "train Loss: 0.0004 Acc: 1.0000\n",
            "val Loss: 1.6326 Acc: 0.8188\n",
            "\n",
            "Epoch 15/30\n",
            "----------\n",
            "train Loss: 0.0003 Acc: 1.0000\n",
            "val Loss: 1.6864 Acc: 0.8344\n",
            "\n",
            "Epoch 16/30\n",
            "----------\n",
            "train Loss: 0.0003 Acc: 1.0000\n",
            "val Loss: 1.3366 Acc: 0.8438\n",
            "\n",
            "Epoch 17/30\n",
            "----------\n",
            "train Loss: 0.0002 Acc: 1.0000\n",
            "val Loss: 1.5973 Acc: 0.8328\n",
            "\n",
            "Epoch 18/30\n",
            "----------\n",
            "train Loss: 0.0004 Acc: 0.9998\n",
            "val Loss: 1.8406 Acc: 0.8172\n",
            "\n",
            "Epoch 19/30\n",
            "----------\n",
            "train Loss: 0.0002 Acc: 1.0000\n",
            "val Loss: 1.9082 Acc: 0.8094\n",
            "\n",
            "Epoch 20/30\n",
            "----------\n",
            "train Loss: 0.0002 Acc: 1.0000\n",
            "val Loss: 1.4940 Acc: 0.8438\n",
            "\n",
            "Epoch 21/30\n",
            "----------\n",
            "train Loss: 0.0001 Acc: 1.0000\n",
            "val Loss: 1.5553 Acc: 0.8375\n",
            "\n",
            "Epoch 22/30\n",
            "----------\n",
            "train Loss: 0.0003 Acc: 1.0000\n",
            "val Loss: 1.5468 Acc: 0.8375\n",
            "\n",
            "Epoch 23/30\n",
            "----------\n",
            "train Loss: 0.0001 Acc: 1.0000\n",
            "val Loss: 1.5573 Acc: 0.8406\n",
            "\n",
            "Epoch 24/30\n",
            "----------\n",
            "train Loss: 0.0002 Acc: 1.0000\n",
            "val Loss: 1.6547 Acc: 0.8297\n",
            "\n",
            "Epoch 25/30\n",
            "----------\n",
            "train Loss: 0.0001 Acc: 1.0000\n",
            "val Loss: 1.6573 Acc: 0.8328\n",
            "\n",
            "Epoch 26/30\n",
            "----------\n",
            "train Loss: 0.0002 Acc: 1.0000\n",
            "val Loss: 1.6842 Acc: 0.8375\n",
            "\n",
            "Epoch 27/30\n",
            "----------\n",
            "train Loss: 0.0001 Acc: 1.0000\n",
            "val Loss: 1.6388 Acc: 0.8391\n",
            "\n",
            "Epoch 28/30\n",
            "----------\n",
            "train Loss: 0.0001 Acc: 1.0000\n",
            "val Loss: 1.6768 Acc: 0.8328\n",
            "\n",
            "Epoch 29/30\n",
            "----------\n",
            "train Loss: 0.0001 Acc: 1.0000\n",
            "val Loss: 1.6957 Acc: 0.8359\n",
            "\n",
            "Epoch 30/30\n",
            "----------\n",
            "train Loss: 0.0001 Acc: 1.0000\n",
            "val Loss: 1.7649 Acc: 0.8328\n",
            "\n",
            "Training complete in 133m 57s\n",
            "Best val Acc: 0.875000\n"
          ]
        },
        {
          "output_type": "display_data",
          "data": {
            "image/png": "[encoded data removed]",
            "text/plain": [
              "<Figure size 432x288 with 1 Axes>"
            ]
          },
          "metadata": {
            "needs_background": "light"
          }
        },
        {
          "output_type": "display_data",
          "data": {
            "image/png": "[encoded data removed]",
            "text/plain": [
              "<Figure size 432x288 with 1 Axes>"
            ]
          },
          "metadata": {
            "needs_background": "light"
          }
        }
      ]
    },
    {
      "cell_type": "code",
      "metadata": {
        "colab": {
          "base_uri": "https://localhost:8080/"
        },
        "id": "NJIsdpYfQ94J",
        "outputId": "6ef364fb-46c8-4a40-b7bc-0feee597af5e"
      },
      "source": [
        "# Getting Proba distribution\n",
        "print(\"\\nGetting the Probability Distribution\")\n",
        "trainloader=torch.utils.data.DataLoader(image_datasets['train'],batch_size=1)\n",
        "testloader=torch.utils.data.DataLoader(image_datasets['val'],batch_size=1)"
      ],
      "execution_count": 38,
      "outputs": [
        {
          "output_type": "stream",
          "name": "stdout",
          "text": [
            "\n",
            "Getting the Probability Distribution\n"
          ]
        }
      ]
    },
    {
      "cell_type": "code",
      "metadata": {
        "id": "DmHTDti0REEN"
      },
      "source": [
        "model=model.eval()"
      ],
      "execution_count": 39,
      "outputs": []
    },
    {
      "cell_type": "code",
      "metadata": {
        "colab": {
          "base_uri": "https://localhost:8080/"
        },
        "id": "Xt5NbLpERI_S",
        "outputId": "42d51cec-dbe2-47b9-8f04-abfa5d2b74b0"
      },
      "source": [
        "correct = 0\n",
        "total = 0\n",
        "data_dir = \"Ensemble-Pneumonia-Detection/train_csv\"\n",
        "#Train Probabilities\n",
        "f = open(data_dir+\"/inception_train.csv\",'w+',newline = '')\n",
        "writer = csv.writer(f)\n",
        "saving = []\n",
        "with torch.no_grad():\n",
        "      num = 0\n",
        "      temp_array = np.zeros((len(trainloader),num_classes))\n",
        "      for i,data in enumerate(trainloader):\n",
        "          images, labels = data\n",
        "          sample_fname, _ = trainloader.dataset.samples[i]\n",
        "          labels=labels.cuda()\n",
        "          outputs = model(images.cuda())\n",
        "          _, predicted = torch.max(outputs, 1)\n",
        "          total += labels.size(0)\n",
        "          correct += (predicted == labels.cuda()).sum().item()\n",
        "          prob = torch.nn.functional.softmax(outputs, dim=1)\n",
        "          saving.append(sample_fname.split('/')[-1])\n",
        "          temp_array[num] = np.asarray(prob[0].tolist()[0:num_classes])\n",
        "          num+=1\n",
        "print(\"Train Accuracy = \",100*correct/total)\n",
        "for i in range(len(trainloader)):\n",
        "  k = temp_array[i].tolist()\n",
        "  k.append(saving[i])\n",
        "  writer.writerow(k)\n",
        "\n",
        "f.close()"
      ],
      "execution_count": 40,
      "outputs": [
        {
          "output_type": "stream",
          "name": "stdout",
          "text": [
            "Train Accuracy =  99.32898773006134\n"
          ]
        }
      ]
    },
    {
      "cell_type": "code",
      "metadata": {
        "id": "6EhvF3GuRRqS"
      },
      "source": [
        "data_dir = \"Ensemble-Pneumonia-Detection\"\n",
        "\n",
        "f = open(data_dir+\"/train_labels.csv\",'w+',newline = '')\n",
        "writer = csv.writer(f)\n",
        "for i,data in enumerate(testloader):\n",
        "  _, labels = data\n",
        "  sample_fname, _ = testloader.dataset.samples[i]\n",
        "  sample = sample_fname.split('/')[-1]\n",
        "  lab = labels.tolist()[0]\n",
        "  writer.writerow([sample,lab])\n",
        "f.close()"
      ],
      "execution_count": 41,
      "outputs": []
    },
    {
      "cell_type": "code",
      "metadata": {
        "id": "n_IyCb7UTT6c",
        "colab": {
          "base_uri": "https://localhost:8080/"
        },
        "outputId": "006d99de-dc78-423a-8490-4b6d42f33096"
      },
      "source": [
        "data_dir = \"Ensemble-Pneumonia-Detection/test_csv\"\n",
        "\n",
        "#Test Probabilities\n",
        "f = open(data_dir+\"/inception_test.csv\",'w+',newline = '')\n",
        "writer = csv.writer(f)\n",
        "saving = []\n",
        "with torch.no_grad():\n",
        "      num = 0\n",
        "      temp_array = np.zeros((len(testloader),num_classes))\n",
        "      for i,data in enumerate(testloader):\n",
        "          images, labels = data\n",
        "          sample_fname, _ = testloader.dataset.samples[i]\n",
        "          labels=labels.cuda()\n",
        "          outputs = model(images.cuda())\n",
        "          _, predicted = torch.max(outputs, 1)\n",
        "          total += labels.size(0)\n",
        "          correct += (predicted == labels.cuda()).sum().item()\n",
        "          prob = torch.nn.functional.softmax(outputs, dim=1)\n",
        "          saving.append(sample_fname.split('/')[-1])\n",
        "          temp_array[num] = np.asarray(prob[0].tolist()[0:num_classes])\n",
        "          num+=1\n",
        "print(\"Test Accuracy = \",100*correct/total)\n",
        "for i in range(len(testloader)):\n",
        "  k = temp_array[i].tolist()\n",
        "  k.append(saving[i])\n",
        "  writer.writerow(k)\n",
        "\n",
        "f.close()"
      ],
      "execution_count": 42,
      "outputs": [
        {
          "output_type": "stream",
          "name": "stdout",
          "text": [
            "Test Accuracy =  98.03620218579235\n"
          ]
        }
      ]
    },
    {
      "cell_type": "code",
      "metadata": {
        "id": "ktxGwVgpTZcT"
      },
      "source": [
        "data_dir = \"Ensemble-Pneumonia-Detection\"\n",
        "\n",
        "f = open(data_dir+\"/test_labels.csv\",'w+',newline = '')\n",
        "writer = csv.writer(f)\n",
        "for i,data in enumerate(testloader):\n",
        "  _, labels = data\n",
        "  sample_fname, _ = testloader.dataset.samples[i]\n",
        "  sample = sample_fname.split('/')[-1]\n",
        "  lab = labels.tolist()[0]\n",
        "  writer.writerow([sample,lab])\n",
        "f.close()"
      ],
      "execution_count": 43,
      "outputs": []
    },
    {
      "cell_type": "markdown",
      "metadata": {
        "id": "xHDZdAbRSa9U"
      },
      "source": [
        "**ensemble**"
      ]
    },
    {
      "cell_type": "code",
      "metadata": {
        "id": "ja7NxxzCScxa"
      },
      "source": [
        "def getfile(filename):\n",
        "    root=\"./\"\n",
        "    file = root+filename\n",
        "    if '.csv' not in file:\n",
        "        file+='.csv'\n",
        "    df = pd.read_csv(file,header=None)\n",
        "    df = np.asarray(df)[:,:-1] #Since last column has image names\n",
        "    return df"
      ],
      "execution_count": 44,
      "outputs": []
    },
    {
      "cell_type": "code",
      "metadata": {
        "id": "pObQGKDAUVBC"
      },
      "source": [
        "def getlabels(filename):\n",
        "    root=\"./\"\n",
        "    file = root+filename\n",
        "    if '.csv' not in file:\n",
        "        file+='.csv'\n",
        "    df = pd.read_csv(file,header=None)\n",
        "    df = np.asarray(df)[:,1] #Since first column has image names\n",
        "    return df.astype(int)"
      ],
      "execution_count": 45,
      "outputs": []
    },
    {
      "cell_type": "code",
      "metadata": {
        "id": "fiFPQwPUUX6W"
      },
      "source": [
        "def predicting(ensemble_prob):\n",
        "    prediction = np.zeros((ensemble_prob.shape[0],))\n",
        "    for i in range(ensemble_prob.shape[0]):\n",
        "        temp = ensemble_prob[i]\n",
        "        t = np.where(temp == np.max(temp))[0][0]\n",
        "        prediction[i] = t\n",
        "    return prediction"
      ],
      "execution_count": 46,
      "outputs": []
    },
    {
      "cell_type": "code",
      "metadata": {
        "id": "9CEG3SbBUkcp"
      },
      "source": [
        "def metrics(labels,predictions,classes):\n",
        "    print(\"Classification Report:\")\n",
        "    print(classification_report(labels, predictions, target_names = classes,digits = 4))\n",
        "    skplt.metrics.plot_confusion_matrix(labels, predictions, normalize=True)\n",
        "    matrix = confusion_matrix(labels, predictions,normalize='all')\n",
        "    '''\n",
        "    print(\"Confusion matrix:\")\n",
        "    print(matrix)'''\n",
        "    print(\"\\nClasswise Accuracy :{}\".format(matrix.diagonal()/matrix.sum(axis = 1)))"
      ],
      "execution_count": 59,
      "outputs": []
    },
    {
      "cell_type": "code",
      "metadata": {
        "id": "N1GdIy6iUm-W"
      },
      "source": [
        "\n",
        "def get_scores(labels, *argv):\n",
        "    #outputs matrix of shape (no. of arg, 4) of precision, recall, f1-score, Area Under Curve\n",
        "    count = len(argv)\n",
        "    metrics = np.zeros(shape=(4,count))\n",
        "    num_classes = np.unique(labels).shape[0]\n",
        "    for i, arg in enumerate(argv):\n",
        "        preds = predicting(arg)\n",
        "        if num_classes==2:\n",
        "            pre = precision_score(labels,preds[:640])\n",
        "            rec = recall_score(labels,preds[:640])\n",
        "            f1 = f1_score(labels,preds[:640])\n",
        "            auc = roc_auc_score(labels,preds[:640])\n",
        "        else:\n",
        "            pre = precision_score(labels,preds[:640],average='macro')\n",
        "            rec = recall_score(labels,preds[:640],average='macro')\n",
        "            f1 = f1_score(labels,preds[:640],average='macro')\n",
        "            auc = roc_auc_score(labels,arg[:640],average='macro',multi_class='ovo')\n",
        "        metrics[:,i] = np.array([pre,rec,f1,auc])\n",
        "    weights = get_weights(np.transpose(metrics))\n",
        "    #print(\"Weights: \",weights)\n",
        "    return weights\n",
        "    '''\n",
        "\n",
        "def get_scores(labels,*argv):\n",
        "    #outputs matrix of shape (no. of arg, 4) of precision, recall, f1-score, Area Under Curve\n",
        "    count = len(argv)\n",
        "    metrics = np.zeros(shape=(4,count))\n",
        "    num_classes = np.unique(labels).shape[0]\n",
        "    for i,arg in enumerate(argv):\n",
        "        preds = predicting(arg)\n",
        "        print(labels.shape)\n",
        "        print(preds.shape)\n",
        "        print(len(labels))\n",
        "        print(len(preds))\n",
        "        if num_classes==2:\n",
        "            pre = precision_score(labels,preds)\n",
        "            rec = recall_score(labels,preds)\n",
        "            f1 = f1_score(labels,preds)\n",
        "            auc = roc_auc_score(labels,preds)\n",
        "        else:\n",
        "            pre = precision_score(labels,preds,average='macro')\n",
        "            rec = recall_score(labels,preds,average='macro')\n",
        "            f1 = f1_score(labels,preds,average='macro')\n",
        "            auc = roc_auc_score(labels,arg,average='macro',multi_class='ovo')\n",
        "        metrics[:,i] = np.array([pre,rec,f1,auc])\n",
        "    weights = get_weights(np.transpose(metrics))\n",
        "    #print(\"Weights: \",weights)\n",
        "    return weights\n",
        "'''"
      ],
      "execution_count": 48,
      "outputs": []
    },
    {
      "cell_type": "code",
      "metadata": {
        "id": "Z_ZKyFngUqer"
      },
      "source": [
        "def get_weights(matrix):\n",
        "    weights = []\n",
        "    for i in range(matrix.shape[0]):\n",
        "        m = matrix[i]\n",
        "        w = 0\n",
        "        for j in range(m.shape[0]):\n",
        "            w+=np.tanh(m[j])\n",
        "        weights.append(w)\n",
        "    return weights"
      ],
      "execution_count": 49,
      "outputs": []
    },
    {
      "cell_type": "code",
      "metadata": {
        "id": "e5GxtUxXUtOD",
        "colab": {
          "base_uri": "https://localhost:8080/",
          "height": 53
        },
        "outputId": "cfee8e99-88a6-436a-df7d-f6f0fc2ec04f"
      },
      "source": [
        "root_train = \"Ensemble-Pneumonia-Detection/train_csv/\"\n",
        "root_test  = \"Ensemble-Pneumonia-Detection/test_csv/\"\n",
        "'''\n",
        "train_labels = \"Ensemble-Pneumonia-Detection/train_labels.csv\"\n",
        "train_labels = getlabels(train_labels)\n",
        "\n",
        "test_labels = \"Ensemble-Pneumonia-Detection/test_labels.csv\"\n",
        "test_labels = getlabels(test_labels)\n",
        "'''"
      ],
      "execution_count": 50,
      "outputs": [
        {
          "output_type": "execute_result",
          "data": {
            "application/vnd.google.colaboratory.intrinsic+json": {
              "type": "string"
            },
            "text/plain": [
              "'\\ntrain_labels = \"Ensemble-Pneumonia-Detection/train_labels.csv\"\\ntrain_labels = getlabels(train_labels)\\n\\ntest_labels = \"Ensemble-Pneumonia-Detection/test_labels.csv\"\\ntest_labels = getlabels(test_labels)\\n'"
            ]
          },
          "metadata": {},
          "execution_count": 50
        }
      ]
    },
    {
      "cell_type": "code",
      "metadata": {
        "id": "j_XHoFXbUvds"
      },
      "source": [
        "csv_list = os.listdir(root_train)\n",
        "p1_train = getfile(root_train+csv_list[0])\n",
        "#p2_train = getfile(root_train+csv_list[1])\n",
        "#p3_train = getfile(root_train+csv_list[2])\n",
        "\n",
        "train_labels = \"Ensemble-Pneumonia-Detection/train_labels.csv\"\n",
        "train_labels = getlabels(train_labels)\n",
        "#train_labels = getlabels(train_labels)\n",
        "\n",
        "p1_test = getfile(root_test+csv_list[0].replace('train','test'))\n",
        "#p2_test = getfile(root_test+csv_list[1].replace('train','test'))\n",
        "#p3_test = getfile(root_test+csv_list[2].replace('train','test'))\n",
        "\n",
        "test_labels = \"Ensemble-Pneumonia-Detection/test_labels.csv\"\n",
        "test_labels = getlabels(test_labels)\n",
        "#test_labels = getlabels(test_labels)"
      ],
      "execution_count": 51,
      "outputs": []
    },
    {
      "cell_type": "code",
      "metadata": {
        "colab": {
          "base_uri": "https://localhost:8080/"
        },
        "id": "JyTAyhTnUxuR",
        "outputId": "b282b474-4e52-4b04-b61c-2199b85855b6"
      },
      "source": [
        "weights = get_scores(train_labels, p1_train)\n",
        "\n",
        "ensemble_prob = weights[0]*p1_test\n",
        "preds = predicting(ensemble_prob)\n",
        "correct = np.where(preds == test_labels)[0].shape[0]\n",
        "total = test_labels.shape[0]"
      ],
      "execution_count": 52,
      "outputs": [
        {
          "output_type": "stream",
          "name": "stderr",
          "text": [
            "/usr/local/lib/python3.7/dist-packages/sklearn/metrics/_classification.py:1308: UndefinedMetricWarning: Precision is ill-defined and being set to 0.0 due to no predicted samples. Use `zero_division` parameter to control this behavior.\n",
            "  _warn_prf(average, modifier, msg_start, len(result))\n"
          ]
        }
      ]
    },
    {
      "cell_type": "code",
      "source": [
        "from sklearn import metrics\n",
        "import matplotlib.pyplot as plt"
      ],
      "metadata": {
        "id": "714K6KUrZ0Bj"
      },
      "execution_count": 53,
      "outputs": []
    },
    {
      "cell_type": "code",
      "source": [
        "fpr, tpr, _ = metrics.roc_curve(test_labels,preds)\n",
        "\n",
        "#create ROC curve\n",
        "plt.plot(fpr,tpr)\n",
        "plt.ylabel('True Positive Rate')\n",
        "plt.xlabel('False Positive Rate')\n",
        "plt.show()"
      ],
      "metadata": {
        "id": "rdS7M6SCZ0qI",
        "colab": {
          "base_uri": "https://localhost:8080/",
          "height": 279
        },
        "outputId": "732ac645-0840-4653-f31a-64773fe00c80"
      },
      "execution_count": 54,
      "outputs": [
        {
          "output_type": "display_data",
          "data": {
            "image/png": "[encoded data removed]",
            "text/plain": [
              "<Figure size 432x288 with 1 Axes>"
            ]
          },
          "metadata": {
            "needs_background": "light"
          }
        }
      ]
    },
    {
      "cell_type": "code",
      "source": [
        "auc = metrics.roc_auc_score(test_labels,preds)\n",
        "#create ROC curve\n",
        "plt.plot(fpr,tpr,label=\"AUC=\"+str(auc))\n",
        "plt.ylabel('True Positive Rate')\n",
        "plt.xlabel('False Positive Rate')\n",
        "plt.legend(loc=4)\n",
        "plt.show()"
      ],
      "metadata": {
        "id": "NOPuqqR-Z5r6",
        "colab": {
          "base_uri": "https://localhost:8080/",
          "height": 279
        },
        "outputId": "103d5a69-5f38-4c62-f913-dc89a7d0d052"
      },
      "execution_count": 55,
      "outputs": [
        {
          "output_type": "display_data",
          "data": {
            "image/png": "[encoded data removed]",
            "text/plain": [
              "<Figure size 432x288 with 1 Axes>"
            ]
          },
          "metadata": {
            "needs_background": "light"
          }
        }
      ]
    },
    {
      "cell_type": "code",
      "metadata": {
        "id": "5t4UM4OnUz6O",
        "colab": {
          "base_uri": "https://localhost:8080/",
          "height": 521
        },
        "outputId": "1572b322-9b51-445e-eb9b-ef165ac120ea"
      },
      "source": [
        "print(\"Accuracy = \",correct/total)\n",
        "classes = ['Normal','Pneumonia']\n",
        "metrics(test_labels,preds,classes)"
      ],
      "execution_count": 60,
      "outputs": [
        {
          "output_type": "stream",
          "name": "stdout",
          "text": [
            "Accuracy =  0.875\n",
            "Classification Report:\n",
            "              precision    recall  f1-score   support\n",
            "\n",
            "      Normal     1.0000    0.6694    0.8020       242\n",
            "   Pneumonia     0.8326    1.0000    0.9087       398\n",
            "\n",
            "    accuracy                         0.8750       640\n",
            "   macro avg     0.9163    0.8347    0.8553       640\n",
            "weighted avg     0.8959    0.8750    0.8683       640\n",
            "\n",
            "\n",
            "Classwise Accuracy :[0.66942149 1.        ]\n"
          ]
        },
        {
          "output_type": "display_data",
          "data": {
            "image/png": "[encoded data removed]",
            "text/plain": [
              "<Figure size 432x288 with 2 Axes>"
            ]
          },
          "metadata": {
            "needs_background": "light"
          }
        }
      ]
    }
  ]
}