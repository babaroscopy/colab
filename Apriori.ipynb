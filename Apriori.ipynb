{
  "nbformat": 4,
  "nbformat_minor": 0,
  "metadata": {
    "colab": {
      "name": "Apriori.ipynb",
      "provenance": [],
      "collapsed_sections": [],
      "authorship_tag": "ABX9TyO84gRdnQUbXKoibxs9Llui",
      "include_colab_link": true
    },
    "kernelspec": {
      "name": "python3",
      "display_name": "Python 3"
    },
    "language_info": {
      "name": "python"
    }
  },
  "cells": [
    {
      "cell_type": "markdown",
      "metadata": {
        "id": "view-in-github",
        "colab_type": "text"
      },
      "source": [
        "<a href=\"https://colab.research.google.com/github/babaroscopy/colab/blob/main/Apriori.ipynb\" target=\"_parent\"><img src=\"https://colab.research.google.com/assets/colab-badge.svg\" alt=\"Open In Colab\"/></a>"
      ]
    },
    {
      "cell_type": "code",
      "metadata": {
        "id": "0oCj1QllhOwJ"
      },
      "source": [
        "import pandas as pd\n",
        "import itertools"
      ],
      "execution_count": 1,
      "outputs": []
    },
    {
      "cell_type": "code",
      "metadata": {
        "id": "hlwkEl0rhVQR"
      },
      "source": [
        "data = pd.read_csv('GroceryStoreDataSet.csv')"
      ],
      "execution_count": 2,
      "outputs": []
    },
    {
      "cell_type": "code",
      "metadata": {
        "id": "wtcgB5xrhde0"
      },
      "source": [
        "minimum_support_count = 2\n",
        "records = []\n",
        "for i in range(0, 20):\n",
        "    records.append([str(data.values[i,j]) for j in range(0, 4)])\n",
        "items = sorted([item for sublist in records for item in sublist if item != 'nan'])"
      ],
      "execution_count": 3,
      "outputs": []
    },
    {
      "cell_type": "code",
      "metadata": {
        "id": "_hs93aIFhjEa"
      },
      "source": [
        "def stage_1(items, minimum_support_count):\n",
        "    c1 = {i:items.count(i) for i in items}\n",
        "    l1 = {}\n",
        "    for key, value in c1.items():\n",
        "        if value >= minimum_support_count:\n",
        "           l1[key] = value \n",
        "    \n",
        "    return c1, l1\n",
        "c1, l1 = stage_1(items, minimum_support_count)"
      ],
      "execution_count": 4,
      "outputs": []
    },
    {
      "cell_type": "code",
      "metadata": {
        "id": "TGxGrSggi2sS"
      },
      "source": [
        "def sublist(lst1, lst2):\n",
        "    return set(lst1) <= set(lst2)"
      ],
      "execution_count": 5,
      "outputs": []
    },
    {
      "cell_type": "code",
      "metadata": {
        "id": "XbtQAwI3hsK6"
      },
      "source": [
        "def check_subset_frequency(itemset, l, n):\n",
        "    if n>1:    \n",
        "        subsets = list(itertools.combinations(itemset, n))\n",
        "    else:\n",
        "        subsets = itemset\n",
        "    for iter1 in subsets:\n",
        "        if not iter1 in l:\n",
        "            return False\n",
        "    return True"
      ],
      "execution_count": 6,
      "outputs": []
    },
    {
      "cell_type": "code",
      "metadata": {
        "id": "96ThidRShoDO"
      },
      "source": [
        "def stage_2(l1, records, minimum_support_count):\n",
        "    l1 = sorted(list(l1.keys()))\n",
        "    L1 = list(itertools.combinations(l1, 2))\n",
        "    c2 = {}\n",
        "    l2 = {}\n",
        "    for iter1 in L1:\n",
        "        count = 0\n",
        "        for iter2 in records:\n",
        "            if sublist(iter1, iter2):\n",
        "                count+=1\n",
        "        c2[iter1] = count\n",
        "    for key, value in c2.items():\n",
        "        if value >= minimum_support_count:\n",
        "            if check_subset_frequency(key, l1, 1):\n",
        "                l2[key] = value \n",
        "    \n",
        "    return c2, l2\n",
        "c2, l2 = stage_2(l1, records, minimum_support_count)"
      ],
      "execution_count": 7,
      "outputs": []
    },
    {
      "cell_type": "code",
      "metadata": {
        "id": "uq5qZ_PGhvQX"
      },
      "source": [
        "def stage_3(l2, records, minimum_support_count):\n",
        "    l2 = list(l2.keys())\n",
        "    L2 = sorted(list(set([item for t in l2 for item in t])))\n",
        "    L2 = list(itertools.combinations(L2, 3))\n",
        "    c3 = {}\n",
        "    l3 = {}\n",
        "    for iter1 in L2:\n",
        "        count = 0\n",
        "        for iter2 in records:\n",
        "            if sublist(iter1, iter2):\n",
        "                count+=1\n",
        "        c3[iter1] = count\n",
        "    for key, value in c3.items():\n",
        "        if value >= minimum_support_count:\n",
        "            if check_subset_frequency(key, l2, 2):\n",
        "                l3[key] = value \n",
        "        \n",
        "    return c3, l3\n",
        "c3, l3 = stage_3(l2, records, minimum_support_count)"
      ],
      "execution_count": 8,
      "outputs": []
    },
    {
      "cell_type": "code",
      "metadata": {
        "id": "E0krfGILhyN2"
      },
      "source": [
        "def stage_4(l3, records, minimum_support_count):\n",
        "    l3 = list(l3.keys())\n",
        "    L3 = sorted(list(set([item for t in l3 for item in t])))\n",
        "    L3 = list(itertools.combinations(L3, 4))\n",
        "    c4 = {}\n",
        "    l4 = {}\n",
        "    for iter1 in L3:\n",
        "        count = 0\n",
        "        for iter2 in records:\n",
        "            if sublist(iter1, iter2):\n",
        "                count+=1\n",
        "        c4[iter1] = count\n",
        "    for key, value in c4.items():\n",
        "        if value >= minimum_support_count:\n",
        "            if check_subset_frequency(key, l3, 3):\n",
        "                l4[key] = value \n",
        "        \n",
        "    return c4, l4\n",
        "c4, l4 = stage_4(l3, records, minimum_support_count)"
      ],
      "execution_count": 9,
      "outputs": []
    },
    {
      "cell_type": "code",
      "metadata": {
        "colab": {
          "base_uri": "https://localhost:8080/"
        },
        "id": "BR7utFQciKWy",
        "outputId": "86e79ce7-934c-45a3-f602-6116b0b87bcd"
      },
      "source": [
        "c1, l1 = stage_1(items, minimum_support_count)\n",
        "c2, l2 = stage_2(l1, records, minimum_support_count)\n",
        "c3, l3 = stage_3(l2, records, minimum_support_count)\n",
        "c4, l4 = stage_4(l3, records, minimum_support_count)\n",
        "print(\"L1 => \", l1)\n",
        "print(\"L2 => \", l2)\n",
        "print(\"L3 => \", l3)\n",
        "print(\"L4 => \", l4)"
      ],
      "execution_count": 10,
      "outputs": [
        {
          "output_type": "stream",
          "name": "stdout",
          "text": [
            "L1 =>  {'BISCUIT': 7, 'BOURNVITA': 4, 'BREAD': 13, 'COCK': 3, 'COFFEE': 8, 'CORNFLAKES': 6, 'JAM': 2, 'MAGGI': 5, 'MILK': 5, 'SUGER': 6, 'TEA': 7}\n",
            "L2 =>  {('BISCUIT', 'BREAD'): 4, ('BISCUIT', 'COCK'): 2, ('BISCUIT', 'COFFEE'): 2, ('BISCUIT', 'CORNFLAKES'): 3, ('BISCUIT', 'MAGGI'): 2, ('BISCUIT', 'MILK'): 2, ('BISCUIT', 'TEA'): 2, ('BOURNVITA', 'BREAD'): 3, ('BOURNVITA', 'SUGER'): 2, ('BOURNVITA', 'TEA'): 2, ('BREAD', 'COFFEE'): 3, ('BREAD', 'JAM'): 2, ('BREAD', 'MAGGI'): 3, ('BREAD', 'MILK'): 4, ('BREAD', 'SUGER'): 4, ('BREAD', 'TEA'): 4, ('COCK', 'COFFEE'): 3, ('COCK', 'CORNFLAKES'): 2, ('COFFEE', 'CORNFLAKES'): 4, ('COFFEE', 'SUGER'): 4, ('CORNFLAKES', 'MILK'): 2, ('CORNFLAKES', 'TEA'): 2, ('JAM', 'MAGGI'): 2, ('MAGGI', 'TEA'): 4}\n",
            "L3 =>  {('BISCUIT', 'BREAD', 'MILK'): 2, ('BISCUIT', 'COCK', 'COFFEE'): 2, ('BISCUIT', 'COCK', 'CORNFLAKES'): 2, ('BISCUIT', 'COFFEE', 'CORNFLAKES'): 2, ('BISCUIT', 'MAGGI', 'TEA'): 2, ('BOURNVITA', 'BREAD', 'TEA'): 2, ('BREAD', 'COFFEE', 'SUGER'): 2, ('BREAD', 'JAM', 'MAGGI'): 2, ('BREAD', 'MAGGI', 'TEA'): 2, ('COCK', 'COFFEE', 'CORNFLAKES'): 2}\n",
            "L4 =>  {('BISCUIT', 'COCK', 'COFFEE', 'CORNFLAKES'): 2}\n"
          ]
        }
      ]
    },
    {
      "cell_type": "code",
      "metadata": {
        "id": "BkMfaXo9iRKO"
      },
      "source": [
        "itemlist = {**l1, **l2, **l3, **l4}\n",
        "\n",
        "def support_count(itemset, itemlist):\n",
        "    return itemlist[itemset]"
      ],
      "execution_count": 11,
      "outputs": []
    },
    {
      "cell_type": "code",
      "metadata": {
        "id": "FsMvTjEGiR-F"
      },
      "source": [
        "sets = []\n",
        "for iter1 in list(l3.keys()):\n",
        "    subsets = list(itertools.combinations(iter1, 2))\n",
        "    sets.append(subsets)"
      ],
      "execution_count": 12,
      "outputs": []
    },
    {
      "cell_type": "code",
      "metadata": {
        "colab": {
          "base_uri": "https://localhost:8080/"
        },
        "id": "bfQZjTC8iVmO",
        "outputId": "6c57f2fd-3985-470d-b480-c756b8078b5d"
      },
      "source": [
        "list_l3 = list(l3.keys())\n",
        "for i in range(0, len(list_l3)):\n",
        "    for iter1 in sets[i]:\n",
        "        a = iter1\n",
        "        b = set(list_l3[i]) - set(iter1)\n",
        "        confidence = (support_count(list_l3[i], itemlist)/support_count(iter1, itemlist))*100\n",
        "        print(\"Confidence{}->{} = \".format(a,b), confidence)"
      ],
      "execution_count": 13,
      "outputs": [
        {
          "output_type": "stream",
          "name": "stdout",
          "text": [
            "Confidence('BISCUIT', 'BREAD')->{'MILK'} =  50.0\n",
            "Confidence('BISCUIT', 'MILK')->{'BREAD'} =  100.0\n",
            "Confidence('BREAD', 'MILK')->{'BISCUIT'} =  50.0\n",
            "Confidence('BISCUIT', 'COCK')->{'COFFEE'} =  100.0\n",
            "Confidence('BISCUIT', 'COFFEE')->{'COCK'} =  100.0\n",
            "Confidence('COCK', 'COFFEE')->{'BISCUIT'} =  66.66666666666666\n",
            "Confidence('BISCUIT', 'COCK')->{'CORNFLAKES'} =  100.0\n",
            "Confidence('BISCUIT', 'CORNFLAKES')->{'COCK'} =  66.66666666666666\n",
            "Confidence('COCK', 'CORNFLAKES')->{'BISCUIT'} =  100.0\n",
            "Confidence('BISCUIT', 'COFFEE')->{'CORNFLAKES'} =  100.0\n",
            "Confidence('BISCUIT', 'CORNFLAKES')->{'COFFEE'} =  66.66666666666666\n",
            "Confidence('COFFEE', 'CORNFLAKES')->{'BISCUIT'} =  50.0\n",
            "Confidence('BISCUIT', 'MAGGI')->{'TEA'} =  100.0\n",
            "Confidence('BISCUIT', 'TEA')->{'MAGGI'} =  100.0\n",
            "Confidence('MAGGI', 'TEA')->{'BISCUIT'} =  50.0\n",
            "Confidence('BOURNVITA', 'BREAD')->{'TEA'} =  66.66666666666666\n",
            "Confidence('BOURNVITA', 'TEA')->{'BREAD'} =  100.0\n",
            "Confidence('BREAD', 'TEA')->{'BOURNVITA'} =  50.0\n",
            "Confidence('BREAD', 'COFFEE')->{'SUGER'} =  66.66666666666666\n",
            "Confidence('BREAD', 'SUGER')->{'COFFEE'} =  50.0\n",
            "Confidence('COFFEE', 'SUGER')->{'BREAD'} =  50.0\n",
            "Confidence('BREAD', 'JAM')->{'MAGGI'} =  100.0\n",
            "Confidence('BREAD', 'MAGGI')->{'JAM'} =  66.66666666666666\n",
            "Confidence('JAM', 'MAGGI')->{'BREAD'} =  100.0\n",
            "Confidence('BREAD', 'MAGGI')->{'TEA'} =  66.66666666666666\n",
            "Confidence('BREAD', 'TEA')->{'MAGGI'} =  50.0\n",
            "Confidence('MAGGI', 'TEA')->{'BREAD'} =  50.0\n",
            "Confidence('COCK', 'COFFEE')->{'CORNFLAKES'} =  66.66666666666666\n",
            "Confidence('COCK', 'CORNFLAKES')->{'COFFEE'} =  100.0\n",
            "Confidence('COFFEE', 'CORNFLAKES')->{'COCK'} =  50.0\n"
          ]
        }
      ]
    },
    {
      "cell_type": "code",
      "metadata": {
        "colab": {
          "base_uri": "https://localhost:8080/"
        },
        "id": "OuYzkaLljhTc",
        "outputId": "94a151a6-5a64-43f9-a29e-50803a12333e"
      },
      "source": [
        "list_l4 = list(l4.keys())\n",
        "for i in range(0, len(list_l4)):\n",
        "    for iter1 in sets[i]:\n",
        "        a = iter1\n",
        "        b = set(list_l4[i]) - set(iter1)\n",
        "        confidence = (support_count(list_l4[i], itemlist)/support_count(iter1, itemlist))*100\n",
        "        print(\"Confidence{}->{} = \".format(a,b), confidence)"
      ],
      "execution_count": 14,
      "outputs": [
        {
          "output_type": "stream",
          "name": "stdout",
          "text": [
            "Confidence('BISCUIT', 'BREAD')->{'CORNFLAKES', 'COFFEE', 'COCK'} =  50.0\n",
            "Confidence('BISCUIT', 'MILK')->{'CORNFLAKES', 'COFFEE', 'COCK'} =  100.0\n",
            "Confidence('BREAD', 'MILK')->{'BISCUIT', 'CORNFLAKES', 'COFFEE', 'COCK'} =  50.0\n"
          ]
        }
      ]
    }
  ]
}