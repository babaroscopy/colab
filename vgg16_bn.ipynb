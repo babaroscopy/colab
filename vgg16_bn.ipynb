{
  "nbformat": 4,
  "nbformat_minor": 0,
  "metadata": {
    "colab": {
      "name": "vgg16_bn.ipynb",
      "provenance": [],
      "collapsed_sections": [],
      "authorship_tag": "ABX9TyMUttXyHY0tvFcTMM4FJhKE",
      "include_colab_link": true
    },
    "kernelspec": {
      "name": "python3",
      "display_name": "Python 3"
    },
    "language_info": {
      "name": "python"
    },
    "accelerator": "GPU",
    "widgets": {
      "application/vnd.jupyter.widget-state+json": {
        "3d81cd686883489c8070598e4e3f9da0": {
          "model_module": "@jupyter-widgets/controls",
          "model_name": "HBoxModel",
          "model_module_version": "1.5.0",
          "state": {
            "_view_name": "HBoxView",
            "_dom_classes": [],
            "_model_name": "HBoxModel",
            "_view_module": "@jupyter-widgets/controls",
            "_model_module_version": "1.5.0",
            "_view_count": null,
            "_view_module_version": "1.5.0",
            "box_style": "",
            "layout": "IPY_MODEL_1a4d19e9556b436daf63073fa869cb9c",
            "_model_module": "@jupyter-widgets/controls",
            "children": [
              "IPY_MODEL_d2ffabb25e9a41c5ae821d71d7e2bf38",
              "IPY_MODEL_df1a28681d984cae8f38853ad046a023",
              "IPY_MODEL_eb54d2adf5d24842b24cce4fff98c9da"
            ]
          }
        },
        "1a4d19e9556b436daf63073fa869cb9c": {
          "model_module": "@jupyter-widgets/base",
          "model_name": "LayoutModel",
          "model_module_version": "1.2.0",
          "state": {
            "_view_name": "LayoutView",
            "grid_template_rows": null,
            "right": null,
            "justify_content": null,
            "_view_module": "@jupyter-widgets/base",
            "overflow": null,
            "_model_module_version": "1.2.0",
            "_view_count": null,
            "flex_flow": null,
            "width": null,
            "min_width": null,
            "border": null,
            "align_items": null,
            "bottom": null,
            "_model_module": "@jupyter-widgets/base",
            "top": null,
            "grid_column": null,
            "overflow_y": null,
            "overflow_x": null,
            "grid_auto_flow": null,
            "grid_area": null,
            "grid_template_columns": null,
            "flex": null,
            "_model_name": "LayoutModel",
            "justify_items": null,
            "grid_row": null,
            "max_height": null,
            "align_content": null,
            "visibility": null,
            "align_self": null,
            "height": null,
            "min_height": null,
            "padding": null,
            "grid_auto_rows": null,
            "grid_gap": null,
            "max_width": null,
            "order": null,
            "_view_module_version": "1.2.0",
            "grid_template_areas": null,
            "object_position": null,
            "object_fit": null,
            "grid_auto_columns": null,
            "margin": null,
            "display": null,
            "left": null
          }
        },
        "d2ffabb25e9a41c5ae821d71d7e2bf38": {
          "model_module": "@jupyter-widgets/controls",
          "model_name": "HTMLModel",
          "model_module_version": "1.5.0",
          "state": {
            "_view_name": "HTMLView",
            "style": "IPY_MODEL_e725eaf309834d69b09b4eb5607efcd4",
            "_dom_classes": [],
            "description": "",
            "_model_name": "HTMLModel",
            "placeholder": "​",
            "_view_module": "@jupyter-widgets/controls",
            "_model_module_version": "1.5.0",
            "value": "100%",
            "_view_count": null,
            "_view_module_version": "1.5.0",
            "description_tooltip": null,
            "_model_module": "@jupyter-widgets/controls",
            "layout": "IPY_MODEL_40516eeeaced43859b420b97009a6f6d"
          }
        },
        "df1a28681d984cae8f38853ad046a023": {
          "model_module": "@jupyter-widgets/controls",
          "model_name": "FloatProgressModel",
          "model_module_version": "1.5.0",
          "state": {
            "_view_name": "ProgressView",
            "style": "IPY_MODEL_8e37b172f88442eeb1b19503dc25c2c2",
            "_dom_classes": [],
            "description": "",
            "_model_name": "FloatProgressModel",
            "bar_style": "success",
            "max": 553507836,
            "_view_module": "@jupyter-widgets/controls",
            "_model_module_version": "1.5.0",
            "value": 553507836,
            "_view_count": null,
            "_view_module_version": "1.5.0",
            "orientation": "horizontal",
            "min": 0,
            "description_tooltip": null,
            "_model_module": "@jupyter-widgets/controls",
            "layout": "IPY_MODEL_35369aa440f246deab43758e510a0c07"
          }
        },
        "eb54d2adf5d24842b24cce4fff98c9da": {
          "model_module": "@jupyter-widgets/controls",
          "model_name": "HTMLModel",
          "model_module_version": "1.5.0",
          "state": {
            "_view_name": "HTMLView",
            "style": "IPY_MODEL_754763689ae84b7b879ff78d11c5ec4e",
            "_dom_classes": [],
            "description": "",
            "_model_name": "HTMLModel",
            "placeholder": "​",
            "_view_module": "@jupyter-widgets/controls",
            "_model_module_version": "1.5.0",
            "value": " 528M/528M [00:11&lt;00:00, 47.3MB/s]",
            "_view_count": null,
            "_view_module_version": "1.5.0",
            "description_tooltip": null,
            "_model_module": "@jupyter-widgets/controls",
            "layout": "IPY_MODEL_2bbbd2c33d72416dbc35a4bbe467049e"
          }
        },
        "e725eaf309834d69b09b4eb5607efcd4": {
          "model_module": "@jupyter-widgets/controls",
          "model_name": "DescriptionStyleModel",
          "model_module_version": "1.5.0",
          "state": {
            "_view_name": "StyleView",
            "_model_name": "DescriptionStyleModel",
            "description_width": "",
            "_view_module": "@jupyter-widgets/base",
            "_model_module_version": "1.5.0",
            "_view_count": null,
            "_view_module_version": "1.2.0",
            "_model_module": "@jupyter-widgets/controls"
          }
        },
        "40516eeeaced43859b420b97009a6f6d": {
          "model_module": "@jupyter-widgets/base",
          "model_name": "LayoutModel",
          "model_module_version": "1.2.0",
          "state": {
            "_view_name": "LayoutView",
            "grid_template_rows": null,
            "right": null,
            "justify_content": null,
            "_view_module": "@jupyter-widgets/base",
            "overflow": null,
            "_model_module_version": "1.2.0",
            "_view_count": null,
            "flex_flow": null,
            "width": null,
            "min_width": null,
            "border": null,
            "align_items": null,
            "bottom": null,
            "_model_module": "@jupyter-widgets/base",
            "top": null,
            "grid_column": null,
            "overflow_y": null,
            "overflow_x": null,
            "grid_auto_flow": null,
            "grid_area": null,
            "grid_template_columns": null,
            "flex": null,
            "_model_name": "LayoutModel",
            "justify_items": null,
            "grid_row": null,
            "max_height": null,
            "align_content": null,
            "visibility": null,
            "align_self": null,
            "height": null,
            "min_height": null,
            "padding": null,
            "grid_auto_rows": null,
            "grid_gap": null,
            "max_width": null,
            "order": null,
            "_view_module_version": "1.2.0",
            "grid_template_areas": null,
            "object_position": null,
            "object_fit": null,
            "grid_auto_columns": null,
            "margin": null,
            "display": null,
            "left": null
          }
        },
        "8e37b172f88442eeb1b19503dc25c2c2": {
          "model_module": "@jupyter-widgets/controls",
          "model_name": "ProgressStyleModel",
          "model_module_version": "1.5.0",
          "state": {
            "_view_name": "StyleView",
            "_model_name": "ProgressStyleModel",
            "description_width": "",
            "_view_module": "@jupyter-widgets/base",
            "_model_module_version": "1.5.0",
            "_view_count": null,
            "_view_module_version": "1.2.0",
            "bar_color": null,
            "_model_module": "@jupyter-widgets/controls"
          }
        },
        "35369aa440f246deab43758e510a0c07": {
          "model_module": "@jupyter-widgets/base",
          "model_name": "LayoutModel",
          "model_module_version": "1.2.0",
          "state": {
            "_view_name": "LayoutView",
            "grid_template_rows": null,
            "right": null,
            "justify_content": null,
            "_view_module": "@jupyter-widgets/base",
            "overflow": null,
            "_model_module_version": "1.2.0",
            "_view_count": null,
            "flex_flow": null,
            "width": null,
            "min_width": null,
            "border": null,
            "align_items": null,
            "bottom": null,
            "_model_module": "@jupyter-widgets/base",
            "top": null,
            "grid_column": null,
            "overflow_y": null,
            "overflow_x": null,
            "grid_auto_flow": null,
            "grid_area": null,
            "grid_template_columns": null,
            "flex": null,
            "_model_name": "LayoutModel",
            "justify_items": null,
            "grid_row": null,
            "max_height": null,
            "align_content": null,
            "visibility": null,
            "align_self": null,
            "height": null,
            "min_height": null,
            "padding": null,
            "grid_auto_rows": null,
            "grid_gap": null,
            "max_width": null,
            "order": null,
            "_view_module_version": "1.2.0",
            "grid_template_areas": null,
            "object_position": null,
            "object_fit": null,
            "grid_auto_columns": null,
            "margin": null,
            "display": null,
            "left": null
          }
        },
        "754763689ae84b7b879ff78d11c5ec4e": {
          "model_module": "@jupyter-widgets/controls",
          "model_name": "DescriptionStyleModel",
          "model_module_version": "1.5.0",
          "state": {
            "_view_name": "StyleView",
            "_model_name": "DescriptionStyleModel",
            "description_width": "",
            "_view_module": "@jupyter-widgets/base",
            "_model_module_version": "1.5.0",
            "_view_count": null,
            "_view_module_version": "1.2.0",
            "_model_module": "@jupyter-widgets/controls"
          }
        },
        "2bbbd2c33d72416dbc35a4bbe467049e": {
          "model_module": "@jupyter-widgets/base",
          "model_name": "LayoutModel",
          "model_module_version": "1.2.0",
          "state": {
            "_view_name": "LayoutView",
            "grid_template_rows": null,
            "right": null,
            "justify_content": null,
            "_view_module": "@jupyter-widgets/base",
            "overflow": null,
            "_model_module_version": "1.2.0",
            "_view_count": null,
            "flex_flow": null,
            "width": null,
            "min_width": null,
            "border": null,
            "align_items": null,
            "bottom": null,
            "_model_module": "@jupyter-widgets/base",
            "top": null,
            "grid_column": null,
            "overflow_y": null,
            "overflow_x": null,
            "grid_auto_flow": null,
            "grid_area": null,
            "grid_template_columns": null,
            "flex": null,
            "_model_name": "LayoutModel",
            "justify_items": null,
            "grid_row": null,
            "max_height": null,
            "align_content": null,
            "visibility": null,
            "align_self": null,
            "height": null,
            "min_height": null,
            "padding": null,
            "grid_auto_rows": null,
            "grid_gap": null,
            "max_width": null,
            "order": null,
            "_view_module_version": "1.2.0",
            "grid_template_areas": null,
            "object_position": null,
            "object_fit": null,
            "grid_auto_columns": null,
            "margin": null,
            "display": null,
            "left": null
          }
        }
      }
    }
  },
  "cells": [
    {
      "cell_type": "markdown",
      "metadata": {
        "id": "view-in-github",
        "colab_type": "text"
      },
      "source": [
        "<a href=\"https://colab.research.google.com/github/babaroscopy/colab/blob/main/vgg16_bn.ipynb\" target=\"_parent\"><img src=\"https://colab.research.google.com/assets/colab-badge.svg\" alt=\"Open In Colab\"/></a>"
      ]
    },
    {
      "cell_type": "code",
      "execution_count": 1,
      "metadata": {
        "colab": {
          "base_uri": "https://localhost:8080/"
        },
        "id": "gNJE7b3tCZti",
        "outputId": "6b0f04d9-d134-4256-f821-3c6b02ee4fe9"
      },
      "outputs": [
        {
          "output_type": "stream",
          "name": "stdout",
          "text": [
            "Cloning into 'Ensemble-Pneumonia-Detection'...\n",
            "remote: Enumerating objects: 85, done.\u001b[K\n",
            "remote: Counting objects: 100% (85/85), done.\u001b[K\n",
            "remote: Compressing objects: 100% (84/84), done.\u001b[K\n",
            "remote: Total 85 (delta 50), reused 0 (delta 0), pack-reused 0\u001b[K\n",
            "Unpacking objects: 100% (85/85), done.\n"
          ]
        }
      ],
      "source": [
        "!git clone https://github.com/Rohit-Kundu/Ensemble-Pneumonia-Detection.git"
      ]
    },
    {
      "cell_type": "code",
      "source": [
        "!pip install -r Ensemble-Pneumonia-Detection/requirements.txt"
      ],
      "metadata": {
        "colab": {
          "base_uri": "https://localhost:8080/"
        },
        "id": "r-F1aStjDA1D",
        "outputId": "02babb5f-c683-4148-83c0-e9dc4afc1da1"
      },
      "execution_count": 2,
      "outputs": [
        {
          "output_type": "stream",
          "name": "stdout",
          "text": [
            "Requirement already satisfied: pandas==1.1.5 in /usr/local/lib/python3.7/dist-packages (from -r Ensemble-Pneumonia-Detection/requirements.txt (line 1)) (1.1.5)\n",
            "\u001b[31mERROR: Could not find a version that satisfies the requirement torch==1.9.0+cu102 (from versions: 0.4.1, 0.4.1.post2, 1.0.0, 1.0.1, 1.0.1.post2, 1.1.0, 1.2.0, 1.3.0, 1.3.1, 1.4.0, 1.5.0, 1.5.1, 1.6.0, 1.7.0, 1.7.1, 1.8.0, 1.8.1, 1.9.0, 1.9.1, 1.10.0)\u001b[0m\n",
            "\u001b[31mERROR: No matching distribution found for torch==1.9.0+cu102\u001b[0m\n"
          ]
        }
      ]
    },
    {
      "cell_type": "code",
      "source": [
        "from google.colab import files"
      ],
      "metadata": {
        "id": "UOE6fdR-DDFu"
      },
      "execution_count": 3,
      "outputs": []
    },
    {
      "cell_type": "code",
      "source": [
        "from google.colab import drive\n",
        "drive.mount('/content/gdrive')"
      ],
      "metadata": {
        "colab": {
          "base_uri": "https://localhost:8080/"
        },
        "id": "7BA1B_QpDIK5",
        "outputId": "d121fad3-7314-4b1d-d3b3-595b8addb132"
      },
      "execution_count": 4,
      "outputs": [
        {
          "output_type": "stream",
          "name": "stdout",
          "text": [
            "Mounted at /content/gdrive\n"
          ]
        }
      ]
    },
    {
      "cell_type": "code",
      "source": [
        "import os\n",
        "os.environ['KAGGLE_CONFIG_DIR'] = \"/content/gdrive/My Drive/Kaggle\""
      ],
      "metadata": {
        "id": "P2OLL70dDLTO"
      },
      "execution_count": 5,
      "outputs": []
    },
    {
      "cell_type": "code",
      "source": [
        "#changing the working directory\n",
        "%cd /content/gdrive/My Drive/Kaggle"
      ],
      "metadata": {
        "colab": {
          "base_uri": "https://localhost:8080/"
        },
        "id": "2ZMFbM3KDQ68",
        "outputId": "3c5dcbc8-1d23-4d10-af3e-51c2490ad9df"
      },
      "execution_count": 6,
      "outputs": [
        {
          "output_type": "stream",
          "name": "stdout",
          "text": [
            "/content/gdrive/My Drive/Kaggle\n"
          ]
        }
      ]
    },
    {
      "cell_type": "code",
      "source": [
        "ls"
      ],
      "metadata": {
        "colab": {
          "base_uri": "https://localhost:8080/"
        },
        "id": "cR4kUgFNDRTY",
        "outputId": "26cbc8eb-801c-49a5-c2c8-65fe4a3fb1a8"
      },
      "execution_count": 7,
      "outputs": [
        {
          "output_type": "stream",
          "name": "stdout",
          "text": [
            "chest-xray-pneumonia.zip  flickr8k.zip  kaggle.json\n"
          ]
        }
      ]
    },
    {
      "cell_type": "code",
      "source": [
        "# Location of Zip File\n",
        "drive_path = '/content/gdrive/My Drive/Kaggle/chest-xray-pneumonia.zip'\n",
        "local_path = '/content'\n",
        "\n",
        "# Copy the zip file and move it up one level (AKA out of the drive folder)\n",
        "!cp '{drive_path}' .\n",
        "\n",
        "# Navigate to the copied file and unzip it quietly\n",
        "os.chdir(local_path)\n",
        "!unzip -q 'chest-xray-pneumonia.zip'"
      ],
      "metadata": {
        "id": "j7aRvmPEDT9m"
      },
      "execution_count": 9,
      "outputs": []
    },
    {
      "cell_type": "code",
      "source": [
        "!cp -r chest_xray/chest_xray/ Ensemble-Pneumonia-Detection/data/"
      ],
      "metadata": {
        "id": "RDLbAQ37DXu2"
      },
      "execution_count": 10,
      "outputs": []
    },
    {
      "cell_type": "code",
      "source": [
        "!cp -r Ensemble-Pneumonia-Detection/data/test/NORMAL/*.jpeg Ensemble-Pneumonia-Detection/data/val/NORMAL/\n",
        "!cp -r Ensemble-Pneumonia-Detection/data/test/PNEUMONIA/*.jpeg Ensemble-Pneumonia-Detection/data/val/PNEUMONIA/"
      ],
      "metadata": {
        "id": "xfv1ewsHDcv0"
      },
      "execution_count": 11,
      "outputs": []
    },
    {
      "cell_type": "code",
      "source": [
        "import torch\n",
        "import torch.nn as nn\n",
        "import torch.optim as optim\n",
        "from torch.optim import lr_scheduler\n",
        "import numpy as np\n",
        "import torchvision\n",
        "from torchvision import datasets, models, transforms\n",
        "import matplotlib.pyplot as plt\n",
        "import time\n",
        "import os\n",
        "import copy\n",
        "import csv\n",
        "import numpy as np\n",
        "import pandas as pd\n",
        "from sklearn.metrics import *\n",
        "import math\n",
        "#import scikitplot as skplt "
      ],
      "metadata": {
        "id": "d3jlY8AGDogM"
      },
      "execution_count": 12,
      "outputs": []
    },
    {
      "cell_type": "code",
      "source": [
        "mean = np.array([0.485, 0.456, 0.406])\n",
        "std = np.array([0.229, 0.224, 0.225])\n",
        "\n",
        "data_transforms = {\n",
        "    'train': transforms.Compose([\n",
        "        transforms.Resize((224,224)),\n",
        "        transforms.ToTensor(),\n",
        "        transforms.Normalize(mean, std)\n",
        "    ]),\n",
        "    'val': transforms.Compose([\n",
        "        transforms.Resize((224,224)),\n",
        "        transforms.ToTensor(),\n",
        "        transforms.Normalize(mean, std)\n",
        "    ]),\n",
        "}\n",
        "\n",
        "data_dir = \"Ensemble-Pneumonia-Detection/data\"\n",
        "\n",
        "image_datasets = {x: datasets.ImageFolder(os.path.join(data_dir, x), data_transforms[x]) for x in ['train', 'val']}\n",
        "dataloaders = {x: torch.utils.data.DataLoader(image_datasets[x], batch_size=16, shuffle=True, num_workers=2) for x in ['train', 'val']}\n",
        "\n",
        "dataset_sizes = {x: len(image_datasets[x]) for x in ['train', 'val']}\n",
        "class_names = image_datasets['train'].classes\n",
        "num_classes = len(class_names)\n",
        "\n",
        "device = torch.device(\"cuda:0\" if torch.cuda.is_available() else \"cpu\")\n",
        "print(class_names)"
      ],
      "metadata": {
        "colab": {
          "base_uri": "https://localhost:8080/"
        },
        "id": "D0AJNvdCDtJw",
        "outputId": "01ffa7bd-f729-416a-89fa-04160c0e92ab"
      },
      "execution_count": 13,
      "outputs": [
        {
          "output_type": "stream",
          "name": "stdout",
          "text": [
            "['NORMAL', 'PNEUMONIA']\n"
          ]
        }
      ]
    },
    {
      "cell_type": "code",
      "source": [
        "def imshow(inp, title):\n",
        "    \"\"\"Imshow for Tensor.\"\"\"\n",
        "    inp = inp.numpy().transpose((1, 2, 0))\n",
        "    inp = std * inp + mean\n",
        "    inp = np.clip(inp, 0, 1)\n",
        "    plt.imshow(inp)\n",
        "    plt.title(title)\n",
        "    plt.show()"
      ],
      "metadata": {
        "id": "m2ZdZW5kDxMq"
      },
      "execution_count": 14,
      "outputs": []
    },
    {
      "cell_type": "code",
      "source": [
        "# Get a batch of training data\n",
        "inputs, classes = next(iter(dataloaders['train']))\n",
        "\n",
        "# Make a grid from batch\n",
        "out = torchvision.utils.make_grid(inputs)\n",
        "\n",
        "imshow(out, title=[class_names[x] for x in classes])"
      ],
      "metadata": {
        "colab": {
          "base_uri": "https://localhost:8080/",
          "height": 109
        },
        "id": "4v0uhEvuDzR7",
        "outputId": "1d231948-d291-48b1-aa0a-7148a92a8c9a"
      },
      "execution_count": 15,
      "outputs": [
        {
          "output_type": "display_data",
          "data": {
            "image/png": "[encoded data removed]",
            "text/plain": [
              "<Figure size 432x288 with 1 Axes>"
            ]
          },
          "metadata": {
            "needs_background": "light"
          }
        }
      ]
    },
    {
      "cell_type": "code",
      "source": [
        "def plot(val_loss,train_loss,typ):\n",
        "    plt.title(\"{} after epoch: {}\".format(typ,len(train_loss)))\n",
        "    plt.xlabel(\"Epoch\")\n",
        "    plt.ylabel(typ)\n",
        "    plt.plot(list(range(len(train_loss))),train_loss,color=\"r\",label=\"Train \"+typ)\n",
        "    plt.plot(list(range(len(val_loss))),val_loss,color=\"b\",label=\"Validation \"+typ)\n",
        "    plt.legend()\n",
        "    plt.show()\n",
        "    plt.savefig(os.path.join(data_dir,typ+\".png\"))\n",
        "    plt.close()"
      ],
      "metadata": {
        "id": "FrjDEWndD3XR"
      },
      "execution_count": 16,
      "outputs": []
    },
    {
      "cell_type": "code",
      "source": [
        "val_loss_gph=[]\n",
        "train_loss_gph=[]\n",
        "val_acc_gph=[]\n",
        "train_acc_gph=[]\n",
        "\n",
        "def train_model(model, criterion, optimizer, scheduler, num_epochs=25,model_name = \"kaggle\"):\n",
        "    since = time.time()\n",
        "\n",
        "    best_model_wts = copy.deepcopy(model.state_dict())\n",
        "    best_acc = 0.0\n",
        "\n",
        "    for epoch in range(num_epochs):\n",
        "        print('Epoch {}/{}'.format(epoch+1, num_epochs))\n",
        "        print('-' * 10)\n",
        "\n",
        "        # Each epoch has a training and validation phase\n",
        "        for phase in ['train', 'val']:\n",
        "            if phase == 'train':\n",
        "                model.train()  # Set model to training mode\n",
        "            else:\n",
        "                model.eval()   # Set model to evaluate mode\n",
        "\n",
        "            running_loss = 0.0\n",
        "            running_corrects = 0\n",
        "\n",
        "            # Iterate over data.\n",
        "            for inputs, labels in dataloaders[phase]:\n",
        "                inputs = inputs.to(device)\n",
        "                labels = labels.to(device)\n",
        "\n",
        "                # forward\n",
        "                # track history if only in train\n",
        "                with torch.set_grad_enabled(phase == 'train'):\n",
        "                    outputs = model(inputs)\n",
        "                    _, preds = torch.max(outputs, 1) #was (outputs,1) for non-inception and (outputs.data,1) for inception\n",
        "                    loss = criterion(outputs, labels)\n",
        "\n",
        "                    # backward + optimize only if in training phase\n",
        "                    if phase == 'train':\n",
        "                        optimizer.zero_grad()\n",
        "                        loss.backward()\n",
        "                        optimizer.step()\n",
        "\n",
        "                # statistics\n",
        "                running_loss += loss.item() * inputs.size(0)\n",
        "                running_corrects += torch.sum(preds == labels.data)\n",
        "\n",
        "            if phase == 'train':\n",
        "                scheduler.step()\n",
        "\n",
        "            epoch_loss = running_loss / dataset_sizes[phase]\n",
        "            epoch_acc = running_corrects.double() / dataset_sizes[phase]\n",
        "\n",
        "            if phase == 'train':\n",
        "              train_loss_gph.append(epoch_loss)\n",
        "              train_acc_gph.append(epoch_acc)\n",
        "            if phase == 'val':\n",
        "              val_loss_gph.append(epoch_loss)\n",
        "              val_acc_gph.append(epoch_acc)\n",
        "            \n",
        "           # plot(val_loss_gph,train_loss_gph, \"Loss\")\n",
        "           # plot(val_acc_gph,train_acc_gph, \"Accuracy\")\n",
        "\n",
        "            print('{} Loss: {:.4f} Acc: {:.4f}'.format(\n",
        "                phase, epoch_loss, epoch_acc))\n",
        "\n",
        "            # deep copy the model\n",
        "            if phase == 'val' and epoch_acc >= best_acc:\n",
        "                best_acc = epoch_acc\n",
        "                best_model_wts = copy.deepcopy(model.state_dict())\n",
        "                torch.save(model, data_dir+\"/\"+model_name+\".h5\")\n",
        "                print('==>Model Saved')\n",
        "\n",
        "        print()\n",
        "\n",
        "    time_elapsed = time.time() - since\n",
        "    print('Training complete in {:.0f}m {:.0f}s'.format(\n",
        "        time_elapsed // 60, time_elapsed % 60))\n",
        "    print('Best val Acc: {:4f}'.format(best_acc))\n",
        "    plot(val_loss_gph,train_loss_gph, \"Loss\")\n",
        "    plot(val_acc_gph,train_acc_gph, \"Accuracy\")\n",
        "    # load best model weights\n",
        "    model.load_state_dict(best_model_wts)\n",
        "    return model"
      ],
      "metadata": {
        "id": "Qtmd19ttD4R7"
      },
      "execution_count": 17,
      "outputs": []
    },
    {
      "cell_type": "markdown",
      "source": [
        "**vgg16_bn**"
      ],
      "metadata": {
        "id": "4dc26ApNItsh"
      }
    },
    {
      "cell_type": "code",
      "source": [
        "model = models.vgg16_bn(pretrained = True)\n",
        "\n",
        "#num_ftrs = model.fc.in_features  ##for googlenet, resnet18\n",
        "num_ftrs = model.classifier[6].in_features  ## for densenet169\n",
        "print(\"Number of features: \"+str(num_ftrs))"
      ],
      "metadata": {
        "colab": {
          "base_uri": "https://localhost:8080/",
          "height": 104,
          "referenced_widgets": [
            "3d81cd686883489c8070598e4e3f9da0",
            "1a4d19e9556b436daf63073fa869cb9c",
            "d2ffabb25e9a41c5ae821d71d7e2bf38",
            "df1a28681d984cae8f38853ad046a023",
            "eb54d2adf5d24842b24cce4fff98c9da",
            "e725eaf309834d69b09b4eb5607efcd4",
            "40516eeeaced43859b420b97009a6f6d",
            "8e37b172f88442eeb1b19503dc25c2c2",
            "35369aa440f246deab43758e510a0c07",
            "754763689ae84b7b879ff78d11c5ec4e",
            "2bbbd2c33d72416dbc35a4bbe467049e"
          ]
        },
        "id": "h_Pq6VBDIv-P",
        "outputId": "a7831f73-d072-45fe-b48f-bd8fa679c10a"
      },
      "execution_count": 18,
      "outputs": [
        {
          "output_type": "stream",
          "name": "stderr",
          "text": [
            "Downloading: \"https://download.pytorch.org/models/vgg16_bn-6c64b313.pth\" to /root/.cache/torch/hub/checkpoints/vgg16_bn-6c64b313.pth\n"
          ]
        },
        {
          "output_type": "display_data",
          "data": {
            "application/vnd.jupyter.widget-view+json": {
              "model_id": "3d81cd686883489c8070598e4e3f9da0",
              "version_minor": 0,
              "version_major": 2
            },
            "text/plain": [
              "  0%|          | 0.00/528M [00:00<?, ?B/s]"
            ]
          },
          "metadata": {}
        },
        {
          "output_type": "stream",
          "name": "stdout",
          "text": [
            "Number of features: 4096\n"
          ]
        }
      ]
    },
    {
      "cell_type": "code",
      "source": [
        "#model.fc = nn.Linear(num_ftrs, num_classes)  ##for googlenet, resnet18\n",
        "model.classifier[6] = nn.Linear(num_ftrs, num_classes) ## for densenet169\n",
        "model = model.to(device)"
      ],
      "metadata": {
        "id": "UjMHBb82I3Gc"
      },
      "execution_count": 19,
      "outputs": []
    },
    {
      "cell_type": "code",
      "source": [
        "criterion = nn.CrossEntropyLoss()\n",
        "\n",
        "# Observe that all parameters are being optimized\n",
        "optimizer = optim.Adam(model.parameters(), lr=0.0001)"
      ],
      "metadata": {
        "id": "XOUkcYUiI5Mq"
      },
      "execution_count": 20,
      "outputs": []
    },
    {
      "cell_type": "code",
      "source": [
        "# StepLR Decays the learning rate of each parameter group by gamma every step_size epochs\n",
        "# Decay LR by a factor of 0.1 every 7 epochs\n",
        "# Learning rate scheduling should be applied after optimizer’s update\n",
        "# e.g., you should write your code this way:\n",
        "# for epoch in range(100):\n",
        "#     train(...)\n",
        "#     validate(...)\n",
        "#     scheduler.step()\n",
        "step_lr_scheduler = lr_scheduler.StepLR(optimizer, step_size = 10, gamma=0.1)"
      ],
      "metadata": {
        "id": "cLxAdyPXI57U"
      },
      "execution_count": 21,
      "outputs": []
    },
    {
      "cell_type": "code",
      "source": [
        "model = train_model(model, criterion, optimizer, step_lr_scheduler, num_epochs=15, model_name = \"vgg16_bn\")"
      ],
      "metadata": {
        "colab": {
          "base_uri": "https://localhost:8080/",
          "height": 1000
        },
        "id": "e7O0SJ6mI9fl",
        "outputId": "9bdd01c8-8294-4f66-b2fb-8e436264098b"
      },
      "execution_count": 22,
      "outputs": [
        {
          "output_type": "stream",
          "name": "stdout",
          "text": [
            "Epoch 1/15\n",
            "----------\n",
            "train Loss: 0.1037 Acc: 0.9592\n",
            "val Loss: 1.5959 Acc: 0.7859\n",
            "==>Model Saved\n",
            "\n",
            "Epoch 2/15\n",
            "----------\n",
            "train Loss: 0.0450 Acc: 0.9849\n",
            "val Loss: 1.3876 Acc: 0.8000\n",
            "==>Model Saved\n",
            "\n",
            "Epoch 3/15\n",
            "----------\n",
            "train Loss: 0.0284 Acc: 0.9904\n",
            "val Loss: 0.9521 Acc: 0.8547\n",
            "==>Model Saved\n",
            "\n",
            "Epoch 4/15\n",
            "----------\n",
            "train Loss: 0.0217 Acc: 0.9946\n",
            "val Loss: 4.8617 Acc: 0.6891\n",
            "\n",
            "Epoch 5/15\n",
            "----------\n",
            "train Loss: 0.0537 Acc: 0.9854\n",
            "val Loss: 1.0482 Acc: 0.7984\n",
            "\n",
            "Epoch 6/15\n",
            "----------\n",
            "train Loss: 0.0233 Acc: 0.9937\n",
            "val Loss: 1.4702 Acc: 0.8297\n",
            "\n",
            "Epoch 7/15\n",
            "----------\n",
            "train Loss: 0.0092 Acc: 0.9960\n",
            "val Loss: 2.0386 Acc: 0.7734\n",
            "\n",
            "Epoch 8/15\n",
            "----------\n",
            "train Loss: 0.0102 Acc: 0.9964\n",
            "val Loss: 3.0033 Acc: 0.7766\n",
            "\n",
            "Epoch 9/15\n",
            "----------\n",
            "train Loss: 0.0098 Acc: 0.9975\n",
            "val Loss: 2.8718 Acc: 0.8406\n",
            "\n",
            "Epoch 10/15\n",
            "----------\n",
            "train Loss: 0.0167 Acc: 0.9952\n",
            "val Loss: 1.1173 Acc: 0.8656\n",
            "==>Model Saved\n",
            "\n",
            "Epoch 11/15\n",
            "----------\n",
            "train Loss: 0.0034 Acc: 0.9985\n",
            "val Loss: 3.1420 Acc: 0.7797\n",
            "\n",
            "Epoch 12/15\n",
            "----------\n",
            "train Loss: 0.0005 Acc: 1.0000\n",
            "val Loss: 2.9701 Acc: 0.8047\n",
            "\n",
            "Epoch 13/15\n",
            "----------\n",
            "train Loss: 0.0008 Acc: 0.9996\n",
            "val Loss: 2.9999 Acc: 0.8047\n",
            "\n",
            "Epoch 14/15\n",
            "----------\n",
            "train Loss: 0.0008 Acc: 0.9996\n",
            "val Loss: 3.0430 Acc: 0.7984\n",
            "\n",
            "Epoch 15/15\n",
            "----------\n",
            "train Loss: 0.0004 Acc: 0.9998\n",
            "val Loss: 3.1867 Acc: 0.8031\n",
            "\n",
            "Training complete in 54m 33s\n",
            "Best val Acc: 0.865625\n"
          ]
        },
        {
          "output_type": "display_data",
          "data": {
            "image/png": "[encoded data removed]",
            "text/plain": [
              "<Figure size 432x288 with 1 Axes>"
            ]
          },
          "metadata": {
            "needs_background": "light"
          }
        },
        {
          "output_type": "display_data",
          "data": {
            "image/png": "[encoded data removed]",
            "text/plain": [
              "<Figure size 432x288 with 1 Axes>"
            ]
          },
          "metadata": {
            "needs_background": "light"
          }
        }
      ]
    },
    {
      "cell_type": "code",
      "source": [
        "!mkdir Ensemble-Pneumonia-Detection/train_csv\n",
        "!mkdir Ensemble-Pneumonia-Detection/test_csv\n",
        "#f = open(\"Ensemble-Pneumonia-Detection/train_csv/resnet18_train.csv\", \"x\")\n",
        "#f = open(\"Ensemble-Pneumonia-Detection/test_csv/resnet18_test.csv\", \"x\")\n",
        "#f = open(\"Ensemble-Pneumonia-Detection/train_csv/googlenet_train.csv\", \"x\")\n",
        "#f = open(\"Ensemble-Pneumonia-Detection/test_csv/googlenet_test.csv\", \"x\")\n",
        "#f = open(\"Ensemble-Pneumonia-Detection/train_csv/densenet121_train.csv\", \"x\")\n",
        "#f = open(\"Ensemble-Pneumonia-Detection/test_csv/densenet121_test.csv\", \"x\")\n",
        "f = open(\"Ensemble-Pneumonia-Detection/train_csv/vgg16_bn_train.csv\", \"x\")\n",
        "f = open(\"Ensemble-Pneumonia-Detection/test_csv/vgg16_bn_test.csv\", \"x\")\n",
        "f = open(\"Ensemble-Pneumonia-Detection/train_labels.csv\", \"x\")\n",
        "f = open(\"Ensemble-Pneumonia-Detection/test_labels.csv\", \"x\")"
      ],
      "metadata": {
        "id": "NjFVjwzrODpY"
      },
      "execution_count": 23,
      "outputs": []
    },
    {
      "cell_type": "code",
      "source": [
        "# Getting Proba distribution\n",
        "print(\"\\nGetting the Probability Distribution\")\n",
        "trainloader=torch.utils.data.DataLoader(image_datasets['train'],batch_size=1)\n",
        "testloader=torch.utils.data.DataLoader(image_datasets['val'],batch_size=1)"
      ],
      "metadata": {
        "colab": {
          "base_uri": "https://localhost:8080/"
        },
        "id": "0n-3LHDJOSMe",
        "outputId": "4e045a29-c7f3-41db-eb34-b7079ed7e1f9"
      },
      "execution_count": 24,
      "outputs": [
        {
          "output_type": "stream",
          "name": "stdout",
          "text": [
            "\n",
            "Getting the Probability Distribution\n"
          ]
        }
      ]
    },
    {
      "cell_type": "code",
      "source": [
        "model=model.eval()"
      ],
      "metadata": {
        "id": "lN_9mxybOX_S"
      },
      "execution_count": 25,
      "outputs": []
    },
    {
      "cell_type": "code",
      "source": [
        "correct = 0\n",
        "total = 0\n",
        "data_dir = \"Ensemble-Pneumonia-Detection/train_csv\"\n",
        "#Train Probabilities\n",
        "f = open(data_dir+\"/vgg16_bn_train.csv\",'w+',newline = '')\n",
        "writer = csv.writer(f)\n",
        "saving = []\n",
        "with torch.no_grad():\n",
        "      num = 0\n",
        "      temp_array = np.zeros((len(trainloader),num_classes))\n",
        "      for i,data in enumerate(trainloader):\n",
        "          images, labels = data\n",
        "          sample_fname, _ = trainloader.dataset.samples[i]\n",
        "          labels=labels.cuda()\n",
        "          outputs = model(images.cuda())\n",
        "          _, predicted = torch.max(outputs, 1)\n",
        "          total += labels.size(0)\n",
        "          correct += (predicted == labels.cuda()).sum().item()\n",
        "          prob = torch.nn.functional.softmax(outputs, dim=1)\n",
        "          saving.append(sample_fname.split('/')[-1])\n",
        "          temp_array[num] = np.asarray(prob[0].tolist()[0:num_classes])\n",
        "          num+=1\n",
        "print(\"Train Accuracy = \",100*correct/total)\n",
        "for i in range(len(trainloader)):\n",
        "  k = temp_array[i].tolist()\n",
        "  k.append(saving[i])\n",
        "  writer.writerow(k)\n",
        "\n",
        "f.close()"
      ],
      "metadata": {
        "colab": {
          "base_uri": "https://localhost:8080/"
        },
        "id": "KpY9mc9XOah8",
        "outputId": "df216493-8c92-4a62-e8ac-e87e7159715e"
      },
      "execution_count": 26,
      "outputs": [
        {
          "output_type": "stream",
          "name": "stdout",
          "text": [
            "Train Accuracy =  98.6579754601227\n"
          ]
        }
      ]
    },
    {
      "cell_type": "code",
      "source": [
        "data_dir = \"Ensemble-Pneumonia-Detection\"\n",
        "\n",
        "f = open(data_dir+\"/train_labels.csv\",'w+',newline = '')\n",
        "writer = csv.writer(f)\n",
        "for i,data in enumerate(testloader):\n",
        "  _, labels = data\n",
        "  sample_fname, _ = testloader.dataset.samples[i]\n",
        "  sample = sample_fname.split('/')[-1]\n",
        "  lab = labels.tolist()[0]\n",
        "  writer.writerow([sample,lab])\n",
        "f.close()"
      ],
      "metadata": {
        "id": "TfY_ZT27OeED"
      },
      "execution_count": 27,
      "outputs": []
    },
    {
      "cell_type": "code",
      "source": [
        "data_dir = \"Ensemble-Pneumonia-Detection/test_csv\"\n",
        "\n",
        "#Test Probabilities\n",
        "f = open(data_dir+\"/vgg16_bn_test.csv\",'w+',newline = '')\n",
        "writer = csv.writer(f)\n",
        "saving = []\n",
        "with torch.no_grad():\n",
        "      num = 0\n",
        "      temp_array = np.zeros((len(testloader),num_classes))\n",
        "      for i,data in enumerate(testloader):\n",
        "          images, labels = data\n",
        "          sample_fname, _ = testloader.dataset.samples[i]\n",
        "          labels=labels.cuda()\n",
        "          outputs = model(images.cuda())\n",
        "          _, predicted = torch.max(outputs, 1)\n",
        "          total += labels.size(0)\n",
        "          correct += (predicted == labels.cuda()).sum().item()\n",
        "          prob = torch.nn.functional.softmax(outputs, dim=1)\n",
        "          saving.append(sample_fname.split('/')[-1])\n",
        "          temp_array[num] = np.asarray(prob[0].tolist()[0:num_classes])\n",
        "          num+=1\n",
        "print(\"Test Accuracy = \",100*correct/total)\n",
        "for i in range(len(testloader)):\n",
        "  k = temp_array[i].tolist()\n",
        "  k.append(saving[i])\n",
        "  writer.writerow(k)\n",
        "\n",
        "f.close()"
      ],
      "metadata": {
        "colab": {
          "base_uri": "https://localhost:8080/"
        },
        "id": "0w2rBsQIOgYe",
        "outputId": "88afaa80-6fc0-4343-b98c-a778ae17f285"
      },
      "execution_count": 28,
      "outputs": [
        {
          "output_type": "stream",
          "name": "stdout",
          "text": [
            "Test Accuracy =  97.3360655737705\n"
          ]
        }
      ]
    },
    {
      "cell_type": "code",
      "source": [
        "data_dir = \"Ensemble-Pneumonia-Detection\"\n",
        "\n",
        "f = open(data_dir+\"/test_labels.csv\",'w+',newline = '')\n",
        "writer = csv.writer(f)\n",
        "for i,data in enumerate(testloader):\n",
        "  _, labels = data\n",
        "  sample_fname, _ = testloader.dataset.samples[i]\n",
        "  sample = sample_fname.split('/')[-1]\n",
        "  lab = labels.tolist()[0]\n",
        "  writer.writerow([sample,lab])\n",
        "f.close()"
      ],
      "metadata": {
        "id": "aZDF4u6pOisQ"
      },
      "execution_count": 29,
      "outputs": []
    }
  ]
}