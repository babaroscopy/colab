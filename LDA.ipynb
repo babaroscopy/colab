{
  "nbformat": 4,
  "nbformat_minor": 0,
  "metadata": {
    "colab": {
      "name": "LDA.ipynb",
      "provenance": [],
      "collapsed_sections": [],
      "authorship_tag": "ABX9TyMweP5Ai1xT4ttDbyiMaGOC",
      "include_colab_link": true
    },
    "kernelspec": {
      "name": "python3",
      "display_name": "Python 3"
    },
    "language_info": {
      "name": "python"
    }
  },
  "cells": [
    {
      "cell_type": "markdown",
      "metadata": {
        "id": "view-in-github",
        "colab_type": "text"
      },
      "source": [
        "<a href=\"https://colab.research.google.com/github/babaroscopy/colab/blob/main/LDA.ipynb\" target=\"_parent\"><img src=\"https://colab.research.google.com/assets/colab-badge.svg\" alt=\"Open In Colab\"/></a>"
      ]
    },
    {
      "cell_type": "code",
      "metadata": {
        "id": "gIZtWsqaT4zu"
      },
      "source": [
        "import numpy as np\n",
        "import matplotlib.pyplot as plt\n",
        "from sklearn.model_selection import train_test_split\n",
        "from sklearn.datasets import load_iris\n",
        "from sklearn.datasets import load_wine\n",
        "from sklearn.datasets import load_breast_cancer"
      ],
      "execution_count": null,
      "outputs": []
    },
    {
      "cell_type": "code",
      "metadata": {
        "id": "jr6iLUm3T7Sc"
      },
      "source": [
        "class LDA:\n",
        "    def __init__(self, n_components=None):\n",
        "        self.n_components = n_components\n",
        "        self.eig_vectors = None\n",
        "    \n",
        "    def transform(self,X,y):        #to reduce the dimensions of the input data\n",
        "        height, width = X.shape\n",
        "        unique_classes = np.unique(y)\n",
        "        num_classes = len(unique_classes)\n",
        "        # scatter_b = sum( num_classes * (mean_X_c - mean_overall)^2 )\n",
        "        scatter_t = np.cov(X.T)*(height - 1)\n",
        "        scatter_w = 0       #scatter_w matrix denotes the intra-class covariance\n",
        "        # scatter_w = sum((X_c - mean_X_c)^2 )\n",
        "        for i in range(num_classes):\n",
        "            class_items = np.flatnonzero(y == unique_classes[i])\n",
        "            scatter_w = scatter_w + np.cov(X[class_items].T) * (len(class_items)-1)\n",
        "        \n",
        "        scatter_b = scatter_t - scatter_w       #scatter_b is the inter-class covariance matrix\n",
        "        # An eigenvector is a vector whose direction remains unchanged when a linear transformation is applied to it. \n",
        "        _, eig_vectors = np.linalg.eigh(np.linalg.pinv(scatter_w).dot(scatter_b))\n",
        "        print(eig_vectors.shape)\n",
        "        pc = X.dot(eig_vectors[:,::-1][:,:self.n_components])       #The first n_components are selected using the slicing operation\n",
        "        print(pc.shape)\n",
        "\n",
        "\n",
        "#If n_components is equal to 2, we plot the two components, considering each vector as one axis\n",
        "        if self.n_components == 2:\n",
        "            if y is None:\n",
        "                plt.scatter(pc[:,0],pc[:,1])\n",
        "            else:\n",
        "                colors = ['r','g','b']\n",
        "                labels = np.unique(y)\n",
        "                for color, label in zip(colors, labels):\n",
        "                    class_data = pc[np.flatnonzero(y==label)]\n",
        "                    plt.scatter(class_data[:,0],class_data[:,1],c=color)\n",
        "            plt.show()\n",
        "        return pc"
      ],
      "execution_count": null,
      "outputs": []
    },
    {
      "cell_type": "code",
      "metadata": {
        "id": "gzu-rFOQT_o0"
      },
      "source": [
        "LDA_obj = LDA(n_components=2)\n",
        "data = load_iris()\n",
        "X, y = data.data, data.target\n",
        "X_train, X_test, Y_train, Y_test = train_test_split(X, y, test_size=0.2)"
      ],
      "execution_count": null,
      "outputs": []
    },
    {
      "cell_type": "code",
      "metadata": {
        "colab": {
          "base_uri": "https://localhost:8080/",
          "height": 335
        },
        "id": "DnTWRx3YUF5b",
        "outputId": "b6cc8a67-b814-4a17-c845-a025ec99e283"
      },
      "source": [
        "LDA_object = LDA(n_components=2)\n",
        "X_train_modified = LDA_object.transform(X_train, Y_train)\n",
        "print(\"Original Data Size (Iris):\",X_train.shape, \"\\nModified Data Size (Iris):\", X_train_modified.shape)"
      ],
      "execution_count": null,
      "outputs": [
        {
          "output_type": "stream",
          "name": "stdout",
          "text": [
            "(4, 4)\n",
            "(120, 2)\n"
          ]
        },
        {
          "output_type": "display_data",
          "data": {
            "image/png": "[encoded data removed]",
            "text/plain": [
              "<Figure size 432x288 with 1 Axes>"
            ]
          },
          "metadata": {
            "needs_background": "light"
          }
        },
        {
          "output_type": "stream",
          "name": "stdout",
          "text": [
            "Original Data Size (Iris): (120, 4) \n",
            "Modified Data Size (Iris): (120, 2)\n"
          ]
        }
      ]
    },
    {
      "cell_type": "code",
      "metadata": {
        "id": "KQgzZXg3UJtK"
      },
      "source": [
        "LDA_obj = LDA(n_components=3)\n",
        "data = load_wine()\n",
        "X, y = data.data, data.target\n",
        "X_train, X_test, Y_train, Y_test = train_test_split(X, y, test_size=0.2)"
      ],
      "execution_count": null,
      "outputs": []
    },
    {
      "cell_type": "code",
      "metadata": {
        "colab": {
          "base_uri": "https://localhost:8080/"
        },
        "id": "gglVxHabUNc8",
        "outputId": "14226b43-ecf2-4f95-9625-8731edf738f3"
      },
      "source": [
        "LDA_object = LDA(n_components=3)\n",
        "X_train_modified = LDA_object.transform(X_train, Y_train)\n",
        "print(\"Original Data Size (Wine):\",X_train.shape, \"\\nModified Data Size (Wine):\", X_train_modified.shape)"
      ],
      "execution_count": null,
      "outputs": [
        {
          "output_type": "stream",
          "name": "stdout",
          "text": [
            "(13, 13)\n",
            "(142, 3)\n",
            "Original Data Size (Wine): (142, 13) \n",
            "Modified Data Size (Wine): (142, 3)\n"
          ]
        }
      ]
    },
    {
      "cell_type": "code",
      "metadata": {
        "id": "7cCbxENyUQ7k"
      },
      "source": [
        "LDA_obj = LDA(n_components=2)\n",
        "data = load_breast_cancer()\n",
        "X, y = data.data, data.target\n",
        "X_train, X_test, Y_train, Y_test = train_test_split(X, y, test_size=0.2)"
      ],
      "execution_count": null,
      "outputs": []
    },
    {
      "cell_type": "code",
      "metadata": {
        "colab": {
          "base_uri": "https://localhost:8080/",
          "height": 334
        },
        "id": "U2enr4ymUT38",
        "outputId": "6b3f97e9-ab50-410a-813b-617cc901ee5d"
      },
      "source": [
        "LDA_object = LDA(n_components=2)\n",
        "X_train_modified = LDA_object.transform(X_train, Y_train)\n",
        "print(\"Original Data Size (Breast Cancer):\",X_train.shape, \"\\nModified Data Size (Breast Cancer):\", X_train_modified.shape)"
      ],
      "execution_count": null,
      "outputs": [
        {
          "output_type": "stream",
          "name": "stdout",
          "text": [
            "(30, 30)\n",
            "(455, 2)\n"
          ]
        },
        {
          "output_type": "display_data",
          "data": {
            "image/png": "[encoded data removed]",
            "text/plain": [
              "<Figure size 432x288 with 1 Axes>"
            ]
          },
          "metadata": {
            "needs_background": "light"
          }
        },
        {
          "output_type": "stream",
          "name": "stdout",
          "text": [
            "Original Data Size (Breast Cancer): (455, 30) \n",
            "Modified Data Size (Breast Cancer): (455, 2)\n"
          ]
        }
      ]
    }
  ]
}